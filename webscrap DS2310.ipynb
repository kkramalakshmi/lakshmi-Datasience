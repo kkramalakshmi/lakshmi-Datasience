{
 "cells": [
  {
   "cell_type": "code",
   "execution_count": 1,
   "id": "edfa9264",
   "metadata": {},
   "outputs": [
    {
     "name": "stdout",
     "output_type": "stream",
     "text": [
      "Requirement already satisfied: selenium in c:\\users\\public\\python\\lib\\site-packages (4.15.2)\n",
      "Requirement already satisfied: trio~=0.17 in c:\\users\\public\\python\\lib\\site-packages (from selenium) (0.23.1)\n",
      "Requirement already satisfied: certifi>=2021.10.8 in c:\\users\\public\\python\\lib\\site-packages (from selenium) (2022.12.7)\n",
      "Requirement already satisfied: urllib3[socks]<3,>=1.26 in c:\\users\\public\\python\\lib\\site-packages (from selenium) (1.26.14)\n",
      "Requirement already satisfied: trio-websocket~=0.9 in c:\\users\\public\\python\\lib\\site-packages (from selenium) (0.11.1)\n",
      "Requirement already satisfied: sniffio>=1.3.0 in c:\\users\\public\\python\\lib\\site-packages (from trio~=0.17->selenium) (1.3.0)\n",
      "Requirement already satisfied: idna in c:\\users\\public\\python\\lib\\site-packages (from trio~=0.17->selenium) (3.4)\n",
      "Requirement already satisfied: sortedcontainers in c:\\users\\public\\python\\lib\\site-packages (from trio~=0.17->selenium) (2.4.0)\n",
      "Requirement already satisfied: cffi>=1.14 in c:\\users\\public\\python\\lib\\site-packages (from trio~=0.17->selenium) (1.15.1)\n",
      "Requirement already satisfied: exceptiongroup>=1.0.0rc9 in c:\\users\\public\\python\\lib\\site-packages (from trio~=0.17->selenium) (1.2.0)\n",
      "Requirement already satisfied: attrs>=20.1.0 in c:\\users\\public\\python\\lib\\site-packages (from trio~=0.17->selenium) (22.1.0)\n",
      "Requirement already satisfied: outcome in c:\\users\\public\\python\\lib\\site-packages (from trio~=0.17->selenium) (1.3.0.post0)\n",
      "Requirement already satisfied: wsproto>=0.14 in c:\\users\\public\\python\\lib\\site-packages (from trio-websocket~=0.9->selenium) (1.2.0)\n",
      "Requirement already satisfied: PySocks!=1.5.7,<2.0,>=1.5.6 in c:\\users\\public\\python\\lib\\site-packages (from urllib3[socks]<3,>=1.26->selenium) (1.7.1)\n",
      "Requirement already satisfied: pycparser in c:\\users\\public\\python\\lib\\site-packages (from cffi>=1.14->trio~=0.17->selenium) (2.21)\n",
      "Requirement already satisfied: h11<1,>=0.9.0 in c:\\users\\public\\python\\lib\\site-packages (from wsproto>=0.14->trio-websocket~=0.9->selenium) (0.14.0)\n"
     ]
    }
   ],
   "source": [
    "!pip install selenium"
   ]
  },
  {
   "cell_type": "code",
   "execution_count": 2,
   "id": "ed2a394a",
   "metadata": {},
   "outputs": [],
   "source": [
    "import selenium\n",
    "import pandas as pd\n",
    "from selenium import webdriver\n",
    "import warnings\n",
    "warnings.filterwarnings('ignore')\n",
    "from selenium.webdriver.common.by import By\n",
    "import time\n"
   ]
  },
  {
   "cell_type": "code",
   "execution_count": 16,
   "id": "80c80eb6",
   "metadata": {},
   "outputs": [],
   "source": [
    "driver = webdriver.Chrome()"
   ]
  },
  {
   "cell_type": "code",
   "execution_count": 4,
   "id": "1e529198",
   "metadata": {},
   "outputs": [],
   "source": [
    "driver.get(\"https://www.shine.com/\")"
   ]
  },
  {
   "cell_type": "code",
   "execution_count": 5,
   "id": "d5a7fd7f",
   "metadata": {},
   "outputs": [],
   "source": [
    "designation=driver.find_element(By.XPATH,\"/html/body/div/div[1]/div/div/div[1]/div[1]/div/div[2]/div/div/form/div/div[1]/ul/li[1]/div/input\")\n",
    "designation.send_keys('Data Analyst')"
   ]
  },
  {
   "cell_type": "code",
   "execution_count": 6,
   "id": "74ec4dee",
   "metadata": {},
   "outputs": [],
   "source": [
    "location=driver.find_element(By.XPATH,\"/html/body/div/div[1]/div/div/div[1]/div[1]/div/div[2]/div/div/form/div/div[1]/ul/li[2]/div/input\")\n",
    "location.send_keys('Bangalore')"
   ]
  },
  {
   "cell_type": "code",
   "execution_count": 7,
   "id": "2d4ce14d",
   "metadata": {},
   "outputs": [],
   "source": [
    "search=driver.find_element(By.XPATH,\"/html/body/div[1]/div[1]/div/div/div[1]/div[1]/div/div[2]/div/div[1]/form/div/div[2]/div/button\")\n",
    "search.click()"
   ]
  },
  {
   "cell_type": "code",
   "execution_count": 8,
   "id": "c9815fdd",
   "metadata": {},
   "outputs": [],
   "source": [
    "job_title=[] \n",
    "job_location=[]\n",
    "company_name=[]\n",
    "experience_required=[]"
   ]
  },
  {
   "cell_type": "code",
   "execution_count": 17,
   "id": "e51bd582",
   "metadata": {},
   "outputs": [],
   "source": [
    "title_tags=driver.find_elements(By.XPATH,'//h2[@itemprop=\"name\"]')\n",
    "for i in title_tags:\n",
    "    title=i.text\n",
    "    job_title.append(title)\n",
    "location_tags=driver.find_elements(By.XPATH,'//div[@class=\" jobCard_jobCard_lists_item__YxRkV jobCard_locationIcon__zrWt2\"]')\n",
    "for i in location_tags:\n",
    "    location=i.text\n",
    "    job_location.append(location)\n",
    "company_tags=driver.find_elements(By.XPATH,'//div[@class=\"jobCard_jobCard_cName__mYnow\"]')\n",
    "for i in company_tags:\n",
    "    company=i.text\n",
    "    company_name.append(company)\n",
    "experience_tags=driver.find_elements(By.XPATH,'//div[@class=\" jobCard_jobCard_lists_item__YxRkV jobCard_jobIcon__3FB1t\"]')\n",
    "for i in experience_tags:\n",
    "    exp=i.text\n",
    "    experience_required.append(exp)\n"
   ]
  },
  {
   "cell_type": "code",
   "execution_count": 18,
   "id": "1cd02289",
   "metadata": {},
   "outputs": [
    {
     "name": "stdout",
     "output_type": "stream",
     "text": [
      "40 40 40 40\n"
     ]
    }
   ],
   "source": [
    "print(len(job_title),len(job_location),len(company_name),len(experience_required))"
   ]
  },
  {
   "cell_type": "code",
   "execution_count": 19,
   "id": "31777ae8",
   "metadata": {},
   "outputs": [
    {
     "data": {
      "text/html": [
       "<div>\n",
       "<style scoped>\n",
       "    .dataframe tbody tr th:only-of-type {\n",
       "        vertical-align: middle;\n",
       "    }\n",
       "\n",
       "    .dataframe tbody tr th {\n",
       "        vertical-align: top;\n",
       "    }\n",
       "\n",
       "    .dataframe thead th {\n",
       "        text-align: right;\n",
       "    }\n",
       "</style>\n",
       "<table border=\"1\" class=\"dataframe\">\n",
       "  <thead>\n",
       "    <tr style=\"text-align: right;\">\n",
       "      <th></th>\n",
       "      <th>Title</th>\n",
       "      <th>Location</th>\n",
       "      <th>company_name</th>\n",
       "      <th>Experience</th>\n",
       "    </tr>\n",
       "  </thead>\n",
       "  <tbody>\n",
       "    <tr>\n",
       "      <th>0</th>\n",
       "      <td>Data Analyst Recruitment</td>\n",
       "      <td>Bangalore\\n+13</td>\n",
       "      <td>kavya interprises</td>\n",
       "      <td>0 to 4 Yrs</td>\n",
       "    </tr>\n",
       "    <tr>\n",
       "      <th>1</th>\n",
       "      <td>Data Analyst</td>\n",
       "      <td>Bangalore\\n+9</td>\n",
       "      <td>hire connect</td>\n",
       "      <td>0 to 1 Yr</td>\n",
       "    </tr>\n",
       "    <tr>\n",
       "      <th>2</th>\n",
       "      <td>Vacancy For Data Analyst</td>\n",
       "      <td>Bangalore\\n+13</td>\n",
       "      <td>kavya interprises</td>\n",
       "      <td>0 to 4 Yrs</td>\n",
       "    </tr>\n",
       "    <tr>\n",
       "      <th>3</th>\n",
       "      <td>Project Coordinator (Data Analyst) Bangalore</td>\n",
       "      <td>Bangalore</td>\n",
       "      <td>futures and careers</td>\n",
       "      <td>2 to 4 Yrs</td>\n",
       "    </tr>\n",
       "    <tr>\n",
       "      <th>4</th>\n",
       "      <td>Project Coordinator (Data analyst) Bangalore</td>\n",
       "      <td>Bangalore</td>\n",
       "      <td>futures and careers</td>\n",
       "      <td>2 to 4 Yrs</td>\n",
       "    </tr>\n",
       "    <tr>\n",
       "      <th>5</th>\n",
       "      <td>Business Data Analyst - Modeling &amp; Profiling</td>\n",
       "      <td>Bangalore</td>\n",
       "      <td>boyen haddin consulting and technol...</td>\n",
       "      <td>2 to 6 Yrs</td>\n",
       "    </tr>\n",
       "    <tr>\n",
       "      <th>6</th>\n",
       "      <td>Data analyst - Java / Python</td>\n",
       "      <td>Bangalore</td>\n",
       "      <td>boyen haddin consulting and technol...</td>\n",
       "      <td>5 to 10 Yrs</td>\n",
       "    </tr>\n",
       "    <tr>\n",
       "      <th>7</th>\n",
       "      <td>Data Analyst - Java/Python</td>\n",
       "      <td>Bangalore</td>\n",
       "      <td>boyen haddin consulting and technol...</td>\n",
       "      <td>2 to 6 Yrs</td>\n",
       "    </tr>\n",
       "    <tr>\n",
       "      <th>8</th>\n",
       "      <td>Data Analyst - SQL/ Database Maintenance</td>\n",
       "      <td>Bangalore</td>\n",
       "      <td>boyen haddin consulting and technol...</td>\n",
       "      <td>2 to 6 Yrs</td>\n",
       "    </tr>\n",
       "    <tr>\n",
       "      <th>9</th>\n",
       "      <td>Business Data Analyst - Modeling &amp; Profiling</td>\n",
       "      <td>Bangalore</td>\n",
       "      <td>boyen haddin consulting and technol...</td>\n",
       "      <td>2 to 6 Yrs</td>\n",
       "    </tr>\n",
       "    <tr>\n",
       "      <th>10</th>\n",
       "      <td>Data Analyst - Java/Python BANGALORE</td>\n",
       "      <td>Bangalore</td>\n",
       "      <td>boyen haddin consulting and technol...</td>\n",
       "      <td>4 to 8 Yrs</td>\n",
       "    </tr>\n",
       "    <tr>\n",
       "      <th>11</th>\n",
       "      <td>Business Data Analyst - Modeling &amp; Profiling</td>\n",
       "      <td>Bangalore</td>\n",
       "      <td>boyen haddin consulting and technol...</td>\n",
       "      <td>2 to 6 Yrs</td>\n",
       "    </tr>\n",
       "    <tr>\n",
       "      <th>12</th>\n",
       "      <td>hiring for data entry analyst work</td>\n",
       "      <td>Bangalore\\n+9</td>\n",
       "      <td>global solutions..</td>\n",
       "      <td>0 to 1 Yr</td>\n",
       "    </tr>\n",
       "    <tr>\n",
       "      <th>13</th>\n",
       "      <td>Data analyst</td>\n",
       "      <td>Bangalore\\n+9</td>\n",
       "      <td>ok lifecare private limited</td>\n",
       "      <td>1 to 5 Yrs</td>\n",
       "    </tr>\n",
       "    <tr>\n",
       "      <th>14</th>\n",
       "      <td>opening data analyst -Bangalore</td>\n",
       "      <td>Bangalore</td>\n",
       "      <td>provizor it services pvt. ltd.</td>\n",
       "      <td>2 to 5 Yrs</td>\n",
       "    </tr>\n",
       "    <tr>\n",
       "      <th>15</th>\n",
       "      <td>Big Data Business Analyst</td>\n",
       "      <td>Bangalore\\n+1</td>\n",
       "      <td>cynosure corporate solutions..</td>\n",
       "      <td>7 to 12 Yrs</td>\n",
       "    </tr>\n",
       "    <tr>\n",
       "      <th>16</th>\n",
       "      <td>Data Analyst Vacancy</td>\n",
       "      <td>Bangalore\\n+14</td>\n",
       "      <td>divya interprises</td>\n",
       "      <td>0 to 4 Yrs</td>\n",
       "    </tr>\n",
       "    <tr>\n",
       "      <th>17</th>\n",
       "      <td>Data Analyst Vacancy</td>\n",
       "      <td>Bangalore\\n+14</td>\n",
       "      <td>divya interprises</td>\n",
       "      <td>0 to 4 Yrs</td>\n",
       "    </tr>\n",
       "    <tr>\n",
       "      <th>18</th>\n",
       "      <td>Clinical Data Analyst</td>\n",
       "      <td>Bangalore\\n+4</td>\n",
       "      <td>quiscon biotech</td>\n",
       "      <td>0 to 2 Yrs</td>\n",
       "    </tr>\n",
       "    <tr>\n",
       "      <th>19</th>\n",
       "      <td>Senior Tech Lead - Power BI</td>\n",
       "      <td>Bangalore</td>\n",
       "      <td>nustar technologies india private l...</td>\n",
       "      <td>3 to 5 Yrs</td>\n",
       "    </tr>\n",
       "    <tr>\n",
       "      <th>20</th>\n",
       "      <td>Data Analyst</td>\n",
       "      <td>Bangalore\\n+9</td>\n",
       "      <td>v-tech data outsourcing</td>\n",
       "      <td>0 to 2 Yrs</td>\n",
       "    </tr>\n",
       "    <tr>\n",
       "      <th>21</th>\n",
       "      <td>Data Analyst Urgent Recruitment</td>\n",
       "      <td>Bangalore\\n+14</td>\n",
       "      <td>divya interprises</td>\n",
       "      <td>0 to 4 Yrs</td>\n",
       "    </tr>\n",
       "    <tr>\n",
       "      <th>22</th>\n",
       "      <td>Data Analyst Urgent Recruitment</td>\n",
       "      <td>Bangalore\\n+14</td>\n",
       "      <td>divya interprises</td>\n",
       "      <td>0 to 4 Yrs</td>\n",
       "    </tr>\n",
       "    <tr>\n",
       "      <th>23</th>\n",
       "      <td>Data Analyst Urgent Recruitment</td>\n",
       "      <td>Bangalore\\n+14</td>\n",
       "      <td>divya interprises</td>\n",
       "      <td>0 to 4 Yrs</td>\n",
       "    </tr>\n",
       "    <tr>\n",
       "      <th>24</th>\n",
       "      <td>Data Analyst 1</td>\n",
       "      <td>Bangalore</td>\n",
       "      <td>merck ltd</td>\n",
       "      <td>1 to 3 Yrs</td>\n",
       "    </tr>\n",
       "    <tr>\n",
       "      <th>25</th>\n",
       "      <td>Hiring For Data Analyst</td>\n",
       "      <td>Bangalore\\n+14</td>\n",
       "      <td>divya interprises</td>\n",
       "      <td>0 to 4 Yrs</td>\n",
       "    </tr>\n",
       "    <tr>\n",
       "      <th>26</th>\n",
       "      <td>Clinical Data Analyst</td>\n",
       "      <td>Bangalore\\n+6</td>\n",
       "      <td>techno endura</td>\n",
       "      <td>0 to 1 Yr</td>\n",
       "    </tr>\n",
       "    <tr>\n",
       "      <th>27</th>\n",
       "      <td>Data Analyst (Google Cloud - Big Query 6-10 yrs)</td>\n",
       "      <td>Bangalore</td>\n",
       "      <td>cisco systems, inc.</td>\n",
       "      <td>5 to 10 Yrs</td>\n",
       "    </tr>\n",
       "    <tr>\n",
       "      <th>28</th>\n",
       "      <td>Data Analyst - Java/Python</td>\n",
       "      <td>Bangalore</td>\n",
       "      <td>boyen haddin consulting and technol...</td>\n",
       "      <td>2 to 6 Yrs</td>\n",
       "    </tr>\n",
       "    <tr>\n",
       "      <th>29</th>\n",
       "      <td>Data Analyst - Java/Python</td>\n",
       "      <td>Bangalore</td>\n",
       "      <td>boyen haddin consulting and technol...</td>\n",
       "      <td>2 to 6 Yrs</td>\n",
       "    </tr>\n",
       "    <tr>\n",
       "      <th>30</th>\n",
       "      <td>Data Analyst- HR</td>\n",
       "      <td>Bangalore</td>\n",
       "      <td>paytm</td>\n",
       "      <td>2 to 4 Yrs</td>\n",
       "    </tr>\n",
       "    <tr>\n",
       "      <th>31</th>\n",
       "      <td>MS Power BI Professional - Data Analytics Expr...</td>\n",
       "      <td>Bangalore</td>\n",
       "      <td>boyen haddin consulting and technol...</td>\n",
       "      <td>2 to 6 Yrs</td>\n",
       "    </tr>\n",
       "    <tr>\n",
       "      <th>32</th>\n",
       "      <td>Power BI Specialist - Data Modeling</td>\n",
       "      <td>Bangalore</td>\n",
       "      <td>boyen haddin consulting and technol...</td>\n",
       "      <td>2 to 6 Yrs</td>\n",
       "    </tr>\n",
       "    <tr>\n",
       "      <th>33</th>\n",
       "      <td>Data Quality _ SQL</td>\n",
       "      <td>Bangalore</td>\n",
       "      <td>boyen haddin consulting and technol...</td>\n",
       "      <td>2 to 6 Yrs</td>\n",
       "    </tr>\n",
       "    <tr>\n",
       "      <th>34</th>\n",
       "      <td>Data Engineer - ETL/ Python/ Big Data</td>\n",
       "      <td>Bangalore</td>\n",
       "      <td>boyen haddin consulting and technol...</td>\n",
       "      <td>3 to 5 Yrs</td>\n",
       "    </tr>\n",
       "    <tr>\n",
       "      <th>35</th>\n",
       "      <td>Data Analytics - Analyst</td>\n",
       "      <td>Bangalore</td>\n",
       "      <td>jpmorgan</td>\n",
       "      <td>0 to 4 Yrs</td>\n",
       "    </tr>\n",
       "    <tr>\n",
       "      <th>36</th>\n",
       "      <td>Data Analyst</td>\n",
       "      <td>Bangalore</td>\n",
       "      <td>infosys limited</td>\n",
       "      <td>4 to 6 Yrs</td>\n",
       "    </tr>\n",
       "    <tr>\n",
       "      <th>37</th>\n",
       "      <td>Data Quality / Business Analyst - SQL</td>\n",
       "      <td>Bangalore</td>\n",
       "      <td>boyen haddin consulting and technol...</td>\n",
       "      <td>2 to 6 Yrs</td>\n",
       "    </tr>\n",
       "    <tr>\n",
       "      <th>38</th>\n",
       "      <td>Tax Analyst, Data</td>\n",
       "      <td>Bangalore</td>\n",
       "      <td>dell</td>\n",
       "      <td>3 to 5 Yrs</td>\n",
       "    </tr>\n",
       "    <tr>\n",
       "      <th>39</th>\n",
       "      <td>Data Engineer/data Science Consultant</td>\n",
       "      <td>Bangalore</td>\n",
       "      <td>boyen haddin consulting and technol...</td>\n",
       "      <td>2 to 6 Yrs</td>\n",
       "    </tr>\n",
       "  </tbody>\n",
       "</table>\n",
       "</div>"
      ],
      "text/plain": [
       "                                                Title        Location  \\\n",
       "0                            Data Analyst Recruitment  Bangalore\\n+13   \n",
       "1                                        Data Analyst   Bangalore\\n+9   \n",
       "2                            Vacancy For Data Analyst  Bangalore\\n+13   \n",
       "3        Project Coordinator (Data Analyst) Bangalore       Bangalore   \n",
       "4        Project Coordinator (Data analyst) Bangalore       Bangalore   \n",
       "5        Business Data Analyst - Modeling & Profiling       Bangalore   \n",
       "6                        Data analyst - Java / Python       Bangalore   \n",
       "7                          Data Analyst - Java/Python       Bangalore   \n",
       "8            Data Analyst - SQL/ Database Maintenance       Bangalore   \n",
       "9        Business Data Analyst - Modeling & Profiling       Bangalore   \n",
       "10               Data Analyst - Java/Python BANGALORE       Bangalore   \n",
       "11       Business Data Analyst - Modeling & Profiling       Bangalore   \n",
       "12                 hiring for data entry analyst work   Bangalore\\n+9   \n",
       "13                                       Data analyst   Bangalore\\n+9   \n",
       "14                    opening data analyst -Bangalore       Bangalore   \n",
       "15                          Big Data Business Analyst   Bangalore\\n+1   \n",
       "16                               Data Analyst Vacancy  Bangalore\\n+14   \n",
       "17                               Data Analyst Vacancy  Bangalore\\n+14   \n",
       "18                              Clinical Data Analyst   Bangalore\\n+4   \n",
       "19                        Senior Tech Lead - Power BI       Bangalore   \n",
       "20                                       Data Analyst   Bangalore\\n+9   \n",
       "21                    Data Analyst Urgent Recruitment  Bangalore\\n+14   \n",
       "22                    Data Analyst Urgent Recruitment  Bangalore\\n+14   \n",
       "23                    Data Analyst Urgent Recruitment  Bangalore\\n+14   \n",
       "24                                     Data Analyst 1       Bangalore   \n",
       "25                            Hiring For Data Analyst  Bangalore\\n+14   \n",
       "26                              Clinical Data Analyst   Bangalore\\n+6   \n",
       "27   Data Analyst (Google Cloud - Big Query 6-10 yrs)       Bangalore   \n",
       "28                         Data Analyst - Java/Python       Bangalore   \n",
       "29                         Data Analyst - Java/Python       Bangalore   \n",
       "30                                   Data Analyst- HR       Bangalore   \n",
       "31  MS Power BI Professional - Data Analytics Expr...       Bangalore   \n",
       "32                Power BI Specialist - Data Modeling       Bangalore   \n",
       "33                                 Data Quality _ SQL       Bangalore   \n",
       "34              Data Engineer - ETL/ Python/ Big Data       Bangalore   \n",
       "35                           Data Analytics - Analyst       Bangalore   \n",
       "36                                       Data Analyst       Bangalore   \n",
       "37              Data Quality / Business Analyst - SQL       Bangalore   \n",
       "38                                  Tax Analyst, Data       Bangalore   \n",
       "39              Data Engineer/data Science Consultant       Bangalore   \n",
       "\n",
       "                              company_name   Experience  \n",
       "0                        kavya interprises   0 to 4 Yrs  \n",
       "1                             hire connect    0 to 1 Yr  \n",
       "2                        kavya interprises   0 to 4 Yrs  \n",
       "3                      futures and careers   2 to 4 Yrs  \n",
       "4                      futures and careers   2 to 4 Yrs  \n",
       "5   boyen haddin consulting and technol...   2 to 6 Yrs  \n",
       "6   boyen haddin consulting and technol...  5 to 10 Yrs  \n",
       "7   boyen haddin consulting and technol...   2 to 6 Yrs  \n",
       "8   boyen haddin consulting and technol...   2 to 6 Yrs  \n",
       "9   boyen haddin consulting and technol...   2 to 6 Yrs  \n",
       "10  boyen haddin consulting and technol...   4 to 8 Yrs  \n",
       "11  boyen haddin consulting and technol...   2 to 6 Yrs  \n",
       "12                      global solutions..    0 to 1 Yr  \n",
       "13             ok lifecare private limited   1 to 5 Yrs  \n",
       "14          provizor it services pvt. ltd.   2 to 5 Yrs  \n",
       "15          cynosure corporate solutions..  7 to 12 Yrs  \n",
       "16                       divya interprises   0 to 4 Yrs  \n",
       "17                       divya interprises   0 to 4 Yrs  \n",
       "18                         quiscon biotech   0 to 2 Yrs  \n",
       "19  nustar technologies india private l...   3 to 5 Yrs  \n",
       "20                 v-tech data outsourcing   0 to 2 Yrs  \n",
       "21                       divya interprises   0 to 4 Yrs  \n",
       "22                       divya interprises   0 to 4 Yrs  \n",
       "23                       divya interprises   0 to 4 Yrs  \n",
       "24                               merck ltd   1 to 3 Yrs  \n",
       "25                       divya interprises   0 to 4 Yrs  \n",
       "26                           techno endura    0 to 1 Yr  \n",
       "27                     cisco systems, inc.  5 to 10 Yrs  \n",
       "28  boyen haddin consulting and technol...   2 to 6 Yrs  \n",
       "29  boyen haddin consulting and technol...   2 to 6 Yrs  \n",
       "30                                   paytm   2 to 4 Yrs  \n",
       "31  boyen haddin consulting and technol...   2 to 6 Yrs  \n",
       "32  boyen haddin consulting and technol...   2 to 6 Yrs  \n",
       "33  boyen haddin consulting and technol...   2 to 6 Yrs  \n",
       "34  boyen haddin consulting and technol...   3 to 5 Yrs  \n",
       "35                                jpmorgan   0 to 4 Yrs  \n",
       "36                         infosys limited   4 to 6 Yrs  \n",
       "37  boyen haddin consulting and technol...   2 to 6 Yrs  \n",
       "38                                    dell   3 to 5 Yrs  \n",
       "39  boyen haddin consulting and technol...   2 to 6 Yrs  "
      ]
     },
     "execution_count": 19,
     "metadata": {},
     "output_type": "execute_result"
    }
   ],
   "source": [
    "import pandas as pd\n",
    "df=pd.DataFrame({'Title':job_title,'Location':job_location,'company_name':company_name,'Experience':experience_required})\n",
    "df"
   ]
  },
  {
   "cell_type": "code",
   "execution_count": 20,
   "id": "2bf82052",
   "metadata": {},
   "outputs": [],
   "source": [
    "title_tags=driver.find_elements(By.XPATH,'//h2[@itemprop=\"name\"]')\n",
    "for i in title_tags:\n",
    "    title=i.text\n",
    "    job_title.append(title)\n",
    "    job_title[:10]\n",
    "location_tags=driver.find_elements(By.XPATH,'//div[@class=\" jobCard_jobCard_lists_item__YxRkV jobCard_locationIcon__zrWt2\"]')\n",
    "for i in location_tags:\n",
    "    location=i.text\n",
    "    job_location.append(location)\n",
    "    job_location[:10]\n",
    "company_tags=driver.find_elements(By.XPATH,'//div[@class=\"jobCard_jobCard_cName__mYnow\"]')\n",
    "for i in company_tags:\n",
    "    company=i.text\n",
    "    company_name.append(company)\n",
    "    company_name[:10]\n",
    "experience_tags=driver.find_elements(By.XPATH,'//div[@class=\" jobCard_jobCard_lists_item__YxRkV jobCard_jobIcon__3FB1t\"]')\n",
    "for i in experience_tags:\n",
    "    exp=i.text\n",
    "    experience_required.append(exp)\n",
    "    experience_required[:10]"
   ]
  },
  {
   "cell_type": "code",
   "execution_count": 21,
   "id": "8f4d107e",
   "metadata": {},
   "outputs": [
    {
     "name": "stdout",
     "output_type": "stream",
     "text": [
      "10 10 10 10\n"
     ]
    }
   ],
   "source": [
    "print(len(job_title[:10]),len(job_location[:10]),len(company_name[:10]),len(experience_required[:10]))"
   ]
  },
  {
   "cell_type": "code",
   "execution_count": 22,
   "id": "8eaf19cf",
   "metadata": {},
   "outputs": [
    {
     "data": {
      "text/html": [
       "<div>\n",
       "<style scoped>\n",
       "    .dataframe tbody tr th:only-of-type {\n",
       "        vertical-align: middle;\n",
       "    }\n",
       "\n",
       "    .dataframe tbody tr th {\n",
       "        vertical-align: top;\n",
       "    }\n",
       "\n",
       "    .dataframe thead th {\n",
       "        text-align: right;\n",
       "    }\n",
       "</style>\n",
       "<table border=\"1\" class=\"dataframe\">\n",
       "  <thead>\n",
       "    <tr style=\"text-align: right;\">\n",
       "      <th></th>\n",
       "      <th>Title</th>\n",
       "      <th>Location</th>\n",
       "      <th>company_name</th>\n",
       "      <th>Experience</th>\n",
       "    </tr>\n",
       "  </thead>\n",
       "  <tbody>\n",
       "    <tr>\n",
       "      <th>0</th>\n",
       "      <td>Data Analyst Recruitment</td>\n",
       "      <td>Bangalore\\n+13</td>\n",
       "      <td>kavya interprises</td>\n",
       "      <td>0 to 4 Yrs</td>\n",
       "    </tr>\n",
       "    <tr>\n",
       "      <th>1</th>\n",
       "      <td>Data Analyst</td>\n",
       "      <td>Bangalore\\n+9</td>\n",
       "      <td>hire connect</td>\n",
       "      <td>0 to 1 Yr</td>\n",
       "    </tr>\n",
       "    <tr>\n",
       "      <th>2</th>\n",
       "      <td>Vacancy For Data Analyst</td>\n",
       "      <td>Bangalore\\n+13</td>\n",
       "      <td>kavya interprises</td>\n",
       "      <td>0 to 4 Yrs</td>\n",
       "    </tr>\n",
       "    <tr>\n",
       "      <th>3</th>\n",
       "      <td>Project Coordinator (Data Analyst) Bangalore</td>\n",
       "      <td>Bangalore</td>\n",
       "      <td>futures and careers</td>\n",
       "      <td>2 to 4 Yrs</td>\n",
       "    </tr>\n",
       "    <tr>\n",
       "      <th>4</th>\n",
       "      <td>Project Coordinator (Data analyst) Bangalore</td>\n",
       "      <td>Bangalore</td>\n",
       "      <td>futures and careers</td>\n",
       "      <td>2 to 4 Yrs</td>\n",
       "    </tr>\n",
       "    <tr>\n",
       "      <th>5</th>\n",
       "      <td>Business Data Analyst - Modeling &amp; Profiling</td>\n",
       "      <td>Bangalore</td>\n",
       "      <td>boyen haddin consulting and technol...</td>\n",
       "      <td>2 to 6 Yrs</td>\n",
       "    </tr>\n",
       "    <tr>\n",
       "      <th>6</th>\n",
       "      <td>Data analyst - Java / Python</td>\n",
       "      <td>Bangalore</td>\n",
       "      <td>boyen haddin consulting and technol...</td>\n",
       "      <td>5 to 10 Yrs</td>\n",
       "    </tr>\n",
       "    <tr>\n",
       "      <th>7</th>\n",
       "      <td>Data Analyst - Java/Python</td>\n",
       "      <td>Bangalore</td>\n",
       "      <td>boyen haddin consulting and technol...</td>\n",
       "      <td>2 to 6 Yrs</td>\n",
       "    </tr>\n",
       "    <tr>\n",
       "      <th>8</th>\n",
       "      <td>Data Analyst - SQL/ Database Maintenance</td>\n",
       "      <td>Bangalore</td>\n",
       "      <td>boyen haddin consulting and technol...</td>\n",
       "      <td>2 to 6 Yrs</td>\n",
       "    </tr>\n",
       "    <tr>\n",
       "      <th>9</th>\n",
       "      <td>Business Data Analyst - Modeling &amp; Profiling</td>\n",
       "      <td>Bangalore</td>\n",
       "      <td>boyen haddin consulting and technol...</td>\n",
       "      <td>2 to 6 Yrs</td>\n",
       "    </tr>\n",
       "  </tbody>\n",
       "</table>\n",
       "</div>"
      ],
      "text/plain": [
       "                                          Title        Location  \\\n",
       "0                      Data Analyst Recruitment  Bangalore\\n+13   \n",
       "1                                  Data Analyst   Bangalore\\n+9   \n",
       "2                      Vacancy For Data Analyst  Bangalore\\n+13   \n",
       "3  Project Coordinator (Data Analyst) Bangalore       Bangalore   \n",
       "4  Project Coordinator (Data analyst) Bangalore       Bangalore   \n",
       "5  Business Data Analyst - Modeling & Profiling       Bangalore   \n",
       "6                  Data analyst - Java / Python       Bangalore   \n",
       "7                    Data Analyst - Java/Python       Bangalore   \n",
       "8      Data Analyst - SQL/ Database Maintenance       Bangalore   \n",
       "9  Business Data Analyst - Modeling & Profiling       Bangalore   \n",
       "\n",
       "                             company_name   Experience  \n",
       "0                       kavya interprises   0 to 4 Yrs  \n",
       "1                            hire connect    0 to 1 Yr  \n",
       "2                       kavya interprises   0 to 4 Yrs  \n",
       "3                     futures and careers   2 to 4 Yrs  \n",
       "4                     futures and careers   2 to 4 Yrs  \n",
       "5  boyen haddin consulting and technol...   2 to 6 Yrs  \n",
       "6  boyen haddin consulting and technol...  5 to 10 Yrs  \n",
       "7  boyen haddin consulting and technol...   2 to 6 Yrs  \n",
       "8  boyen haddin consulting and technol...   2 to 6 Yrs  \n",
       "9  boyen haddin consulting and technol...   2 to 6 Yrs  "
      ]
     },
     "execution_count": 22,
     "metadata": {},
     "output_type": "execute_result"
    }
   ],
   "source": [
    "import pandas as pd\n",
    "df=pd.DataFrame({'Title':job_title[:10],'Location':job_location[:10],'company_name':company_name[:10],'Experience':experience_required[:10]})\n",
    "df"
   ]
  },
  {
   "cell_type": "code",
   "execution_count": 4,
   "id": "1d40aa71",
   "metadata": {},
   "outputs": [],
   "source": [
    "driver.get(\"https://www.shine.com/\")"
   ]
  },
  {
   "cell_type": "code",
   "execution_count": 5,
   "id": "ca8aabfc",
   "metadata": {},
   "outputs": [],
   "source": [
    "designation=driver.find_element(By.XPATH,\"/html/body/div/div[4]/div/div[2]/div[2]/div/form/div/div[1]/ul/li[1]/div/input\")\n",
    "designation.send_keys('Data scientist')"
   ]
  },
  {
   "cell_type": "code",
   "execution_count": 6,
   "id": "e7f40a47",
   "metadata": {},
   "outputs": [],
   "source": [
    "location=driver.find_element(By.XPATH,\"/html/body/div/div[4]/div/div[2]/div[2]/div/form/div/div[1]/ul/li[2]/div/input\")\n",
    "location.send_keys('Bangalore')"
   ]
  },
  {
   "cell_type": "code",
   "execution_count": 7,
   "id": "3f03ef89",
   "metadata": {},
   "outputs": [],
   "source": [
    "search=driver.find_element(By.XPATH,\"/html/body/div[1]/div[1]/div/div/div[1]/div[1]/div/div[2]/div/div[1]/form/div/div[2]/div/button\")\n",
    "search.click()"
   ]
  },
  {
   "cell_type": "code",
   "execution_count": 8,
   "id": "fee4f69c",
   "metadata": {},
   "outputs": [],
   "source": [
    "job_title=[] \n",
    "job_location=[]\n",
    "company_name=[]"
   ]
  },
  {
   "cell_type": "code",
   "execution_count": 9,
   "id": "ee2e4fad",
   "metadata": {},
   "outputs": [],
   "source": [
    "title_tags=driver.find_elements(By.XPATH,'//h2[@itemprop=\"name\"]/a')\n",
    "for i in title_tags:\n",
    "    title=i.text\n",
    "    job_title.append(title)\n",
    "    job_title[:10]\n",
    "location_tags=driver.find_elements(By.XPATH,'//div[@class=\" jobCard_jobCard_lists_item__YxRkV jobCard_locationIcon__zrWt2\"]')\n",
    "for i in location_tags:\n",
    "    location=i.text\n",
    "    job_location.append(location)\n",
    "    job_location[:10]\n",
    "company_tags=driver.find_elements(By.XPATH,'//div[@class=\"jobCard_jobCard_cName__mYnow\"]')\n",
    "for i in company_tags:\n",
    "    company=i.text\n",
    "    company_name.append(company)\n",
    "    company_name[:10]"
   ]
  },
  {
   "cell_type": "code",
   "execution_count": 10,
   "id": "a73de5e3",
   "metadata": {},
   "outputs": [
    {
     "name": "stdout",
     "output_type": "stream",
     "text": [
      "10 10 10\n"
     ]
    }
   ],
   "source": [
    "print(len(job_title[:10]),len(job_location[:10]),len(company_name[:10]))"
   ]
  },
  {
   "cell_type": "code",
   "execution_count": 11,
   "id": "abf45225",
   "metadata": {},
   "outputs": [
    {
     "data": {
      "text/html": [
       "<div>\n",
       "<style scoped>\n",
       "    .dataframe tbody tr th:only-of-type {\n",
       "        vertical-align: middle;\n",
       "    }\n",
       "\n",
       "    .dataframe tbody tr th {\n",
       "        vertical-align: top;\n",
       "    }\n",
       "\n",
       "    .dataframe thead th {\n",
       "        text-align: right;\n",
       "    }\n",
       "</style>\n",
       "<table border=\"1\" class=\"dataframe\">\n",
       "  <thead>\n",
       "    <tr style=\"text-align: right;\">\n",
       "      <th></th>\n",
       "      <th>Title</th>\n",
       "      <th>Location</th>\n",
       "      <th>company_name</th>\n",
       "    </tr>\n",
       "  </thead>\n",
       "  <tbody>\n",
       "    <tr>\n",
       "      <th>0</th>\n",
       "      <td>Data scientist</td>\n",
       "      <td>Bangalore\\n+8</td>\n",
       "      <td>capgemini technology services india...</td>\n",
       "    </tr>\n",
       "    <tr>\n",
       "      <th>1</th>\n",
       "      <td>Data Scientist - Business Intelligence</td>\n",
       "      <td>Bangalore</td>\n",
       "      <td>boyen haddin consulting and technol...</td>\n",
       "    </tr>\n",
       "    <tr>\n",
       "      <th>2</th>\n",
       "      <td>Data Scientist for Bangalore</td>\n",
       "      <td>Bangalore</td>\n",
       "      <td>get hired</td>\n",
       "    </tr>\n",
       "    <tr>\n",
       "      <th>3</th>\n",
       "      <td>Data Scientist - Spark/Python/Redshift</td>\n",
       "      <td>Bangalore</td>\n",
       "      <td>boyen haddin consulting and technol...</td>\n",
       "    </tr>\n",
       "    <tr>\n",
       "      <th>4</th>\n",
       "      <td>Data Scientist - Machine Learning</td>\n",
       "      <td>Bangalore</td>\n",
       "      <td>boyen haddin consulting and technol...</td>\n",
       "    </tr>\n",
       "    <tr>\n",
       "      <th>5</th>\n",
       "      <td>Hiring For Data Scientist</td>\n",
       "      <td>Bangalore\\n+13</td>\n",
       "      <td>kavya interprises</td>\n",
       "    </tr>\n",
       "    <tr>\n",
       "      <th>6</th>\n",
       "      <td>Hiring For Data Scientist</td>\n",
       "      <td>Bangalore\\n+13</td>\n",
       "      <td>kavya interprises</td>\n",
       "    </tr>\n",
       "    <tr>\n",
       "      <th>7</th>\n",
       "      <td>Data Scientist</td>\n",
       "      <td>Bangalore</td>\n",
       "      <td>ibm india pvt. limited</td>\n",
       "    </tr>\n",
       "    <tr>\n",
       "      <th>8</th>\n",
       "      <td>Data Scientist- Associate</td>\n",
       "      <td>Bangalore</td>\n",
       "      <td>jpmorgan</td>\n",
       "    </tr>\n",
       "    <tr>\n",
       "      <th>9</th>\n",
       "      <td>Data Scientist Vacancy</td>\n",
       "      <td>Bangalore\\n+14</td>\n",
       "      <td>divya interprises</td>\n",
       "    </tr>\n",
       "  </tbody>\n",
       "</table>\n",
       "</div>"
      ],
      "text/plain": [
       "                                    Title        Location  \\\n",
       "0                          Data scientist   Bangalore\\n+8   \n",
       "1  Data Scientist - Business Intelligence       Bangalore   \n",
       "2            Data Scientist for Bangalore       Bangalore   \n",
       "3  Data Scientist - Spark/Python/Redshift       Bangalore   \n",
       "4       Data Scientist - Machine Learning       Bangalore   \n",
       "5               Hiring For Data Scientist  Bangalore\\n+13   \n",
       "6               Hiring For Data Scientist  Bangalore\\n+13   \n",
       "7                          Data Scientist       Bangalore   \n",
       "8               Data Scientist- Associate       Bangalore   \n",
       "9                  Data Scientist Vacancy  Bangalore\\n+14   \n",
       "\n",
       "                             company_name  \n",
       "0  capgemini technology services india...  \n",
       "1  boyen haddin consulting and technol...  \n",
       "2                               get hired  \n",
       "3  boyen haddin consulting and technol...  \n",
       "4  boyen haddin consulting and technol...  \n",
       "5                       kavya interprises  \n",
       "6                       kavya interprises  \n",
       "7                  ibm india pvt. limited  \n",
       "8                                jpmorgan  \n",
       "9                       divya interprises  "
      ]
     },
     "execution_count": 11,
     "metadata": {},
     "output_type": "execute_result"
    }
   ],
   "source": [
    "import pandas as pd\n",
    "df=pd.DataFrame({'Title':job_title[:10],'Location':job_location[:10],'company_name':company_name[:10]})\n",
    "df"
   ]
  },
  {
   "cell_type": "code",
   "execution_count": 22,
   "id": "f70d286d",
   "metadata": {},
   "outputs": [],
   "source": [
    "driver = webdriver.Chrome()"
   ]
  },
  {
   "cell_type": "code",
   "execution_count": 14,
   "id": "2581735b",
   "metadata": {},
   "outputs": [],
   "source": [
    "driver.get(\"https://www.shine.com/\")"
   ]
  },
  {
   "cell_type": "code",
   "execution_count": 15,
   "id": "ddb483e1",
   "metadata": {},
   "outputs": [],
   "source": [
    "designation=driver.find_element(By.XPATH,\"/html/body/div/div[1]/div/div/div[1]/div[1]/div/div[2]/div/div/form/div/div[1]/ul/li[1]/div/input\")\n",
    "designation.send_keys('Data scientist')"
   ]
  },
  {
   "cell_type": "code",
   "execution_count": 16,
   "id": "ff822d67",
   "metadata": {},
   "outputs": [],
   "source": [
    "location=driver.find_element(By.XPATH,\"/html/body/div/div[1]/div/div/div[1]/div[1]/div/div[2]/div/div/form/div/div[1]/ul/li[2]/div/input\")\n",
    "location.send_keys('Delhi-ncr Region')"
   ]
  },
  {
   "cell_type": "code",
   "execution_count": 17,
   "id": "6da13d1a",
   "metadata": {},
   "outputs": [],
   "source": [
    "search=driver.find_element(By.XPATH,\"/html/body/div/div[1]/div/div/div[1]/div[1]/div/div[2]/div/div/form/div/div[2]/div/button\")\n",
    "search.click()"
   ]
  },
  {
   "cell_type": "code",
   "execution_count": 18,
   "id": "7c92db17",
   "metadata": {},
   "outputs": [],
   "source": [
    "job_title=[] \n",
    "job_location=[]\n",
    "company_name=[]\n",
    "experience_required=[]"
   ]
  },
  {
   "cell_type": "code",
   "execution_count": 19,
   "id": "7941f7f6",
   "metadata": {},
   "outputs": [],
   "source": [
    "title_tags=driver.find_elements(By.XPATH,'//h2[@itemprop=\"name\"]')\n",
    "for i in title_tags:\n",
    "    title=i.text\n",
    "    job_title.append(title)\n",
    "    job_title[:10]\n",
    "location_tags=driver.find_elements(By.XPATH,'//div[@class=\" jobCard_jobCard_lists_item__YxRkV jobCard_locationIcon__zrWt2\"]')\n",
    "for i in location_tags:\n",
    "    location=i.text\n",
    "    job_location.append(location)\n",
    "    job_location[:10]\n",
    "company_tags=driver.find_elements(By.XPATH,'//div[@class=\"jobCard_jobCard_cName__mYnow\"]')\n",
    "for i in company_tags:\n",
    "    company=i.text\n",
    "    company_name.append(company)\n",
    "    company_name[:10]\n",
    "experience_tags=driver.find_elements(By.XPATH,'//div[@class=\" jobCard_jobCard_lists_item__YxRkV jobCard_jobIcon__3FB1t\"]')\n",
    "for i in experience_tags:\n",
    "    exp=i.text\n",
    "    experience_required.append(exp)\n",
    "    experience_required[:10]"
   ]
  },
  {
   "cell_type": "code",
   "execution_count": 20,
   "id": "b9ae2e58",
   "metadata": {},
   "outputs": [
    {
     "name": "stdout",
     "output_type": "stream",
     "text": [
      "10 10 10 10\n"
     ]
    }
   ],
   "source": [
    "print(len(job_title[:10]),len(job_location[:10]),len(company_name[:10]),len(experience_required[:10]))"
   ]
  },
  {
   "cell_type": "code",
   "execution_count": 21,
   "id": "6c48d52f",
   "metadata": {},
   "outputs": [
    {
     "data": {
      "text/html": [
       "<div>\n",
       "<style scoped>\n",
       "    .dataframe tbody tr th:only-of-type {\n",
       "        vertical-align: middle;\n",
       "    }\n",
       "\n",
       "    .dataframe tbody tr th {\n",
       "        vertical-align: top;\n",
       "    }\n",
       "\n",
       "    .dataframe thead th {\n",
       "        text-align: right;\n",
       "    }\n",
       "</style>\n",
       "<table border=\"1\" class=\"dataframe\">\n",
       "  <thead>\n",
       "    <tr style=\"text-align: right;\">\n",
       "      <th></th>\n",
       "      <th>Title</th>\n",
       "      <th>Location</th>\n",
       "      <th>company_name</th>\n",
       "      <th>Experience</th>\n",
       "    </tr>\n",
       "  </thead>\n",
       "  <tbody>\n",
       "    <tr>\n",
       "      <th>0</th>\n",
       "      <td>Data Scientist for Delhi</td>\n",
       "      <td>Delhi</td>\n",
       "      <td>get hired</td>\n",
       "      <td>0 to 3 Yrs</td>\n",
       "    </tr>\n",
       "    <tr>\n",
       "      <th>1</th>\n",
       "      <td>Data Scientist- Delhi</td>\n",
       "      <td>Delhi</td>\n",
       "      <td>the fashion cosmo</td>\n",
       "      <td>0 to 3 Yrs</td>\n",
       "    </tr>\n",
       "    <tr>\n",
       "      <th>2</th>\n",
       "      <td>Data Scientist-Delhi</td>\n",
       "      <td>Delhi</td>\n",
       "      <td>shiva hr services</td>\n",
       "      <td>0 to 3 Yrs</td>\n",
       "    </tr>\n",
       "    <tr>\n",
       "      <th>3</th>\n",
       "      <td>Clinical Data Management</td>\n",
       "      <td>Delhi\\n+6</td>\n",
       "      <td>techno endura</td>\n",
       "      <td>0 to 1 Yr</td>\n",
       "    </tr>\n",
       "    <tr>\n",
       "      <th>4</th>\n",
       "      <td>Data Scientist- Delhi</td>\n",
       "      <td>Delhi</td>\n",
       "      <td>the fashion cosmo</td>\n",
       "      <td>0 to 3 Yrs</td>\n",
       "    </tr>\n",
       "    <tr>\n",
       "      <th>5</th>\n",
       "      <td>Data Scientist- Delhi</td>\n",
       "      <td>Delhi</td>\n",
       "      <td>the fashion cosmo</td>\n",
       "      <td>0 to 3 Yrs</td>\n",
       "    </tr>\n",
       "    <tr>\n",
       "      <th>6</th>\n",
       "      <td>Data Engineer</td>\n",
       "      <td>Delhi</td>\n",
       "      <td>employberry consultants</td>\n",
       "      <td>4 to 6 Yrs</td>\n",
       "    </tr>\n",
       "    <tr>\n",
       "      <th>7</th>\n",
       "      <td>Clinical Data Manager</td>\n",
       "      <td>Delhi\\n+6</td>\n",
       "      <td>techno endura</td>\n",
       "      <td>0 to 1 Yr</td>\n",
       "    </tr>\n",
       "    <tr>\n",
       "      <th>8</th>\n",
       "      <td>Work Full/part-time / Work From Home / Compute...</td>\n",
       "      <td>Delhi\\n+4</td>\n",
       "      <td>desnor destination pvt. ltd.</td>\n",
       "      <td>0 to 4 Yrs</td>\n",
       "    </tr>\n",
       "    <tr>\n",
       "      <th>9</th>\n",
       "      <td>Typing Work-Data Entry-Computer Operator-Freel...</td>\n",
       "      <td>Delhi\\n+4</td>\n",
       "      <td>desnor destination pvt. ltd.</td>\n",
       "      <td>0 to 4 Yrs</td>\n",
       "    </tr>\n",
       "  </tbody>\n",
       "</table>\n",
       "</div>"
      ],
      "text/plain": [
       "                                               Title   Location  \\\n",
       "0                           Data Scientist for Delhi      Delhi   \n",
       "1                              Data Scientist- Delhi      Delhi   \n",
       "2                               Data Scientist-Delhi      Delhi   \n",
       "3                           Clinical Data Management  Delhi\\n+6   \n",
       "4                              Data Scientist- Delhi      Delhi   \n",
       "5                              Data Scientist- Delhi      Delhi   \n",
       "6                                      Data Engineer      Delhi   \n",
       "7                              Clinical Data Manager  Delhi\\n+6   \n",
       "8  Work Full/part-time / Work From Home / Compute...  Delhi\\n+4   \n",
       "9  Typing Work-Data Entry-Computer Operator-Freel...  Delhi\\n+4   \n",
       "\n",
       "                   company_name  Experience  \n",
       "0                     get hired  0 to 3 Yrs  \n",
       "1             the fashion cosmo  0 to 3 Yrs  \n",
       "2             shiva hr services  0 to 3 Yrs  \n",
       "3                 techno endura   0 to 1 Yr  \n",
       "4             the fashion cosmo  0 to 3 Yrs  \n",
       "5             the fashion cosmo  0 to 3 Yrs  \n",
       "6       employberry consultants  4 to 6 Yrs  \n",
       "7                 techno endura   0 to 1 Yr  \n",
       "8  desnor destination pvt. ltd.  0 to 4 Yrs  \n",
       "9  desnor destination pvt. ltd.  0 to 4 Yrs  "
      ]
     },
     "execution_count": 21,
     "metadata": {},
     "output_type": "execute_result"
    }
   ],
   "source": [
    "import pandas as pd\n",
    "df=pd.DataFrame({'Title':job_title[:10],'Location':job_location[:10],'company_name':company_name[:10],'Experience':experience_required[:10]})\n",
    "df"
   ]
  },
  {
   "cell_type": "code",
   "execution_count": 41,
   "id": "67b7a0e7",
   "metadata": {},
   "outputs": [],
   "source": [
    "driver = webdriver.Chrome()"
   ]
  },
  {
   "cell_type": "code",
   "execution_count": 4,
   "id": "9376de5b",
   "metadata": {},
   "outputs": [],
   "source": [
    "driver.get(\"https://www.flipkart.com/\")"
   ]
  },
  {
   "cell_type": "code",
   "execution_count": 5,
   "id": "c514e8fa",
   "metadata": {},
   "outputs": [],
   "source": [
    "product=driver.find_element(By.XPATH,\"/html/body/div/div/div[1]/div[1]/div[2]/div[2]/form/div/div/input\")\n",
    "product.send_keys('sunglasses')"
   ]
  },
  {
   "cell_type": "code",
   "execution_count": 6,
   "id": "762ee34c",
   "metadata": {},
   "outputs": [
    {
     "data": {
      "text/plain": [
       "<selenium.webdriver.remote.webelement.WebElement (session=\"516302b19c46c9ea5b827c2a94442e40\", element=\"58FDF93B2B93AF1DB724BA956C17ED17_element_189\")>"
      ]
     },
     "execution_count": 6,
     "metadata": {},
     "output_type": "execute_result"
    }
   ],
   "source": [
    "brand=driver.find_element(By.XPATH,\"/html/body/div/div/div[3]/div[1]/div[1]/div[2]/div[1]/div/section[5]/div/div\")\n",
    "brand"
   ]
  },
  {
   "cell_type": "code",
   "execution_count": 7,
   "id": "60ce162d",
   "metadata": {},
   "outputs": [],
   "source": [
    "search=driver.find_element(By.XPATH,\"/html/body/div/div/div[1]/div[1]/div[2]/div[2]/form/div/button\")\n",
    "search.click()"
   ]
  },
  {
   "cell_type": "code",
   "execution_count": 8,
   "id": "f4a8b204",
   "metadata": {},
   "outputs": [],
   "source": [
    "product_name=[] \n",
    "brand_name=[]\n",
    "price=[]"
   ]
  },
  {
   "cell_type": "code",
   "execution_count": 9,
   "id": "9663d561",
   "metadata": {},
   "outputs": [],
   "source": [
    "product_des=driver.find_elements(By.XPATH,'//a[@class=\"IRpwTa\"]')\n",
    "for i in product_des:\n",
    "        product=i.text\n",
    "        product_name.append(product)\n",
    "        product_name[:100]\n",
    "brand_tags=driver.find_elements(By.XPATH,'//div[@class=\"_2WkVRV\"]')\n",
    "for i in brand_tags:\n",
    "        brand=i.text\n",
    "        brand_name.append(brand)\n",
    "        brand_name[:100]\n",
    "price_tags=driver.find_elements(By.XPATH,'//div[@class=\"_30jeq3\"]')\n",
    "for i in price_tags:\n",
    "        cost=i.text\n",
    "        price.append(cost)\n",
    "        price[:100]"
   ]
  },
  {
   "cell_type": "code",
   "execution_count": 10,
   "id": "47f50511",
   "metadata": {},
   "outputs": [
    {
     "name": "stdout",
     "output_type": "stream",
     "text": [
      "36 40 40\n"
     ]
    }
   ],
   "source": [
    "print(len(product_name[:100]),len(brand_name[:100]),len(price[:100]))"
   ]
  },
  {
   "cell_type": "code",
   "execution_count": 11,
   "id": "a9befbd8",
   "metadata": {},
   "outputs": [],
   "source": [
    "product_name=[]"
   ]
  },
  {
   "cell_type": "code",
   "execution_count": 14,
   "id": "49b334c3",
   "metadata": {},
   "outputs": [],
   "source": [
    "start=0\n",
    "end=3\n",
    "for page in range(start,end):\n",
    "    product_des=driver.find_elements(By.XPATH,'//a[@class=\"IRpwTa\"]')\n",
    "    for i in product_des:\n",
    "        product_name.append(i.text)\n",
    "    next_button=driver.find_element(By.XPATH,'/html/body/div/div/div[3]/div[1]/div[2]/div[2]/div/div[2]/div/div/a[1]')\n",
    "    next_button.click()\n",
    "    time.sleep(3)\n",
    "    \n",
    "    "
   ]
  },
  {
   "cell_type": "code",
   "execution_count": 16,
   "id": "46671351",
   "metadata": {},
   "outputs": [
    {
     "data": {
      "text/plain": [
       "100"
      ]
     },
     "execution_count": 16,
     "metadata": {},
     "output_type": "execute_result"
    }
   ],
   "source": [
    "len(product_name[:100])"
   ]
  },
  {
   "cell_type": "code",
   "execution_count": 17,
   "id": "10a763e6",
   "metadata": {},
   "outputs": [],
   "source": [
    "start=0\n",
    "end=3\n",
    "for page in range(start,end):\n",
    "    brand_tags=driver.find_elements(By.XPATH,'//div[@class=\"_2WkVRV\"]')\n",
    "    for i in brand_tags:\n",
    "        brand_name.append(i.text)\n",
    "    next_button=driver.find_element(By.XPATH,'/html/body/div/div/div[3]/div[1]/div[1]/div[2]/div[1]/div/section[5]/div/div')\n",
    "    next_button.click()\n",
    "    time.sleep(3)"
   ]
  },
  {
   "cell_type": "code",
   "execution_count": 18,
   "id": "8ab6ada0",
   "metadata": {},
   "outputs": [
    {
     "data": {
      "text/plain": [
       "100"
      ]
     },
     "execution_count": 18,
     "metadata": {},
     "output_type": "execute_result"
    }
   ],
   "source": [
    "len(brand_name[:100])"
   ]
  },
  {
   "cell_type": "code",
   "execution_count": 19,
   "id": "046c3ee1",
   "metadata": {},
   "outputs": [],
   "source": [
    "start=0\n",
    "end=3\n",
    "for page in range(start,end):\n",
    "    price_tags=driver.find_elements(By.XPATH,'//div[@class=\"_30jeq3\"]')\n",
    "    for i in price_tags:\n",
    "        price.append(i.text)\n",
    "    next_button=driver.find_element(By.XPATH,'/html/body/div[1]/div/div[3]/div[1]/div[2]/div[2]/div/div[3]/div[1]/div/div[1]')\n",
    "    next_button.click()\n",
    "    time.sleep(3)"
   ]
  },
  {
   "cell_type": "code",
   "execution_count": 20,
   "id": "a13c6bdc",
   "metadata": {},
   "outputs": [
    {
     "data": {
      "text/plain": [
       "100"
      ]
     },
     "execution_count": 20,
     "metadata": {},
     "output_type": "execute_result"
    }
   ],
   "source": [
    "len(price[:100])"
   ]
  },
  {
   "cell_type": "code",
   "execution_count": 21,
   "id": "f9d2d5f0",
   "metadata": {},
   "outputs": [
    {
     "data": {
      "text/html": [
       "<div>\n",
       "<style scoped>\n",
       "    .dataframe tbody tr th:only-of-type {\n",
       "        vertical-align: middle;\n",
       "    }\n",
       "\n",
       "    .dataframe tbody tr th {\n",
       "        vertical-align: top;\n",
       "    }\n",
       "\n",
       "    .dataframe thead th {\n",
       "        text-align: right;\n",
       "    }\n",
       "</style>\n",
       "<table border=\"1\" class=\"dataframe\">\n",
       "  <thead>\n",
       "    <tr style=\"text-align: right;\">\n",
       "      <th></th>\n",
       "      <th>product_name</th>\n",
       "      <th>Brand_name</th>\n",
       "      <th>Price</th>\n",
       "    </tr>\n",
       "  </thead>\n",
       "  <tbody>\n",
       "    <tr>\n",
       "      <th>0</th>\n",
       "      <td>Mirrored Aviator Sunglasses (58)</td>\n",
       "      <td>ROYAL SON</td>\n",
       "      <td>₹339</td>\n",
       "    </tr>\n",
       "    <tr>\n",
       "      <th>1</th>\n",
       "      <td>by Lenskart Polarized, UV Protection Rectangul...</td>\n",
       "      <td>VINCENT CHASE</td>\n",
       "      <td>₹883</td>\n",
       "    </tr>\n",
       "    <tr>\n",
       "      <th>2</th>\n",
       "      <td>UV Protection Wayfarer Sunglasses (50)</td>\n",
       "      <td>SRPM</td>\n",
       "      <td>₹149</td>\n",
       "    </tr>\n",
       "    <tr>\n",
       "      <th>3</th>\n",
       "      <td>UV Protection Wayfarer Sunglasses (58)</td>\n",
       "      <td>Fastrack</td>\n",
       "      <td>₹549</td>\n",
       "    </tr>\n",
       "    <tr>\n",
       "      <th>4</th>\n",
       "      <td>UV Protection Wayfarer Sunglasses (53)</td>\n",
       "      <td>Elligator</td>\n",
       "      <td>₹149</td>\n",
       "    </tr>\n",
       "    <tr>\n",
       "      <th>...</th>\n",
       "      <td>...</td>\n",
       "      <td>...</td>\n",
       "      <td>...</td>\n",
       "    </tr>\n",
       "    <tr>\n",
       "      <th>95</th>\n",
       "      <td>Mirrored Aviator Sunglasses (55)</td>\n",
       "      <td>PIRASO</td>\n",
       "      <td>₹269</td>\n",
       "    </tr>\n",
       "    <tr>\n",
       "      <th>96</th>\n",
       "      <td>Polarized, UV Protection Retro Square Sunglass...</td>\n",
       "      <td>VINCENT CHASE</td>\n",
       "      <td>₹1,039</td>\n",
       "    </tr>\n",
       "    <tr>\n",
       "      <th>97</th>\n",
       "      <td>UV Protection, Riding Glasses Rectangular Sung...</td>\n",
       "      <td>john jacobs</td>\n",
       "      <td>₹3,129</td>\n",
       "    </tr>\n",
       "    <tr>\n",
       "      <th>98</th>\n",
       "      <td>UV Protection Wayfarer, Sports, Spectacle , Re...</td>\n",
       "      <td>DEPARTED</td>\n",
       "      <td>₹309</td>\n",
       "    </tr>\n",
       "    <tr>\n",
       "      <th>99</th>\n",
       "      <td>by Lenskart Polarized, UV Protection Aviator S...</td>\n",
       "      <td>Rich Club</td>\n",
       "      <td>₹75</td>\n",
       "    </tr>\n",
       "  </tbody>\n",
       "</table>\n",
       "<p>100 rows × 3 columns</p>\n",
       "</div>"
      ],
      "text/plain": [
       "                                         product_name     Brand_name   Price\n",
       "0                    Mirrored Aviator Sunglasses (58)      ROYAL SON    ₹339\n",
       "1   by Lenskart Polarized, UV Protection Rectangul...  VINCENT CHASE    ₹883\n",
       "2              UV Protection Wayfarer Sunglasses (50)           SRPM    ₹149\n",
       "3              UV Protection Wayfarer Sunglasses (58)       Fastrack    ₹549\n",
       "4              UV Protection Wayfarer Sunglasses (53)      Elligator    ₹149\n",
       "..                                                ...            ...     ...\n",
       "95                   Mirrored Aviator Sunglasses (55)         PIRASO    ₹269\n",
       "96  Polarized, UV Protection Retro Square Sunglass...  VINCENT CHASE  ₹1,039\n",
       "97  UV Protection, Riding Glasses Rectangular Sung...    john jacobs  ₹3,129\n",
       "98  UV Protection Wayfarer, Sports, Spectacle , Re...       DEPARTED    ₹309\n",
       "99  by Lenskart Polarized, UV Protection Aviator S...      Rich Club     ₹75\n",
       "\n",
       "[100 rows x 3 columns]"
      ]
     },
     "execution_count": 21,
     "metadata": {},
     "output_type": "execute_result"
    }
   ],
   "source": [
    "import pandas as pd\n",
    "df=pd.DataFrame({'product_name':product_name[:100],'Brand_name':brand_name[:100],'Price':price[:100]})\n",
    "df"
   ]
  },
  {
   "cell_type": "code",
   "execution_count": 27,
   "id": "70e04e1d",
   "metadata": {},
   "outputs": [],
   "source": [
    "driver.get(\"https://www.flipkart.com/apple-iphone-11-black-64-gb/product\u0002reviews/itm4e5041ba101fd?pid=MOBFWQ6BXGJCEYNY&lid=LSTMOBFWQ6BXGJCEYNYZXSHRJ&market\")"
   ]
  },
  {
   "cell_type": "code",
   "execution_count": 28,
   "id": "3dda9d20",
   "metadata": {},
   "outputs": [],
   "source": [
    "product=driver.find_element(By.XPATH,\"/html/body/div/div/div[1]/div[1]/div[2]/div[2]/form/div/div/input\")\n",
    "product.send_keys('apple iphone 11 black 64gb')"
   ]
  },
  {
   "cell_type": "code",
   "execution_count": 34,
   "id": "58adfb26",
   "metadata": {},
   "outputs": [
    {
     "data": {
      "text/plain": [
       "<selenium.webdriver.remote.webelement.WebElement (session=\"6011bd48d41f2d9f8c8bcaa6464ae688\", element=\"EFBBAEA27114E289285A1EC72FDB2C32_element_971\")>"
      ]
     },
     "execution_count": 34,
     "metadata": {},
     "output_type": "execute_result"
    }
   ],
   "source": [
    "rating=driver.find_element(By.XPATH,\"/html/body/div[1]/div/div[3]/div/div[2]/div[2]/div/div/div/a/div[2]/div[1]/div[2]/span[2]/span/span[1]\")\n",
    "rating"
   ]
  },
  {
   "cell_type": "code",
   "execution_count": 35,
   "id": "23969269",
   "metadata": {},
   "outputs": [],
   "source": [
    "search=driver.find_element(By.XPATH,\"/html/body/div[1]/div/div[1]/div[1]/div[2]/div[2]/form/div/button\")\n",
    "search.click()"
   ]
  },
  {
   "cell_type": "code",
   "execution_count": 36,
   "id": "c657e9b8",
   "metadata": {},
   "outputs": [],
   "source": [
    "Rating=[]\n",
    "Review_summary=[]\n",
    "Full_review=[]"
   ]
  },
  {
   "cell_type": "code",
   "execution_count": 47,
   "id": "1076067f",
   "metadata": {},
   "outputs": [],
   "source": [
    "for page in range(0,5):\n",
    "    rating_tag=driver.find_elements(By.XPATH,'//div[@class=\"_3LWZlK _1BLPMq\"]')\n",
    "    for i in rating_tag:\n",
    "            rating=i.text\n",
    "            Rating.append(rating)\n",
    "            Rating[:100]\n",
    "    review_tag=driver.find_elements(By.XPATH,'//p[@class=\"_2-N8zT\"]')\n",
    "    for i in review_tag:\n",
    "            review=i.text\n",
    "            Review_summary.append(review)\n",
    "            Review_summary[:100]\n",
    "    full_review=driver.find_elements(By.XPATH,'//div[@class=\"t-ZTKy\"]')\n",
    "    for i in full_review:\n",
    "            f_review=i.text\n",
    "            Full_review.append(f_review)\n",
    "            Full_review[:100]"
   ]
  },
  {
   "cell_type": "code",
   "execution_count": 48,
   "id": "db115005",
   "metadata": {},
   "outputs": [
    {
     "name": "stdout",
     "output_type": "stream",
     "text": [
      "100 100 100\n"
     ]
    }
   ],
   "source": [
    "print(len(Rating[:100]),len(Review_summary[:100]),len(Full_review[:100]))"
   ]
  },
  {
   "cell_type": "code",
   "execution_count": 49,
   "id": "1ffa23dd",
   "metadata": {},
   "outputs": [
    {
     "data": {
      "text/html": [
       "<div>\n",
       "<style scoped>\n",
       "    .dataframe tbody tr th:only-of-type {\n",
       "        vertical-align: middle;\n",
       "    }\n",
       "\n",
       "    .dataframe tbody tr th {\n",
       "        vertical-align: top;\n",
       "    }\n",
       "\n",
       "    .dataframe thead th {\n",
       "        text-align: right;\n",
       "    }\n",
       "</style>\n",
       "<table border=\"1\" class=\"dataframe\">\n",
       "  <thead>\n",
       "    <tr style=\"text-align: right;\">\n",
       "      <th></th>\n",
       "      <th>RATING</th>\n",
       "      <th>REVIEW</th>\n",
       "      <th>FULL_REVIEW</th>\n",
       "    </tr>\n",
       "  </thead>\n",
       "  <tbody>\n",
       "    <tr>\n",
       "      <th>0</th>\n",
       "      <td>4</td>\n",
       "      <td>Pretty good</td>\n",
       "      <td>Super smartphone with basic usage and budget a...</td>\n",
       "    </tr>\n",
       "    <tr>\n",
       "      <th>1</th>\n",
       "      <td>5</td>\n",
       "      <td>Great product</td>\n",
       "      <td>Good mobile, price also very low</td>\n",
       "    </tr>\n",
       "    <tr>\n",
       "      <th>2</th>\n",
       "      <td>5</td>\n",
       "      <td>Simply awesome</td>\n",
       "      <td>Budget phone for your parents</td>\n",
       "    </tr>\n",
       "    <tr>\n",
       "      <th>3</th>\n",
       "      <td>5</td>\n",
       "      <td>Perfect product!</td>\n",
       "      <td>Very good product with resonable price</td>\n",
       "    </tr>\n",
       "    <tr>\n",
       "      <th>4</th>\n",
       "      <td>5</td>\n",
       "      <td>Great product</td>\n",
       "      <td>Redmi a2 beautiful camera 📸</td>\n",
       "    </tr>\n",
       "    <tr>\n",
       "      <th>...</th>\n",
       "      <td>...</td>\n",
       "      <td>...</td>\n",
       "      <td>...</td>\n",
       "    </tr>\n",
       "    <tr>\n",
       "      <th>95</th>\n",
       "      <td>5</td>\n",
       "      <td>Awesome</td>\n",
       "      <td>Price ke according good mobile</td>\n",
       "    </tr>\n",
       "    <tr>\n",
       "      <th>96</th>\n",
       "      <td>4</td>\n",
       "      <td>Good quality product</td>\n",
       "      <td>Use after 2months mobile is super... Camera pe...</td>\n",
       "    </tr>\n",
       "    <tr>\n",
       "      <th>97</th>\n",
       "      <td>4</td>\n",
       "      <td>Good choice</td>\n",
       "      <td>Low Price. Good mobile... After 1 week use . M...</td>\n",
       "    </tr>\n",
       "    <tr>\n",
       "      <th>98</th>\n",
       "      <td>4</td>\n",
       "      <td>Nice product</td>\n",
       "      <td>Nice to mobile low price..</td>\n",
       "    </tr>\n",
       "    <tr>\n",
       "      <th>99</th>\n",
       "      <td>4</td>\n",
       "      <td>Nice product</td>\n",
       "      <td>Very nice in this price.</td>\n",
       "    </tr>\n",
       "  </tbody>\n",
       "</table>\n",
       "<p>100 rows × 3 columns</p>\n",
       "</div>"
      ],
      "text/plain": [
       "   RATING                REVIEW  \\\n",
       "0       4           Pretty good   \n",
       "1       5         Great product   \n",
       "2       5        Simply awesome   \n",
       "3       5      Perfect product!   \n",
       "4       5         Great product   \n",
       "..    ...                   ...   \n",
       "95      5               Awesome   \n",
       "96      4  Good quality product   \n",
       "97      4           Good choice   \n",
       "98      4          Nice product   \n",
       "99      4          Nice product   \n",
       "\n",
       "                                          FULL_REVIEW  \n",
       "0   Super smartphone with basic usage and budget a...  \n",
       "1                    Good mobile, price also very low  \n",
       "2                       Budget phone for your parents  \n",
       "3              Very good product with resonable price  \n",
       "4                         Redmi a2 beautiful camera 📸  \n",
       "..                                                ...  \n",
       "95                     Price ke according good mobile  \n",
       "96  Use after 2months mobile is super... Camera pe...  \n",
       "97  Low Price. Good mobile... After 1 week use . M...  \n",
       "98                         Nice to mobile low price..  \n",
       "99                           Very nice in this price.  \n",
       "\n",
       "[100 rows x 3 columns]"
      ]
     },
     "execution_count": 49,
     "metadata": {},
     "output_type": "execute_result"
    }
   ],
   "source": [
    "import pandas as pd\n",
    "df=pd.DataFrame({'RATING':Rating[:100],'REVIEW':Review_summary[:100],'FULL_REVIEW':Full_review[:100]})\n",
    "df"
   ]
  },
  {
   "cell_type": "code",
   "execution_count": 4,
   "id": "8d4c576a",
   "metadata": {},
   "outputs": [],
   "source": [
    "driver.get(\"https://www.flipkart.com/\")"
   ]
  },
  {
   "cell_type": "code",
   "execution_count": 8,
   "id": "6b6f0fc8",
   "metadata": {},
   "outputs": [],
   "source": [
    "product=driver.find_element(By.XPATH,\"/html/body/div/div/div[1]/div[1]/div[2]/div[2]/form/div/div/input\")\n",
    "product.send_keys('sneakers')"
   ]
  },
  {
   "cell_type": "code",
   "execution_count": 9,
   "id": "e89cd621",
   "metadata": {},
   "outputs": [
    {
     "data": {
      "text/plain": [
       "<selenium.webdriver.remote.webelement.WebElement (session=\"b9afa65151addf16133b901855b60f37\", element=\"F55212F77E4A2BB1D535ABD4DFE02D15_element_232\")>"
      ]
     },
     "execution_count": 9,
     "metadata": {},
     "output_type": "execute_result"
    }
   ],
   "source": [
    "brand=driver.find_element(By.XPATH,\"/html/body/div/div/div[3]/div[1]/div[1]/div/div/div/section[5]/div[1]/div\")\n",
    "brand"
   ]
  },
  {
   "cell_type": "code",
   "execution_count": 10,
   "id": "0909a570",
   "metadata": {},
   "outputs": [],
   "source": [
    "search=driver.find_element(By.XPATH,\"/html/body/div/div/div[1]/div[1]/div[2]/div[2]/form/div/button\")\n",
    "search.click()"
   ]
  },
  {
   "cell_type": "code",
   "execution_count": 11,
   "id": "0a02acb1",
   "metadata": {},
   "outputs": [],
   "source": [
    "product_name=[] \n",
    "brand_name=[]\n",
    "price=[]"
   ]
  },
  {
   "cell_type": "code",
   "execution_count": 18,
   "id": "8239ac08",
   "metadata": {},
   "outputs": [],
   "source": [
    "for i in range(0,15):\n",
    "    product_des=driver.find_elements(By.XPATH,'//a[@class=\"_2whKao\"]')\n",
    "    for i in product_des:\n",
    "            product=i.text\n",
    "            product_name.append(product)\n",
    "            product_name[:100]\n",
    "    brand_tags=driver.find_elements(By.XPATH,'//div[@class=\"_2WkVRV\"]')\n",
    "    for i in brand_tags:\n",
    "            brand=i.text\n",
    "            brand_name.append(brand)\n",
    "            brand_name[:100]\n",
    "    price_tags=driver.find_elements(By.XPATH,'//div[@class=\"_30jeq3\"]')\n",
    "    for i in price_tags:\n",
    "            cost=i.text\n",
    "            price.append(cost)\n",
    "            price[:100]"
   ]
  },
  {
   "cell_type": "code",
   "execution_count": 19,
   "id": "63030940",
   "metadata": {},
   "outputs": [
    {
     "name": "stdout",
     "output_type": "stream",
     "text": [
      "100 100 100\n"
     ]
    }
   ],
   "source": [
    "print(len(product_name[:100]),len(brand_name[:100]),len(price[:100]))"
   ]
  },
  {
   "cell_type": "code",
   "execution_count": 20,
   "id": "af4c566e",
   "metadata": {},
   "outputs": [
    {
     "data": {
      "text/html": [
       "<div>\n",
       "<style scoped>\n",
       "    .dataframe tbody tr th:only-of-type {\n",
       "        vertical-align: middle;\n",
       "    }\n",
       "\n",
       "    .dataframe tbody tr th {\n",
       "        vertical-align: top;\n",
       "    }\n",
       "\n",
       "    .dataframe thead th {\n",
       "        text-align: right;\n",
       "    }\n",
       "</style>\n",
       "<table border=\"1\" class=\"dataframe\">\n",
       "  <thead>\n",
       "    <tr style=\"text-align: right;\">\n",
       "      <th></th>\n",
       "      <th>product_name</th>\n",
       "      <th>Brand_name</th>\n",
       "      <th>Price</th>\n",
       "    </tr>\n",
       "  </thead>\n",
       "  <tbody>\n",
       "    <tr>\n",
       "      <th>0</th>\n",
       "      <td>Home</td>\n",
       "      <td>BRUTON</td>\n",
       "      <td>₹479</td>\n",
       "    </tr>\n",
       "    <tr>\n",
       "      <th>1</th>\n",
       "      <td>Footwear</td>\n",
       "      <td>aadi</td>\n",
       "      <td>₹256</td>\n",
       "    </tr>\n",
       "    <tr>\n",
       "      <th>2</th>\n",
       "      <td>Men's Footwear</td>\n",
       "      <td>URBANBOX</td>\n",
       "      <td>₹299</td>\n",
       "    </tr>\n",
       "    <tr>\n",
       "      <th>3</th>\n",
       "      <td>Men’s Casual Shoes</td>\n",
       "      <td>Labbin</td>\n",
       "      <td>₹449</td>\n",
       "    </tr>\n",
       "    <tr>\n",
       "      <th>4</th>\n",
       "      <td>Home</td>\n",
       "      <td>Nobelite</td>\n",
       "      <td>₹319</td>\n",
       "    </tr>\n",
       "    <tr>\n",
       "      <th>...</th>\n",
       "      <td>...</td>\n",
       "      <td>...</td>\n",
       "      <td>...</td>\n",
       "    </tr>\n",
       "    <tr>\n",
       "      <th>95</th>\n",
       "      <td>Men’s Casual Shoes</td>\n",
       "      <td>BRUTON</td>\n",
       "      <td>₹149</td>\n",
       "    </tr>\n",
       "    <tr>\n",
       "      <th>96</th>\n",
       "      <td>Home</td>\n",
       "      <td>aadi</td>\n",
       "      <td>₹356</td>\n",
       "    </tr>\n",
       "    <tr>\n",
       "      <th>97</th>\n",
       "      <td>Footwear</td>\n",
       "      <td>aadi</td>\n",
       "      <td>₹499</td>\n",
       "    </tr>\n",
       "    <tr>\n",
       "      <th>98</th>\n",
       "      <td>Men's Footwear</td>\n",
       "      <td>aadi</td>\n",
       "      <td>₹347</td>\n",
       "    </tr>\n",
       "    <tr>\n",
       "      <th>99</th>\n",
       "      <td>Men’s Casual Shoes</td>\n",
       "      <td>Xtep</td>\n",
       "      <td>₹2,899</td>\n",
       "    </tr>\n",
       "  </tbody>\n",
       "</table>\n",
       "<p>100 rows × 3 columns</p>\n",
       "</div>"
      ],
      "text/plain": [
       "          product_name Brand_name   Price\n",
       "0                 Home     BRUTON    ₹479\n",
       "1             Footwear       aadi    ₹256\n",
       "2       Men's Footwear   URBANBOX    ₹299\n",
       "3   Men’s Casual Shoes     Labbin    ₹449\n",
       "4                 Home   Nobelite    ₹319\n",
       "..                 ...        ...     ...\n",
       "95  Men’s Casual Shoes     BRUTON    ₹149\n",
       "96                Home       aadi    ₹356\n",
       "97            Footwear       aadi    ₹499\n",
       "98      Men's Footwear       aadi    ₹347\n",
       "99  Men’s Casual Shoes       Xtep  ₹2,899\n",
       "\n",
       "[100 rows x 3 columns]"
      ]
     },
     "execution_count": 20,
     "metadata": {},
     "output_type": "execute_result"
    }
   ],
   "source": [
    "import pandas as pd\n",
    "df=pd.DataFrame({'product_name':product_name[:100],'Brand_name':brand_name[:100],'Price':price[:100]})\n",
    "df"
   ]
  },
  {
   "cell_type": "code",
   "execution_count": 23,
   "id": "ef68dd15",
   "metadata": {},
   "outputs": [],
   "source": [
    "driver.get(\"https://www.amazon.in/\")"
   ]
  },
  {
   "cell_type": "code",
   "execution_count": 24,
   "id": "9b4d8730",
   "metadata": {},
   "outputs": [],
   "source": [
    "product=driver.find_element(By.XPATH,\"/html/body/div[1]/header/div/div[1]/div[2]/div/form/div[2]/div[1]/input\")\n",
    "product.send_keys('laptop')"
   ]
  },
  {
   "cell_type": "code",
   "execution_count": 25,
   "id": "14647e94",
   "metadata": {},
   "outputs": [
    {
     "data": {
      "text/plain": [
       "<selenium.webdriver.remote.webelement.WebElement (session=\"3f3e28562949502a8dfe044ca235ad4d\", element=\"B629957E0A212FB2898B4F477AC729B9_element_16140\")>"
      ]
     },
     "execution_count": 25,
     "metadata": {},
     "output_type": "execute_result"
    }
   ],
   "source": [
    "rating=driver.find_element(By.XPATH,\"/html/body/div[1]/div[1]/div[1]/div[1]/div/span[1]/div[1]/div[2]/div/div/div/div/span/div/div/div/div[2]/div/div/div[2]/div[1]/span[1]/span/a/i[1]\")\n",
    "rating"
   ]
  },
  {
   "cell_type": "code",
   "execution_count": 26,
   "id": "cdc25831",
   "metadata": {},
   "outputs": [],
   "source": [
    "search=driver.find_element(By.XPATH,\"/html/body/div[1]/header/div/div[1]/div[2]/div/form/div[3]/div\")\n",
    "search.click()"
   ]
  },
  {
   "cell_type": "code",
   "execution_count": 28,
   "id": "4d5ae3f8",
   "metadata": {},
   "outputs": [],
   "source": [
    "Title=[] \n",
    "Rating=[]\n",
    "Price=[]"
   ]
  },
  {
   "cell_type": "code",
   "execution_count": 37,
   "id": "707cd6e4",
   "metadata": {},
   "outputs": [],
   "source": [
    "for i in range (0,10):\n",
    "    title_tags=driver.find_elements(By.XPATH,'//div[@class=\"a-section a-spacing-small a-spacing-top-small\"]')\n",
    "    for i in title_tags:\n",
    "            title=i.text\n",
    "            Title.append(title)\n",
    "            Title[:10]\n",
    "    rating_tags=driver.find_elements(By.XPATH,'//i[@class=\"a-icon a-icon-star-small a-star-small-4 aok-align-bottom\"]')\n",
    "    for i in rating_tags:\n",
    "            rating=i.text\n",
    "            Rating.append(rating)\n",
    "            Rating[:10]\n",
    "    price_tags=driver.find_elements(By.XPATH,'//span[@class=\"a-price-whole\"]')\n",
    "    for i in price_tags:\n",
    "            price=i.text\n",
    "            Price.append(price)\n",
    "            Price[:10]"
   ]
  },
  {
   "cell_type": "code",
   "execution_count": 38,
   "id": "a34a6433",
   "metadata": {},
   "outputs": [
    {
     "name": "stdout",
     "output_type": "stream",
     "text": [
      "10 10 10\n"
     ]
    }
   ],
   "source": [
    "print(len(Title[:10]),len(Rating[:10]),len(Price[:10]))"
   ]
  },
  {
   "cell_type": "code",
   "execution_count": 40,
   "id": "8dea83b7",
   "metadata": {},
   "outputs": [
    {
     "data": {
      "text/html": [
       "<div>\n",
       "<style scoped>\n",
       "    .dataframe tbody tr th:only-of-type {\n",
       "        vertical-align: middle;\n",
       "    }\n",
       "\n",
       "    .dataframe tbody tr th {\n",
       "        vertical-align: top;\n",
       "    }\n",
       "\n",
       "    .dataframe thead th {\n",
       "        text-align: right;\n",
       "    }\n",
       "</style>\n",
       "<table border=\"1\" class=\"dataframe\">\n",
       "  <thead>\n",
       "    <tr style=\"text-align: right;\">\n",
       "      <th></th>\n",
       "      <th>Title</th>\n",
       "      <th>Rating</th>\n",
       "      <th>Price</th>\n",
       "    </tr>\n",
       "  </thead>\n",
       "  <tbody>\n",
       "    <tr>\n",
       "      <th>0</th>\n",
       "      <td>1-24 of over 2,000 results for \"laptop laptop hp\"</td>\n",
       "      <td></td>\n",
       "      <td>74,990</td>\n",
       "    </tr>\n",
       "    <tr>\n",
       "      <th>1</th>\n",
       "      <td>Sponsored\\nDell 14 Laptop, Intel 12th Gen Core...</td>\n",
       "      <td></td>\n",
       "      <td>86,990</td>\n",
       "    </tr>\n",
       "    <tr>\n",
       "      <th>2</th>\n",
       "      <td>Sponsored\\nLenovo IdeaPad Slim 3 Intel Core i3...</td>\n",
       "      <td></td>\n",
       "      <td>89,990</td>\n",
       "    </tr>\n",
       "    <tr>\n",
       "      <th>3</th>\n",
       "      <td>HP Laptop 15s, Intel Celeron, 15.6-inch (39.6 ...</td>\n",
       "      <td></td>\n",
       "      <td>38,490</td>\n",
       "    </tr>\n",
       "    <tr>\n",
       "      <th>4</th>\n",
       "      <td>HP Laptop 14s, 12th Gen Intel Core i3-1215U, 1...</td>\n",
       "      <td></td>\n",
       "      <td>37,990</td>\n",
       "    </tr>\n",
       "    <tr>\n",
       "      <th>5</th>\n",
       "      <td>HP Victus Gaming Laptop, AMD Ryzen 5 5600H, AM...</td>\n",
       "      <td></td>\n",
       "      <td>28,490</td>\n",
       "    </tr>\n",
       "    <tr>\n",
       "      <th>6</th>\n",
       "      <td>HP Laptop 14s, AMD Ryzen 3 5300U, 14-inch (35....</td>\n",
       "      <td></td>\n",
       "      <td>39,990</td>\n",
       "    </tr>\n",
       "    <tr>\n",
       "      <th>7</th>\n",
       "      <td>[SmartChoice] HP Laptop 15s, 11th Gen Intel Co...</td>\n",
       "      <td></td>\n",
       "      <td>56,990</td>\n",
       "    </tr>\n",
       "    <tr>\n",
       "      <th>8</th>\n",
       "      <td>HP Laptop 15, 12th Gen i3-1215U, 15.6-inch (39...</td>\n",
       "      <td></td>\n",
       "      <td>35,490</td>\n",
       "    </tr>\n",
       "    <tr>\n",
       "      <th>9</th>\n",
       "      <td>HP Laptop 15s, 12th Gen Intel Core i5-1235U, 1...</td>\n",
       "      <td></td>\n",
       "      <td>48,490</td>\n",
       "    </tr>\n",
       "  </tbody>\n",
       "</table>\n",
       "</div>"
      ],
      "text/plain": [
       "                                               Title Rating   Price\n",
       "0  1-24 of over 2,000 results for \"laptop laptop hp\"         74,990\n",
       "1  Sponsored\\nDell 14 Laptop, Intel 12th Gen Core...         86,990\n",
       "2  Sponsored\\nLenovo IdeaPad Slim 3 Intel Core i3...         89,990\n",
       "3  HP Laptop 15s, Intel Celeron, 15.6-inch (39.6 ...         38,490\n",
       "4  HP Laptop 14s, 12th Gen Intel Core i3-1215U, 1...         37,990\n",
       "5  HP Victus Gaming Laptop, AMD Ryzen 5 5600H, AM...         28,490\n",
       "6  HP Laptop 14s, AMD Ryzen 3 5300U, 14-inch (35....         39,990\n",
       "7  [SmartChoice] HP Laptop 15s, 11th Gen Intel Co...         56,990\n",
       "8  HP Laptop 15, 12th Gen i3-1215U, 15.6-inch (39...         35,490\n",
       "9  HP Laptop 15s, 12th Gen Intel Core i5-1235U, 1...         48,490"
      ]
     },
     "execution_count": 40,
     "metadata": {},
     "output_type": "execute_result"
    }
   ],
   "source": [
    "import pandas as pd\n",
    "df=pd.DataFrame({'Title':Title[:10],'Rating':Rating[:10],'Price':Price[:10]})\n",
    "df"
   ]
  },
  {
   "cell_type": "code",
   "execution_count": 4,
   "id": "582d7298",
   "metadata": {},
   "outputs": [],
   "source": [
    "driver.get(\"https://www.azquotes.com/\")"
   ]
  },
  {
   "cell_type": "code",
   "execution_count": 7,
   "id": "2f7fc1ed",
   "metadata": {},
   "outputs": [],
   "source": [
    "top_quotes=driver.find_element(By.XPATH,\"/html/body/div[1]/div[1]/div[1]/div/div[2]/div[1]/div/form/input[1]\")\n",
    "top_quotes.send_keys('Top Quotes') "
   ]
  },
  {
   "cell_type": "code",
   "execution_count": 8,
   "id": "49e552ca",
   "metadata": {},
   "outputs": [
    {
     "data": {
      "text/plain": [
       "<selenium.webdriver.remote.webelement.WebElement (session=\"5cbc9d225f5dee9a6f532829bdb8010d\", element=\"71278C1ECDF93DCB096C1BC71E2538C1_element_2067\")>"
      ]
     },
     "execution_count": 8,
     "metadata": {},
     "output_type": "execute_result"
    }
   ],
   "source": [
    "author=driver.find_element(By.XPATH,\"/html/body/div[1]/div[1]/div[1]/div/div[3]/ul/li[1]/a\")\n",
    "author"
   ]
  },
  {
   "cell_type": "code",
   "execution_count": 9,
   "id": "e15773e1",
   "metadata": {},
   "outputs": [],
   "source": [
    "search=driver.find_element(By.XPATH,\"/html/body/div[1]/div[1]/div[1]/div/div[2]/div[1]/div/form/input[3]\")\n",
    "search.click()"
   ]
  },
  {
   "cell_type": "code",
   "execution_count": 10,
   "id": "3e96d8bc",
   "metadata": {},
   "outputs": [],
   "source": [
    "Quote=[] \n",
    "Author=[]\n",
    "Type_of_Quote=[]"
   ]
  },
  {
   "cell_type": "code",
   "execution_count": 15,
   "id": "f861dc5e",
   "metadata": {},
   "outputs": [],
   "source": [
    "for i in range (0,700):\n",
    "    quote_tags=driver.find_elements(By.XPATH,'//div[@class=\"gsc-result-info\"]')\n",
    "    for i in quote_tags:\n",
    "            quote=i.text\n",
    "            Quote.append(quote)\n",
    "            Quote[:1000]\n",
    "    author_tags=driver.find_elements(By.XPATH,'//div[@class=\"title\"]')\n",
    "    for i in author_tags:\n",
    "            author=i.text\n",
    "            Author.append(author)\n",
    "            Author[:1000]\n",
    "    type_tags=driver.find_elements(By.XPATH,'//div[@class=\"gs-bidi-start-align gs-snippet\"]')\n",
    "    for i in type_tags:\n",
    "            type_quote=i.text\n",
    "            Type_of_Quote.append(type_quote)\n",
    "            Type_of_Quote[:1000]"
   ]
  },
  {
   "cell_type": "code",
   "execution_count": 16,
   "id": "9b9fdda8",
   "metadata": {},
   "outputs": [
    {
     "name": "stdout",
     "output_type": "stream",
     "text": [
      "1000 1000 1000\n"
     ]
    }
   ],
   "source": [
    "print(len(Quote[:1000]),len(Author[:1000]),len(Type_of_Quote[:1000]))"
   ]
  },
  {
   "cell_type": "code",
   "execution_count": 17,
   "id": "0636d682",
   "metadata": {},
   "outputs": [
    {
     "data": {
      "text/html": [
       "<div>\n",
       "<style scoped>\n",
       "    .dataframe tbody tr th:only-of-type {\n",
       "        vertical-align: middle;\n",
       "    }\n",
       "\n",
       "    .dataframe tbody tr th {\n",
       "        vertical-align: top;\n",
       "    }\n",
       "\n",
       "    .dataframe thead th {\n",
       "        text-align: right;\n",
       "    }\n",
       "</style>\n",
       "<table border=\"1\" class=\"dataframe\">\n",
       "  <thead>\n",
       "    <tr style=\"text-align: right;\">\n",
       "      <th></th>\n",
       "      <th>Quote</th>\n",
       "      <th>Author</th>\n",
       "      <th>Type_of_Quote</th>\n",
       "    </tr>\n",
       "  </thead>\n",
       "  <tbody>\n",
       "    <tr>\n",
       "      <th>0</th>\n",
       "      <td>About 731 results (0.13 seconds)</td>\n",
       "      <td>Authors:</td>\n",
       "      <td>Login Sign Up. Authors · Topics · Quote of the...</td>\n",
       "    </tr>\n",
       "    <tr>\n",
       "      <th>1</th>\n",
       "      <td>About 731 results (0.13 seconds)</td>\n",
       "      <td></td>\n",
       "      <td>Enjoy our top of the world quotes collection. ...</td>\n",
       "    </tr>\n",
       "    <tr>\n",
       "      <th>2</th>\n",
       "      <td>About 731 results (0.13 seconds)</td>\n",
       "      <td></td>\n",
       "      <td>Discover Thomas J. Watson famous and rare quot...</td>\n",
       "    </tr>\n",
       "    <tr>\n",
       "      <th>3</th>\n",
       "      <td>About 731 results (0.13 seconds)</td>\n",
       "      <td></td>\n",
       "      <td>Login Sign Up. Authors · Topics · Quote of the...</td>\n",
       "    </tr>\n",
       "    <tr>\n",
       "      <th>4</th>\n",
       "      <td>About 731 results (0.13 seconds)</td>\n",
       "      <td>Authors:</td>\n",
       "      <td>Login Sign Up. Authors · Topics · Quote of the...</td>\n",
       "    </tr>\n",
       "    <tr>\n",
       "      <th>...</th>\n",
       "      <td>...</td>\n",
       "      <td>...</td>\n",
       "      <td>...</td>\n",
       "    </tr>\n",
       "    <tr>\n",
       "      <th>995</th>\n",
       "      <td>About 731 results (0.13 seconds)</td>\n",
       "      <td></td>\n",
       "      <td>Discover Luciano Pavarotti famous and rare quo...</td>\n",
       "    </tr>\n",
       "    <tr>\n",
       "      <th>996</th>\n",
       "      <td>About 731 results (0.13 seconds)</td>\n",
       "      <td>Authors:</td>\n",
       "      <td>Login Sign Up. Authors · Topics · Quote of the...</td>\n",
       "    </tr>\n",
       "    <tr>\n",
       "      <th>997</th>\n",
       "      <td>About 731 results (0.13 seconds)</td>\n",
       "      <td></td>\n",
       "      <td>Quote of the Day · Picture Quotes · Top Quotes...</td>\n",
       "    </tr>\n",
       "    <tr>\n",
       "      <th>998</th>\n",
       "      <td>About 731 results (0.13 seconds)</td>\n",
       "      <td></td>\n",
       "      <td>Discover Giorgio Morandi famous and rare quote...</td>\n",
       "    </tr>\n",
       "    <tr>\n",
       "      <th>999</th>\n",
       "      <td>About 731 results (0.13 seconds)</td>\n",
       "      <td></td>\n",
       "      <td>Login Sign Up. Authors · Topics · Quote of the...</td>\n",
       "    </tr>\n",
       "  </tbody>\n",
       "</table>\n",
       "<p>1000 rows × 3 columns</p>\n",
       "</div>"
      ],
      "text/plain": [
       "                                Quote    Author  \\\n",
       "0    About 731 results (0.13 seconds)  Authors:   \n",
       "1    About 731 results (0.13 seconds)             \n",
       "2    About 731 results (0.13 seconds)             \n",
       "3    About 731 results (0.13 seconds)             \n",
       "4    About 731 results (0.13 seconds)  Authors:   \n",
       "..                                ...       ...   \n",
       "995  About 731 results (0.13 seconds)             \n",
       "996  About 731 results (0.13 seconds)  Authors:   \n",
       "997  About 731 results (0.13 seconds)             \n",
       "998  About 731 results (0.13 seconds)             \n",
       "999  About 731 results (0.13 seconds)             \n",
       "\n",
       "                                         Type_of_Quote  \n",
       "0    Login Sign Up. Authors · Topics · Quote of the...  \n",
       "1    Enjoy our top of the world quotes collection. ...  \n",
       "2    Discover Thomas J. Watson famous and rare quot...  \n",
       "3    Login Sign Up. Authors · Topics · Quote of the...  \n",
       "4    Login Sign Up. Authors · Topics · Quote of the...  \n",
       "..                                                 ...  \n",
       "995  Discover Luciano Pavarotti famous and rare quo...  \n",
       "996  Login Sign Up. Authors · Topics · Quote of the...  \n",
       "997  Quote of the Day · Picture Quotes · Top Quotes...  \n",
       "998  Discover Giorgio Morandi famous and rare quote...  \n",
       "999  Login Sign Up. Authors · Topics · Quote of the...  \n",
       "\n",
       "[1000 rows x 3 columns]"
      ]
     },
     "execution_count": 17,
     "metadata": {},
     "output_type": "execute_result"
    }
   ],
   "source": [
    "import pandas as pd\n",
    "df=pd.DataFrame({'Quote':Quote[:1000],'Author':Author[:1000],'Type_of_Quote':Type_of_Quote[:1000]})\n",
    "df"
   ]
  },
  {
   "cell_type": "code",
   "execution_count": 4,
   "id": "e69547ec",
   "metadata": {},
   "outputs": [],
   "source": [
    "driver.get(\"https://www.motor1.com/\")"
   ]
  },
  {
   "cell_type": "code",
   "execution_count": 5,
   "id": "6c10b722",
   "metadata": {},
   "outputs": [],
   "source": [
    "product=driver.find_element(By.XPATH,\"/html/body/div[10]/div[2]/div/div/div[3]/div/div/div/form/input\")\n",
    "product.send_keys('50 most expensive cars') "
   ]
  },
  {
   "cell_type": "code",
   "execution_count": 6,
   "id": "3638005b",
   "metadata": {},
   "outputs": [
    {
     "data": {
      "text/plain": [
       "<selenium.webdriver.remote.webelement.WebElement (session=\"32374fa3f84aa63f05fd93b6bd771d0f\", element=\"5F3F70C80D70B90548F84C2F1BDAEAD3_element_54\")>"
      ]
     },
     "execution_count": 6,
     "metadata": {},
     "output_type": "execute_result"
    }
   ],
   "source": [
    "brand=driver.find_element(By.XPATH,\"/html/body/div[10]/div[5]/h1\")\n",
    "brand"
   ]
  },
  {
   "cell_type": "code",
   "execution_count": 7,
   "id": "3f1fe552",
   "metadata": {},
   "outputs": [],
   "source": [
    "search=driver.find_element(By.XPATH,\"/html/body/div[10]/div[2]/div/div/div[3]/div/div\")\n",
    "search.click()"
   ]
  },
  {
   "cell_type": "code",
   "execution_count": 8,
   "id": "e80832a9",
   "metadata": {},
   "outputs": [],
   "source": [
    "car_name=[]\n",
    "price=[]"
   ]
  },
  {
   "cell_type": "code",
   "execution_count": 11,
   "id": "66240bc7",
   "metadata": {},
   "outputs": [],
   "source": [
    "title_tags=driver.find_elements(By.XPATH,'//h3[@class=\"subheader\"]')\n",
    "for i in title_tags:\n",
    "    title=i.text\n",
    "    car_name.append(title)\n",
    "price_tags=driver.find_elements(By.XPATH,'/html/body/div[10]/div[7]/div[2]/div[1]/div[2]/div[2]/p[4]')\n",
    "for i in price_tags:\n",
    "    cost=i.text\n",
    "    price.append(cost)"
   ]
  },
  {
   "cell_type": "code",
   "execution_count": 12,
   "id": "607a050b",
   "metadata": {},
   "outputs": [
    {
     "name": "stdout",
     "output_type": "stream",
     "text": [
      "102 2\n"
     ]
    }
   ],
   "source": [
    "print(len(car_name),len(price))"
   ]
  },
  {
   "cell_type": "code",
   "execution_count": 17,
   "id": "6f95def1",
   "metadata": {},
   "outputs": [],
   "source": [
    "driver.get(\"https://www.jagranjosh.com/\")"
   ]
  },
  {
   "cell_type": "code",
   "execution_count": 18,
   "id": "2272f105",
   "metadata": {},
   "outputs": [],
   "source": [
    "gk=driver.find_element(By.XPATH,\"/html/body/div/div[3]/div[1]/div/div/div[1]/div/input\")\n",
    "gk.send_keys('GK') "
   ]
  },
  {
   "cell_type": "code",
   "execution_count": 19,
   "id": "74cb0323",
   "metadata": {},
   "outputs": [
    {
     "data": {
      "text/plain": [
       "<selenium.webdriver.remote.webelement.WebElement (session=\"ce5ebe80c564bba4e7221e02f07d3387\", element=\"2427C68A771E2ABCF55A4EF7FA1647B3_element_6869\")>"
      ]
     },
     "execution_count": 19,
     "metadata": {},
     "output_type": "execute_result"
    }
   ],
   "source": [
    "pm=driver.find_element(By.XPATH,\"/html/body/div[1]/main/div[1]/div[1]/article/h1\")\n",
    "pm"
   ]
  },
  {
   "cell_type": "code",
   "execution_count": 20,
   "id": "b8d3848f",
   "metadata": {},
   "outputs": [],
   "source": [
    "search=driver.find_element(By.XPATH,\"/html/body/div/div[1]/div/div[1]/div/div[3]/div/div/div/form/div[2]/div/input[2]\")\n",
    "search.click()"
   ]
  },
  {
   "cell_type": "code",
   "execution_count": 23,
   "id": "c3c8a1b9",
   "metadata": {},
   "outputs": [],
   "source": [
    "Name=[]\n",
    "Born_Dead=[]\n",
    "Term_of_office=[]\n",
    "Remarks=[]"
   ]
  },
  {
   "cell_type": "code",
   "execution_count": 24,
   "id": "f4fd3cbc",
   "metadata": {},
   "outputs": [],
   "source": [
    "title_tags=driver.find_elements(By.XPATH,'//*[@id=\"itemdiv\"]/div[3]/div[7]/p/strong')\n",
    "for i in title_tags:\n",
    "    title=i.text\n",
    "    car_name.append(title)\n",
    "bd_tags=driver.find_elements(By.XPATH,'//*[@id=\"itemdiv\"]/div[3]/div[8]/p/strong')\n",
    "for i in bd_tags:\n",
    "    b=i.text\n",
    "    Born_Dead.append(b)\n",
    "tm_tags=driver.find_elements(By.XPATH,'//*[@id=\"itemdiv\"]/div[3]/div[9]/p[1]/strong')\n",
    "for i in tm_tags:\n",
    "    t=i.text\n",
    "    Term_of_office.append(t)\n",
    "r_tags=driver.find_elements(By.XPATH,'//*[@id=\"itemdiv\"]/div[3]/div[9]/p[2]/strong')\n",
    "for i in r_tags:\n",
    "    rm=i.text\n",
    "    Remarks.append(rm)"
   ]
  },
  {
   "cell_type": "code",
   "execution_count": 25,
   "id": "1dee4a60",
   "metadata": {},
   "outputs": [
    {
     "name": "stdout",
     "output_type": "stream",
     "text": [
      "0 1 1 1\n"
     ]
    }
   ],
   "source": [
    "print(len(Name),len(Born_Dead),len(Term_of_office),len(Remarks))"
   ]
  },
  {
   "cell_type": "code",
   "execution_count": null,
   "id": "e4dc8307",
   "metadata": {},
   "outputs": [],
   "source": []
  }
 ],
 "metadata": {
  "kernelspec": {
   "display_name": "Python 3 (ipykernel)",
   "language": "python",
   "name": "python3"
  },
  "language_info": {
   "codemirror_mode": {
    "name": "ipython",
    "version": 3
   },
   "file_extension": ".py",
   "mimetype": "text/x-python",
   "name": "python",
   "nbconvert_exporter": "python",
   "pygments_lexer": "ipython3",
   "version": "3.10.9"
  }
 },
 "nbformat": 4,
 "nbformat_minor": 5
}
