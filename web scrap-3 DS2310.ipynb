{
 "cells": [
  {
   "cell_type": "code",
   "execution_count": 1,
   "id": "f75a751d",
   "metadata": {},
   "outputs": [
    {
     "name": "stdout",
     "output_type": "stream",
     "text": [
      "Requirement already satisfied: selenium in c:\\users\\public\\python\\lib\\site-packages (4.15.2)\n",
      "Requirement already satisfied: trio-websocket~=0.9 in c:\\users\\public\\python\\lib\\site-packages (from selenium) (0.11.1)\n",
      "Requirement already satisfied: urllib3[socks]<3,>=1.26 in c:\\users\\public\\python\\lib\\site-packages (from selenium) (1.26.14)\n",
      "Requirement already satisfied: certifi>=2021.10.8 in c:\\users\\public\\python\\lib\\site-packages (from selenium) (2022.12.7)\n",
      "Requirement already satisfied: trio~=0.17 in c:\\users\\public\\python\\lib\\site-packages (from selenium) (0.23.1)\n",
      "Requirement already satisfied: exceptiongroup>=1.0.0rc9 in c:\\users\\public\\python\\lib\\site-packages (from trio~=0.17->selenium) (1.2.0)\n",
      "Requirement already satisfied: sortedcontainers in c:\\users\\public\\python\\lib\\site-packages (from trio~=0.17->selenium) (2.4.0)\n",
      "Requirement already satisfied: sniffio>=1.3.0 in c:\\users\\public\\python\\lib\\site-packages (from trio~=0.17->selenium) (1.3.0)\n",
      "Requirement already satisfied: cffi>=1.14 in c:\\users\\public\\python\\lib\\site-packages (from trio~=0.17->selenium) (1.15.1)\n",
      "Requirement already satisfied: outcome in c:\\users\\public\\python\\lib\\site-packages (from trio~=0.17->selenium) (1.3.0.post0)\n",
      "Requirement already satisfied: attrs>=20.1.0 in c:\\users\\public\\python\\lib\\site-packages (from trio~=0.17->selenium) (22.1.0)\n",
      "Requirement already satisfied: idna in c:\\users\\public\\python\\lib\\site-packages (from trio~=0.17->selenium) (3.4)\n",
      "Requirement already satisfied: wsproto>=0.14 in c:\\users\\public\\python\\lib\\site-packages (from trio-websocket~=0.9->selenium) (1.2.0)\n",
      "Requirement already satisfied: PySocks!=1.5.7,<2.0,>=1.5.6 in c:\\users\\public\\python\\lib\\site-packages (from urllib3[socks]<3,>=1.26->selenium) (1.7.1)\n",
      "Requirement already satisfied: pycparser in c:\\users\\public\\python\\lib\\site-packages (from cffi>=1.14->trio~=0.17->selenium) (2.21)\n",
      "Requirement already satisfied: h11<1,>=0.9.0 in c:\\users\\public\\python\\lib\\site-packages (from wsproto>=0.14->trio-websocket~=0.9->selenium) (0.14.0)\n"
     ]
    }
   ],
   "source": [
    "!pip install selenium"
   ]
  },
  {
   "cell_type": "code",
   "execution_count": 2,
   "id": "cf6825e7",
   "metadata": {},
   "outputs": [],
   "source": [
    "from selenium import webdriver\n",
    "from selenium.webdriver.common.by import By\n",
    "from selenium.webdriver.common.keys import Keys\n",
    "from selenium.webdriver.support.ui import WebDriverWait\n",
    "from selenium.webdriver.support import expected_conditions as EC\n",
    "from selenium.common.exceptions import StaleElementReferenceException, NoSuchElementException"
   ]
  },
  {
   "cell_type": "code",
   "execution_count": 3,
   "id": "038a7205",
   "metadata": {},
   "outputs": [],
   "source": [
    "import selenium\n",
    "import pandas as pd\n",
    "from selenium import webdriver\n",
    "import warnings\n",
    "warnings.filterwarnings('ignore')\n",
    "from selenium.webdriver.common.by import By\n",
    "import time"
   ]
  },
  {
   "cell_type": "code",
   "execution_count": 10,
   "id": "6714ab48",
   "metadata": {},
   "outputs": [],
   "source": [
    "driver = webdriver.Chrome()"
   ]
  },
  {
   "cell_type": "code",
   "execution_count": 22,
   "id": "26eae681",
   "metadata": {},
   "outputs": [],
   "source": [
    "driver.get(\"https://www.amazon.in/\")"
   ]
  },
  {
   "cell_type": "code",
   "execution_count": 23,
   "id": "6be9501b",
   "metadata": {},
   "outputs": [],
   "source": [
    "item=driver.find_element(By.XPATH,\"/html/body/div[1]/header/div/div[1]/div[2]/div/form/div[2]/div[1]/input\")\n",
    "item.send_keys('guitar')"
   ]
  },
  {
   "cell_type": "code",
   "execution_count": 25,
   "id": "518e85c4",
   "metadata": {},
   "outputs": [
    {
     "data": {
      "text/plain": [
       "<selenium.webdriver.remote.webelement.WebElement (session=\"f20d404ccc54a319187de1535250f47d\", element=\"E0A229ED6A8DA2E3FFB0E217D4A89BC2_element_178\")>"
      ]
     },
     "execution_count": 25,
     "metadata": {},
     "output_type": "execute_result"
    }
   ],
   "source": [
    "brand=driver.find_element(By.XPATH,\"/html/body/div[1]/div[1]/div[1]/div[2]/div/div[3]/span/div[1]/div/div/div[4]\")\n",
    "brand"
   ]
  },
  {
   "cell_type": "code",
   "execution_count": 26,
   "id": "21eea56c",
   "metadata": {},
   "outputs": [],
   "source": [
    "search=driver.find_element(By.XPATH,\"/html/body/div[1]/header/div/div[1]/div[2]/div/form/div[3]/div/span/input\")\n",
    "search.click()"
   ]
  },
  {
   "cell_type": "code",
   "execution_count": 27,
   "id": "2163e04b",
   "metadata": {},
   "outputs": [],
   "source": [
    "Brand_Name=[]\n",
    "Name_of_the_Product=[]\n",
    "Price=[]\n",
    "Return_Exchange=[]\n",
    "Expected_Delivery=[]\n",
    "Availability=[]\n",
    "Product_URL=[]"
   ]
  },
  {
   "cell_type": "code",
   "execution_count": 28,
   "id": "75143cc1",
   "metadata": {},
   "outputs": [
    {
     "name": "stdout",
     "output_type": "stream",
     "text": [
      "https://www.amazon.in/sspa/click?ie=UTF8&spc=MTozMjY0NzEwNDMyMDEyNzE0OjE3MDI3MzY2NDk6c3BfYXRmOjMwMDAxNTUwODk1NDEzMjo6MDo6&url=%2FKadence-Frontier-Acoustic-Guitar-Strings%2Fdp%2FB01GDZ46AA%2Fref%3Dsr_1_1_sspa%3Fkeywords%3Dguitar%26qid%3D1702736649%26sr%3D8-1-spons%26sp_csd%3Dd2lkZ2V0TmFtZT1zcF9hdGY%26psc%3D1\n",
      "https://www.amazon.in/sspa/click?ie=UTF8&spc=MTozMjY0NzEwNDMyMDEyNzE0OjE3MDI3MzY2NDk6c3BfYXRmOjMwMDAxNTUzNzk3OTIzMjo6MDo6&url=%2FKadence-Frontier-Acoustic-Guitar-Strings%2Fdp%2FB078GTJP5Y%2Fref%3Dsr_1_2_sspa%3Fkeywords%3Dguitar%26qid%3D1702736649%26sr%3D8-2-spons%26sp_csd%3Dd2lkZ2V0TmFtZT1zcF9hdGY%26psc%3D1\n",
      "https://www.amazon.in/sspa/click?ie=UTF8&spc=MTozMjY0NzEwNDMyMDEyNzE0OjE3MDI3MzY2NDk6c3BfYXRmOjIwMDg4NDY1ODU5NDA0OjowOjo&url=%2FHenrix-Cutaway-Acoustic-Guitar-Action%2Fdp%2FB097NCQFFM%2Fref%3Dsr_1_3_sspa%3Fkeywords%3Dguitar%26qid%3D1702736649%26sr%3D8-3-spons%26sp_csd%3Dd2lkZ2V0TmFtZT1zcF9hdGY%26psc%3D1\n",
      "https://www.amazon.in/sspa/click?ie=UTF8&spc=MTozMjY0NzEwNDMyMDEyNzE0OjE3MDI3MzY2NDk6c3BfYXRmOjIwMDU3MTkzMDU2MjA0OjowOjo&url=%2FKadence-Slowhand-Premium-Acoustic-Instrument%2Fdp%2FB077SZ667X%2Fref%3Dsr_1_4_sspa%3Fkeywords%3Dguitar%26qid%3D1702736649%26sr%3D8-4-spons%26sp_csd%3Dd2lkZ2V0TmFtZT1zcF9hdGY%26psc%3D1\n",
      "https://www.amazon.in/Juarez-Acoustic-Cutaway-038C-Strings/dp/B017NPCSLI/ref=sr_1_5?keywords=guitar&qid=1702736649&sr=8-5\n",
      "https://www.amazon.in/Yamaha-6-String-Acoustic-Right-Handed-Sunburst/dp/B000WITGQO/ref=sr_1_6?keywords=guitar&qid=1702736649&sr=8-6\n",
      "https://www.amazon.in/Yamaha-Acoustic-Tobacco-Sunburst-Bajaao/dp/B09PBDGD82/ref=sr_1_7?keywords=guitar&qid=1702736649&sr=8-7\n",
      "https://aax-eu.amazon.in/x/c/RHWKG02FG2UvJW1ZHQqvd3EAAAGMcwNbrwMAAAH2AQBvbm9fdHhuX2JpZDIgICBvbm9fdHhuX2ltcDEgICBrnWOQ/https://www.amazon.in/Radhe-Flutes-Natural-Bansuri-Middle/dp/B07T35ZBHB/ref=sxin_15_sbv_search_btf?content-id=amzn1.sym.10447c6b-3f84-4df3-b999-01a8bbbf010e%3Aamzn1.sym.10447c6b-3f84-4df3-b999-01a8bbbf010e&cv_ct_cx=guitar&keywords=guitar&pd_rd_i=B07T35ZBHB&pd_rd_r=339cdacb-38f6-4ac5-8910-81c23a9b9b4c&pd_rd_w=wAgLb&pd_rd_wg=mStry&pf_rd_p=10447c6b-3f84-4df3-b999-01a8bbbf010e&pf_rd_r=SJJ0ARBRW9JJTCM194K7&qid=1702736649&sbo=RZvfv%2F%2FHxDF%2BO5021pAnSA%3D%3D&sr=1-1-b614a050-8d70-4320-9c19-cc457ab2a351\n",
      "https://www.amazon.in/Henrix-Cutaway-Acoustic-Die-cast-Dual-action/dp/B07VHSCGCG/ref=sr_1_8?keywords=guitar&qid=1702736649&sr=8-8\n",
      "https://www.amazon.in/JUAREZ-JRZ38C-Acoustic-Sunburst-Strings/dp/B01FYYTDS6/ref=sr_1_9?keywords=guitar&qid=1702736649&sr=8-9\n",
      "https://www.amazon.in/Juarez-JRZ-ST01-6-String-Electric-Without/dp/B01FYZSOGM/ref=sr_1_10?keywords=guitar&qid=1702736649&sr=8-10\n",
      "https://www.amazon.in/JUAREZ-JRZ38C-Acoustic-Sunburst-Strings/dp/B01FYYTDTU/ref=sr_1_11?keywords=guitar&qid=1702736649&sr=8-11\n",
      "https://www.amazon.in/Juarez-JRZ-ST01-6-String-Electric-Without/dp/B01FYZSOEO/ref=sr_1_12?keywords=guitar&qid=1702736649&sr=8-12\n",
      "https://www.amazon.in/Ultimate-Concert-Cutaway-Acoustic-Bajaao/dp/B08WHWKKV5/ref=sr_1_13?keywords=guitar&qid=1702736649&sr=8-13\n",
      "https://www.amazon.in/Yamaha-F280-Acoustic-Guitar-Natural/dp/B08317Y4VP/ref=sr_1_14?keywords=guitar&qid=1702736649&sr=8-14\n",
      "https://www.amazon.in/Intern-Acoustic-Steel-string-plectrums-INT-38C-WH/dp/B09LR94Z2X/ref=sr_1_15?keywords=guitar&qid=1702736649&sr=8-15\n",
      "https://www.amazon.in/Intern-38-inch-Cutaway-Design-Acoustic/dp/B07X4PN85R/ref=sr_1_16?keywords=guitar&qid=1702736649&sr=8-16\n",
      "https://www.amazon.in/Kadence-Dreadnought-Acoustic-Guitar-learning/dp/B0CH8L5NF3/ref=sr_1_17?keywords=guitar&qid=1702736649&sr=8-17\n",
      "https://www.amazon.in/BLUEBERRY-B-38C-Acoustic-Guitar-Strings/dp/B0CNW1B2CB/ref=sr_1_18?keywords=guitar&qid=1702736649&sr=8-18\n",
      "https://www.amazon.in/Fender-String-Cutaway-Acoustic-Guitar/dp/B07YX5W8MV/ref=sr_1_19?keywords=guitar&qid=1702736649&sr=8-19\n",
      "https://www.amazon.in/JUAREZ-Electric-Guitar-Handed-Sunburst/dp/B0758HTV7R/ref=sr_1_20?keywords=guitar&qid=1702736649&sr=8-20\n",
      "https://www.amazon.in/sspa/click?ie=UTF8&spc=MTozMjY0NzEwNDMyMDEyNzE0OjE3MDI3MzY2NDk6c3BfbXRmOjMwMDA2NjY0MDEyNTgzMjo6MDo6&url=%2FWOODEN-Guitar-Beginner-Adults-Starter%2Fdp%2FB0C816MJ4Y%2Fref%3Dsr_1_21_sspa%3Fkeywords%3Dguitar%26qid%3D1702736649%26sr%3D8-21-spons%26sp_csd%3Dd2lkZ2V0TmFtZT1zcF9tdGY%26psc%3D1%26smid%3DA18L95ZYZC8GH7\n",
      "https://www.amazon.in/sspa/click?ie=UTF8&spc=MTozMjY0NzEwNDMyMDEyNzE0OjE3MDI3MzY2NDk6c3BfbXRmOjMwMDEwNzk0NzYzNzczMjo6MDo6&url=%2FAcoustic-Pick-up-stability-professional-amplificaiton%2Fdp%2FB09YH8YQR1%2Fref%3Dsr_1_22_sspa%3Fkeywords%3Dguitar%26qid%3D1702736649%26sr%3D8-22-spons%26sp_csd%3Dd2lkZ2V0TmFtZT1zcF9tdGY%26psc%3D1\n",
      "https://www.amazon.in/sspa/click?ie=UTF8&spc=MTozMjY0NzEwNDMyMDEyNzE0OjE3MDI3MzY2NDk6c3BfbXRmOjMwMDA4NDM4MDAxMDkzMjo6MDo6&url=%2FDreadnought-Acoustic-Gig-Bag-Strings-Polishing%2Fdp%2FB0BJJRJVHY%2Fref%3Dsr_1_23_sspa%3Fkeywords%3Dguitar%26qid%3D1702736649%26sr%3D8-23-spons%26sp_csd%3Dd2lkZ2V0TmFtZT1zcF9tdGY%26psc%3D1\n",
      "https://www.amazon.in/sspa/click?ie=UTF8&spc=MTozMjY0NzEwNDMyMDEyNzE0OjE3MDI3MzY2NDk6c3BfbXRmOjMwMDA5ODkzODIzODczMjo6MDo6&url=%2FLindenwood-Acoustic-Cutaway-beginers-students%2Fdp%2FB0CNTJ9CFR%2Fref%3Dsr_1_24_sspa%3Fkeywords%3Dguitar%26qid%3D1702736649%26sr%3D8-24-spons%26sp_csd%3Dd2lkZ2V0TmFtZT1zcF9tdGY%26psc%3D1\n",
      "https://www.amazon.in/Intern-INT-38C-Acoustic-Guitar-Sunburst/dp/B073B5MJRM/ref=sr_1_25?keywords=guitar&qid=1702736649&sr=8-25\n",
      "https://www.amazon.in/Kadence-Frontier-Acoustic-Natural-Equalizer/dp/B01I50UJG6/ref=sr_1_26?keywords=guitar&qid=1702736649&sr=8-26\n",
      "https://www.amazon.in/Medellin-Acoustic-Guitar-learning-Strings/dp/B0CCNSN9BV/ref=sr_1_27?keywords=guitar&qid=1702736649&sr=8-27\n",
      "https://www.amazon.in/Kadence-Frontier-Acoustic-Guitar-Strings/dp/B078GTJP5Y/ref=sr_1_28?keywords=guitar&qid=1702736649&sr=8-28\n",
      "https://www.amazon.in/Intern-INT-38C-Acoustic-Guitar-Purple/dp/B073B4CT2F/ref=sr_1_29?keywords=guitar&qid=1702736649&sr=8-29\n",
      "https://www.amazon.in/Kadence-Astro-Electric-Guitar-FRETS/dp/B09YHPH1MZ/ref=sr_1_30?keywords=guitar&qid=1702736649&sr=8-30\n",
      "https://www.amazon.in/Kadence-Frontier-Acoustic-Guitar-Equalizer/dp/B01HRIHJWY/ref=sr_1_31?keywords=guitar&qid=1702736649&sr=8-31\n",
      "https://www.amazon.in/Intern-INT-38C-NT-G-Guitar-Kit-Natural/dp/B07K9MZZH9/ref=sr_1_32?keywords=guitar&qid=1702736649&sr=8-32\n",
      "https://www.amazon.in/Yamaha-F310P-Acoustic-PitchPipe-StringWinder/dp/B00RW17X28/ref=sr_1_33?keywords=guitar&qid=1702736649&sr=8-33\n",
      "https://www.amazon.in/Strings-Straps-String-winder-Polishing/dp/B07RV9FJ2Z/ref=sr_1_34?keywords=guitar&qid=1702736649&sr=8-34\n",
      "https://www.amazon.in/Fender-FA-125CE-Dreadnought-Fingerboard-Natural/dp/B07R16NMKH/ref=sr_1_35?keywords=guitar&qid=1702736649&sr=8-35\n",
      "https://www.amazon.in/Dreadnought-Acoustic-Gig-Bag-Strings-Polishing/dp/B0BJJRJVHY/ref=sr_1_36?keywords=guitar&qid=1702736649&sr=8-36\n",
      "https://www.amazon.in/Blueberry-VIP-380-38Inch-Acoustic-Guitar/dp/B0BVR96DWH/ref=sr_1_37?keywords=guitar&qid=1702736649&sr=8-37\n",
      "https://www.amazon.in/Kadence-A281BK-Professional-Acoustic-Rosewood/dp/B0CD7D6C6R/ref=sr_1_38?keywords=guitar&qid=1702736649&sr=8-38\n",
      "https://www.amazon.in/FS80C-Acoustic-Cutaway-Concert-Plectrums/dp/B08XVV1WH7/ref=sr_1_39?keywords=guitar&qid=1702736649&sr=8-39\n",
      "https://www.amazon.in/Intern-INT-38C-Sunburst-Acoustic-Guitar/dp/B07X1J4D3Z/ref=sr_1_40?keywords=guitar&qid=1702736649&sr=8-40\n",
      "https://www.amazon.in/Yamaha-FSX80C-Acoustic-Cutaway-Natural/dp/B09HL3GFZF/ref=sr_1_41?keywords=guitar&qid=1702736649&sr=8-41\n",
      "https://www.amazon.in/JUAREZ-JRZ38CTR-BK-Acoustic-Guitar/dp/B08FTZK7H8/ref=sr_1_42?keywords=guitar&qid=1702736649&sr=8-42\n",
      "https://www.amazon.in/Armonia-38inch-Acoustic-Strings-Sunburst/dp/B0CJ5MW2YG/ref=sr_1_43?keywords=guitar&qid=1702736649&sr=8-43\n",
      "https://www.amazon.in/Ju%C3%A2rez-JRZ38C-WH-Strings-Acoustic/dp/B072MFK4L6/ref=sr_1_44?keywords=guitar&qid=1702736649&sr=8-44\n",
      "https://www.amazon.in/JUAREZ-JRZ38C-Acoustic-Natural-Strings/dp/B01FYYTDWC/ref=sr_1_45?keywords=guitar&qid=1702736649&sr=8-45\n",
      "https://www.amazon.in/Blueberry-38C-Acoustic-Guitar-Strings/dp/B08KLMV4XX/ref=sr_1_46?keywords=guitar&qid=1702736649&sr=8-46\n",
      "https://www.amazon.in/Yamaha-Classical-Guitar-C40-02/dp/B003UGCUFE/ref=sr_1_47?keywords=guitar&qid=1702736649&sr=8-47\n",
      "https://www.amazon.in/Acoustic-plectrums-stability-age-groups-Sparkling/dp/B09YH8C4D5/ref=sr_1_48?keywords=guitar&qid=1702736649&sr=8-48\n",
      "https://www.amazon.in/Fender-Dread-String-Acoustic-Guitar/dp/B07RL6VG3H/ref=sr_1_49?keywords=guitar&qid=1702736649&sr=8-49\n",
      "https://www.amazon.in/JRZ38C-VTS-Strings-Acoustic-Cutaway/dp/B072MFLQC9/ref=sr_1_50?keywords=guitar&qid=1702736649&sr=8-50\n",
      "https://www.amazon.in/Epiphone-Acoustic-Electric-Guitar-AJ-220SCE-EE2SEBNH3/dp/B004ISLGLC/ref=sr_1_51?keywords=guitar&qid=1702736649&sr=8-51\n",
      "https://www.amazon.in/Tanglewood-Crossroads-TWCR-DCE-Dreadnought/dp/B0746PZSJB/ref=sr_1_52?keywords=guitar&qid=1702736649&sr=8-52\n",
      "https://www.amazon.in/Kadence-Acoustica-Acoustic-Guitar-Spruce/dp/B08L7XW5SR/ref=sr_1_53?keywords=guitar&qid=1702736649&sr=8-53\n",
      "https://www.amazon.in/Intern-INT-38C-BLS-G-Guitar-Kit-Blue/dp/B07K8YXTNW/ref=sr_1_54?keywords=guitar&qid=1702736649&sr=8-54\n",
      "https://www.amazon.in/Fender-FA-235E-Concert-Bodied-Acoustic/dp/B07BCQ7P7Z/ref=sr_1_55?keywords=guitar&qid=1702736649&sr=8-55\n",
      "https://www.amazon.in/Juarez-Acoustic-Guitar-Cutaway-Strings/dp/B076QHZ4HZ/ref=sr_1_56?keywords=guitar&qid=1702736649&sr=8-56\n",
      "https://www.amazon.in/sspa/click?ie=UTF8&spc=MTozMjY0NzEwNDMyMDEyNzE0OjE3MDI3MzY2NDk6c3BfYnRmOjMwMDA3ODQxNjQyNjYzMjo6MDo6&url=%2FDEVICE-URBAN-INFOTECH-Acoustic-Semi-closed%2Fdp%2FB0CDRNCW82%2Fref%3Dsr_1_57_sspa%3Fkeywords%3Dguitar%26qid%3D1702736649%26sr%3D8-57-spons%26sp_csd%3Dd2lkZ2V0TmFtZT1zcF9idGY%26psc%3D1\n",
      "https://www.amazon.in/sspa/click?ie=UTF8&spc=MTozMjY0NzEwNDMyMDEyNzE0OjE3MDI3MzY2NDk6c3BfYnRmOjMwMDA5NDUxMTA0MTkzMjo6MDo6&url=%2FKaspar-Lindenwood-Acoustic-Cutaway-accessories%2Fdp%2FB0CM3WX9TS%2Fref%3Dsr_1_58_sspa%3Fkeywords%3Dguitar%26qid%3D1702736649%26sr%3D8-58-spons%26sp_csd%3Dd2lkZ2V0TmFtZT1zcF9idGY%26psc%3D1\n",
      "https://www.amazon.in/sspa/click?ie=UTF8&spc=MTozMjY0NzEwNDMyMDEyNzE0OjE3MDI3MzY2NDk6c3BfYnRmOjMwMDA5MDEyNDY4NDczMjo6MDo6&url=%2FGuitar-Machine-Acoustic-Electric-Guitars%2Fdp%2FB0C2CKS5L6%2Fref%3Dsr_1_59_sspa%3Fkeywords%3Dguitar%26qid%3D1702736649%26sr%3D8-59-spons%26sp_csd%3Dd2lkZ2V0TmFtZT1zcF9idGY%26psc%3D1\n",
      "https://www.amazon.in/sspa/click?ie=UTF8&spc=MTozMjY0NzEwNDMyMDEyNzE0OjE3MDI3MzY2NDk6c3BfYnRmOjMwMDA5MDEyNDY4NDkzMjo6MDo6&url=%2FAcoustic-Strings-Multicolored-Rotational-Guitars%2Fdp%2FB0C6DYX7YB%2Fref%3Dsr_1_60_sspa%3Fkeywords%3Dguitar%26qid%3D1702736649%26sr%3D8-60-spons%26sp_csd%3Dd2lkZ2V0TmFtZT1zcF9idGY%26psc%3D1\n",
      "https://aax-eu.amazon.in/x/c/RM9Myefi_KngBtiOS8GbWfUAAAGMcwNbvgMAAAH2AQBvbm9fdHhuX2JpZDEgICBvbm9fdHhuX2ltcDEgICDPGiht/https://www.amazon.in/Mackie-Studio-Bundle-Series/dp/B083NGKYJD/ref=sxbs_sbv_search_btf?content-id=amzn1.sym.7d6d801d-0b91-42f0-9ded-a1900c21a285%3Aamzn1.sym.7d6d801d-0b91-42f0-9ded-a1900c21a285&cv_ct_cx=guitar&keywords=guitar&pd_rd_i=B083NGKYJD&pd_rd_r=91d344af-5c2d-4f1f-a2fa-cfbf4743640d&pd_rd_w=Ulmed&pd_rd_wg=7KQCL&pf_rd_p=7d6d801d-0b91-42f0-9ded-a1900c21a285&pf_rd_r=SJJ0ARBRW9JJTCM194K7&qid=1702736649&sbo=RZvfv%2F%2FHxDF%2BO5021pAnSA%3D%3D&sr=1-1-25dedf61-9bde-4412-952b-c956ef4fc546\n",
      "https://www.amazon.in/sspa/click?ie=UTF8&spc=MTozMjY0NzEwNDMyMDEyNzE0OjE3MDI3MzY2NDk6c3BfYXRmOjMwMDAxNTUwODk1NDEzMjo6MDo6&url=%2FKadence-Frontier-Acoustic-Guitar-Strings%2Fdp%2FB01GDZ46AA%2Fref%3Dsr_1_1_sspa%3Fkeywords%3Dguitar%26qid%3D1702736649%26sr%3D8-1-spons%26sp_csd%3Dd2lkZ2V0TmFtZT1zcF9hdGY%26psc%3D1\n",
      "https://www.amazon.in/sspa/click?ie=UTF8&spc=MTozMjY0NzEwNDMyMDEyNzE0OjE3MDI3MzY2NDk6c3BfYXRmOjMwMDAxNTUzNzk3OTIzMjo6MDo6&url=%2FKadence-Frontier-Acoustic-Guitar-Strings%2Fdp%2FB078GTJP5Y%2Fref%3Dsr_1_2_sspa%3Fkeywords%3Dguitar%26qid%3D1702736649%26sr%3D8-2-spons%26sp_csd%3Dd2lkZ2V0TmFtZT1zcF9hdGY%26psc%3D1\n",
      "https://www.amazon.in/sspa/click?ie=UTF8&spc=MTozMjY0NzEwNDMyMDEyNzE0OjE3MDI3MzY2NDk6c3BfYXRmOjIwMDg4NDY1ODU5NDA0OjowOjo&url=%2FHenrix-Cutaway-Acoustic-Guitar-Action%2Fdp%2FB097NCQFFM%2Fref%3Dsr_1_3_sspa%3Fkeywords%3Dguitar%26qid%3D1702736649%26sr%3D8-3-spons%26sp_csd%3Dd2lkZ2V0TmFtZT1zcF9hdGY%26psc%3D1\n",
      "https://www.amazon.in/sspa/click?ie=UTF8&spc=MTozMjY0NzEwNDMyMDEyNzE0OjE3MDI3MzY2NDk6c3BfYXRmOjIwMDU3MTkzMDU2MjA0OjowOjo&url=%2FKadence-Slowhand-Premium-Acoustic-Instrument%2Fdp%2FB077SZ667X%2Fref%3Dsr_1_4_sspa%3Fkeywords%3Dguitar%26qid%3D1702736649%26sr%3D8-4-spons%26sp_csd%3Dd2lkZ2V0TmFtZT1zcF9hdGY%26psc%3D1\n",
      "https://www.amazon.in/Juarez-Acoustic-Cutaway-038C-Strings/dp/B017NPCSLI/ref=sr_1_5?keywords=guitar&qid=1702736649&sr=8-5\n",
      "https://www.amazon.in/Yamaha-6-String-Acoustic-Right-Handed-Sunburst/dp/B000WITGQO/ref=sr_1_6?keywords=guitar&qid=1702736649&sr=8-6\n",
      "https://www.amazon.in/Yamaha-Acoustic-Tobacco-Sunburst-Bajaao/dp/B09PBDGD82/ref=sr_1_7?keywords=guitar&qid=1702736649&sr=8-7\n",
      "https://aax-eu.amazon.in/x/c/RHWKG02FG2UvJW1ZHQqvd3EAAAGMcwNbrwMAAAH2AQBvbm9fdHhuX2JpZDIgICBvbm9fdHhuX2ltcDEgICBrnWOQ/https://www.amazon.in/Radhe-Flutes-Natural-Bansuri-Middle/dp/B07T35ZBHB/ref=sxin_15_sbv_search_btf?content-id=amzn1.sym.10447c6b-3f84-4df3-b999-01a8bbbf010e%3Aamzn1.sym.10447c6b-3f84-4df3-b999-01a8bbbf010e&cv_ct_cx=guitar&keywords=guitar&pd_rd_i=B07T35ZBHB&pd_rd_r=339cdacb-38f6-4ac5-8910-81c23a9b9b4c&pd_rd_w=wAgLb&pd_rd_wg=mStry&pf_rd_p=10447c6b-3f84-4df3-b999-01a8bbbf010e&pf_rd_r=SJJ0ARBRW9JJTCM194K7&qid=1702736649&sbo=RZvfv%2F%2FHxDF%2BO5021pAnSA%3D%3D&sr=1-1-b614a050-8d70-4320-9c19-cc457ab2a351\n",
      "https://www.amazon.in/Henrix-Cutaway-Acoustic-Die-cast-Dual-action/dp/B07VHSCGCG/ref=sr_1_8?keywords=guitar&qid=1702736649&sr=8-8\n",
      "https://www.amazon.in/JUAREZ-JRZ38C-Acoustic-Sunburst-Strings/dp/B01FYYTDS6/ref=sr_1_9?keywords=guitar&qid=1702736649&sr=8-9\n",
      "https://www.amazon.in/Juarez-JRZ-ST01-6-String-Electric-Without/dp/B01FYZSOGM/ref=sr_1_10?keywords=guitar&qid=1702736649&sr=8-10\n",
      "https://www.amazon.in/JUAREZ-JRZ38C-Acoustic-Sunburst-Strings/dp/B01FYYTDTU/ref=sr_1_11?keywords=guitar&qid=1702736649&sr=8-11\n",
      "https://www.amazon.in/Juarez-JRZ-ST01-6-String-Electric-Without/dp/B01FYZSOEO/ref=sr_1_12?keywords=guitar&qid=1702736649&sr=8-12\n",
      "https://www.amazon.in/Ultimate-Concert-Cutaway-Acoustic-Bajaao/dp/B08WHWKKV5/ref=sr_1_13?keywords=guitar&qid=1702736649&sr=8-13\n",
      "https://www.amazon.in/Yamaha-F280-Acoustic-Guitar-Natural/dp/B08317Y4VP/ref=sr_1_14?keywords=guitar&qid=1702736649&sr=8-14\n",
      "https://www.amazon.in/Intern-Acoustic-Steel-string-plectrums-INT-38C-WH/dp/B09LR94Z2X/ref=sr_1_15?keywords=guitar&qid=1702736649&sr=8-15\n",
      "https://www.amazon.in/Intern-38-inch-Cutaway-Design-Acoustic/dp/B07X4PN85R/ref=sr_1_16?keywords=guitar&qid=1702736649&sr=8-16\n",
      "https://www.amazon.in/Kadence-Dreadnought-Acoustic-Guitar-learning/dp/B0CH8L5NF3/ref=sr_1_17?keywords=guitar&qid=1702736649&sr=8-17\n",
      "https://www.amazon.in/BLUEBERRY-B-38C-Acoustic-Guitar-Strings/dp/B0CNW1B2CB/ref=sr_1_18?keywords=guitar&qid=1702736649&sr=8-18\n",
      "https://www.amazon.in/Fender-String-Cutaway-Acoustic-Guitar/dp/B07YX5W8MV/ref=sr_1_19?keywords=guitar&qid=1702736649&sr=8-19\n",
      "https://www.amazon.in/JUAREZ-Electric-Guitar-Handed-Sunburst/dp/B0758HTV7R/ref=sr_1_20?keywords=guitar&qid=1702736649&sr=8-20\n",
      "https://www.amazon.in/sspa/click?ie=UTF8&spc=MTozMjY0NzEwNDMyMDEyNzE0OjE3MDI3MzY2NDk6c3BfbXRmOjMwMDA2NjY0MDEyNTgzMjo6MDo6&url=%2FWOODEN-Guitar-Beginner-Adults-Starter%2Fdp%2FB0C816MJ4Y%2Fref%3Dsr_1_21_sspa%3Fkeywords%3Dguitar%26qid%3D1702736649%26sr%3D8-21-spons%26sp_csd%3Dd2lkZ2V0TmFtZT1zcF9tdGY%26psc%3D1%26smid%3DA18L95ZYZC8GH7\n",
      "https://www.amazon.in/sspa/click?ie=UTF8&spc=MTozMjY0NzEwNDMyMDEyNzE0OjE3MDI3MzY2NDk6c3BfbXRmOjMwMDEwNzk0NzYzNzczMjo6MDo6&url=%2FAcoustic-Pick-up-stability-professional-amplificaiton%2Fdp%2FB09YH8YQR1%2Fref%3Dsr_1_22_sspa%3Fkeywords%3Dguitar%26qid%3D1702736649%26sr%3D8-22-spons%26sp_csd%3Dd2lkZ2V0TmFtZT1zcF9tdGY%26psc%3D1\n",
      "https://www.amazon.in/sspa/click?ie=UTF8&spc=MTozMjY0NzEwNDMyMDEyNzE0OjE3MDI3MzY2NDk6c3BfbXRmOjMwMDA4NDM4MDAxMDkzMjo6MDo6&url=%2FDreadnought-Acoustic-Gig-Bag-Strings-Polishing%2Fdp%2FB0BJJRJVHY%2Fref%3Dsr_1_23_sspa%3Fkeywords%3Dguitar%26qid%3D1702736649%26sr%3D8-23-spons%26sp_csd%3Dd2lkZ2V0TmFtZT1zcF9tdGY%26psc%3D1\n",
      "https://www.amazon.in/sspa/click?ie=UTF8&spc=MTozMjY0NzEwNDMyMDEyNzE0OjE3MDI3MzY2NDk6c3BfbXRmOjMwMDA5ODkzODIzODczMjo6MDo6&url=%2FLindenwood-Acoustic-Cutaway-beginers-students%2Fdp%2FB0CNTJ9CFR%2Fref%3Dsr_1_24_sspa%3Fkeywords%3Dguitar%26qid%3D1702736649%26sr%3D8-24-spons%26sp_csd%3Dd2lkZ2V0TmFtZT1zcF9tdGY%26psc%3D1\n",
      "https://www.amazon.in/Intern-INT-38C-Acoustic-Guitar-Sunburst/dp/B073B5MJRM/ref=sr_1_25?keywords=guitar&qid=1702736649&sr=8-25\n",
      "https://www.amazon.in/Kadence-Frontier-Acoustic-Natural-Equalizer/dp/B01I50UJG6/ref=sr_1_26?keywords=guitar&qid=1702736649&sr=8-26\n",
      "https://www.amazon.in/Medellin-Acoustic-Guitar-learning-Strings/dp/B0CCNSN9BV/ref=sr_1_27?keywords=guitar&qid=1702736649&sr=8-27\n",
      "https://www.amazon.in/Kadence-Frontier-Acoustic-Guitar-Strings/dp/B078GTJP5Y/ref=sr_1_28?keywords=guitar&qid=1702736649&sr=8-28\n",
      "https://www.amazon.in/Intern-INT-38C-Acoustic-Guitar-Purple/dp/B073B4CT2F/ref=sr_1_29?keywords=guitar&qid=1702736649&sr=8-29\n",
      "https://www.amazon.in/Kadence-Astro-Electric-Guitar-FRETS/dp/B09YHPH1MZ/ref=sr_1_30?keywords=guitar&qid=1702736649&sr=8-30\n",
      "https://www.amazon.in/Kadence-Frontier-Acoustic-Guitar-Equalizer/dp/B01HRIHJWY/ref=sr_1_31?keywords=guitar&qid=1702736649&sr=8-31\n",
      "https://www.amazon.in/Intern-INT-38C-NT-G-Guitar-Kit-Natural/dp/B07K9MZZH9/ref=sr_1_32?keywords=guitar&qid=1702736649&sr=8-32\n",
      "https://www.amazon.in/Yamaha-F310P-Acoustic-PitchPipe-StringWinder/dp/B00RW17X28/ref=sr_1_33?keywords=guitar&qid=1702736649&sr=8-33\n",
      "https://www.amazon.in/Strings-Straps-String-winder-Polishing/dp/B07RV9FJ2Z/ref=sr_1_34?keywords=guitar&qid=1702736649&sr=8-34\n",
      "https://www.amazon.in/Fender-FA-125CE-Dreadnought-Fingerboard-Natural/dp/B07R16NMKH/ref=sr_1_35?keywords=guitar&qid=1702736649&sr=8-35\n",
      "https://www.amazon.in/Dreadnought-Acoustic-Gig-Bag-Strings-Polishing/dp/B0BJJRJVHY/ref=sr_1_36?keywords=guitar&qid=1702736649&sr=8-36\n",
      "https://www.amazon.in/Blueberry-VIP-380-38Inch-Acoustic-Guitar/dp/B0BVR96DWH/ref=sr_1_37?keywords=guitar&qid=1702736649&sr=8-37\n",
      "https://www.amazon.in/Kadence-A281BK-Professional-Acoustic-Rosewood/dp/B0CD7D6C6R/ref=sr_1_38?keywords=guitar&qid=1702736649&sr=8-38\n",
      "https://www.amazon.in/FS80C-Acoustic-Cutaway-Concert-Plectrums/dp/B08XVV1WH7/ref=sr_1_39?keywords=guitar&qid=1702736649&sr=8-39\n",
      "https://www.amazon.in/Intern-INT-38C-Sunburst-Acoustic-Guitar/dp/B07X1J4D3Z/ref=sr_1_40?keywords=guitar&qid=1702736649&sr=8-40\n",
      "https://www.amazon.in/Yamaha-FSX80C-Acoustic-Cutaway-Natural/dp/B09HL3GFZF/ref=sr_1_41?keywords=guitar&qid=1702736649&sr=8-41\n",
      "https://www.amazon.in/JUAREZ-JRZ38CTR-BK-Acoustic-Guitar/dp/B08FTZK7H8/ref=sr_1_42?keywords=guitar&qid=1702736649&sr=8-42\n",
      "https://www.amazon.in/Armonia-38inch-Acoustic-Strings-Sunburst/dp/B0CJ5MW2YG/ref=sr_1_43?keywords=guitar&qid=1702736649&sr=8-43\n",
      "https://www.amazon.in/Ju%C3%A2rez-JRZ38C-WH-Strings-Acoustic/dp/B072MFK4L6/ref=sr_1_44?keywords=guitar&qid=1702736649&sr=8-44\n",
      "https://www.amazon.in/JUAREZ-JRZ38C-Acoustic-Natural-Strings/dp/B01FYYTDWC/ref=sr_1_45?keywords=guitar&qid=1702736649&sr=8-45\n",
      "https://www.amazon.in/Blueberry-38C-Acoustic-Guitar-Strings/dp/B08KLMV4XX/ref=sr_1_46?keywords=guitar&qid=1702736649&sr=8-46\n",
      "https://www.amazon.in/Yamaha-Classical-Guitar-C40-02/dp/B003UGCUFE/ref=sr_1_47?keywords=guitar&qid=1702736649&sr=8-47\n",
      "https://www.amazon.in/Acoustic-plectrums-stability-age-groups-Sparkling/dp/B09YH8C4D5/ref=sr_1_48?keywords=guitar&qid=1702736649&sr=8-48\n",
      "https://www.amazon.in/Fender-Dread-String-Acoustic-Guitar/dp/B07RL6VG3H/ref=sr_1_49?keywords=guitar&qid=1702736649&sr=8-49\n",
      "https://www.amazon.in/JRZ38C-VTS-Strings-Acoustic-Cutaway/dp/B072MFLQC9/ref=sr_1_50?keywords=guitar&qid=1702736649&sr=8-50\n",
      "https://www.amazon.in/Epiphone-Acoustic-Electric-Guitar-AJ-220SCE-EE2SEBNH3/dp/B004ISLGLC/ref=sr_1_51?keywords=guitar&qid=1702736649&sr=8-51\n",
      "https://www.amazon.in/Tanglewood-Crossroads-TWCR-DCE-Dreadnought/dp/B0746PZSJB/ref=sr_1_52?keywords=guitar&qid=1702736649&sr=8-52\n",
      "https://www.amazon.in/Kadence-Acoustica-Acoustic-Guitar-Spruce/dp/B08L7XW5SR/ref=sr_1_53?keywords=guitar&qid=1702736649&sr=8-53\n",
      "https://www.amazon.in/Intern-INT-38C-BLS-G-Guitar-Kit-Blue/dp/B07K8YXTNW/ref=sr_1_54?keywords=guitar&qid=1702736649&sr=8-54\n",
      "https://www.amazon.in/Fender-FA-235E-Concert-Bodied-Acoustic/dp/B07BCQ7P7Z/ref=sr_1_55?keywords=guitar&qid=1702736649&sr=8-55\n",
      "https://www.amazon.in/Juarez-Acoustic-Guitar-Cutaway-Strings/dp/B076QHZ4HZ/ref=sr_1_56?keywords=guitar&qid=1702736649&sr=8-56\n",
      "https://www.amazon.in/sspa/click?ie=UTF8&spc=MTozMjY0NzEwNDMyMDEyNzE0OjE3MDI3MzY2NDk6c3BfYnRmOjMwMDA3ODQxNjQyNjYzMjo6MDo6&url=%2FDEVICE-URBAN-INFOTECH-Acoustic-Semi-closed%2Fdp%2FB0CDRNCW82%2Fref%3Dsr_1_57_sspa%3Fkeywords%3Dguitar%26qid%3D1702736649%26sr%3D8-57-spons%26sp_csd%3Dd2lkZ2V0TmFtZT1zcF9idGY%26psc%3D1\n",
      "https://www.amazon.in/sspa/click?ie=UTF8&spc=MTozMjY0NzEwNDMyMDEyNzE0OjE3MDI3MzY2NDk6c3BfYnRmOjMwMDA5NDUxMTA0MTkzMjo6MDo6&url=%2FKaspar-Lindenwood-Acoustic-Cutaway-accessories%2Fdp%2FB0CM3WX9TS%2Fref%3Dsr_1_58_sspa%3Fkeywords%3Dguitar%26qid%3D1702736649%26sr%3D8-58-spons%26sp_csd%3Dd2lkZ2V0TmFtZT1zcF9idGY%26psc%3D1\n",
      "https://www.amazon.in/sspa/click?ie=UTF8&spc=MTozMjY0NzEwNDMyMDEyNzE0OjE3MDI3MzY2NDk6c3BfYnRmOjMwMDA5MDEyNDY4NDczMjo6MDo6&url=%2FGuitar-Machine-Acoustic-Electric-Guitars%2Fdp%2FB0C2CKS5L6%2Fref%3Dsr_1_59_sspa%3Fkeywords%3Dguitar%26qid%3D1702736649%26sr%3D8-59-spons%26sp_csd%3Dd2lkZ2V0TmFtZT1zcF9idGY%26psc%3D1\n",
      "https://www.amazon.in/sspa/click?ie=UTF8&spc=MTozMjY0NzEwNDMyMDEyNzE0OjE3MDI3MzY2NDk6c3BfYnRmOjMwMDA5MDEyNDY4NDkzMjo6MDo6&url=%2FAcoustic-Strings-Multicolored-Rotational-Guitars%2Fdp%2FB0C6DYX7YB%2Fref%3Dsr_1_60_sspa%3Fkeywords%3Dguitar%26qid%3D1702736649%26sr%3D8-60-spons%26sp_csd%3Dd2lkZ2V0TmFtZT1zcF9idGY%26psc%3D1\n",
      "https://aax-eu.amazon.in/x/c/RM9Myefi_KngBtiOS8GbWfUAAAGMcwNbvgMAAAH2AQBvbm9fdHhuX2JpZDEgICBvbm9fdHhuX2ltcDEgICDPGiht/https://www.amazon.in/Mackie-Studio-Bundle-Series/dp/B083NGKYJD/ref=sxbs_sbv_search_btf?content-id=amzn1.sym.7d6d801d-0b91-42f0-9ded-a1900c21a285%3Aamzn1.sym.7d6d801d-0b91-42f0-9ded-a1900c21a285&cv_ct_cx=guitar&keywords=guitar&pd_rd_i=B083NGKYJD&pd_rd_r=91d344af-5c2d-4f1f-a2fa-cfbf4743640d&pd_rd_w=Ulmed&pd_rd_wg=7KQCL&pf_rd_p=7d6d801d-0b91-42f0-9ded-a1900c21a285&pf_rd_r=SJJ0ARBRW9JJTCM194K7&qid=1702736649&sbo=RZvfv%2F%2FHxDF%2BO5021pAnSA%3D%3D&sr=1-1-25dedf61-9bde-4412-952b-c956ef4fc546\n",
      "https://www.amazon.in/sspa/click?ie=UTF8&spc=MTozMjY0NzEwNDMyMDEyNzE0OjE3MDI3MzY2NDk6c3BfYXRmOjMwMDAxNTUwODk1NDEzMjo6MDo6&url=%2FKadence-Frontier-Acoustic-Guitar-Strings%2Fdp%2FB01GDZ46AA%2Fref%3Dsr_1_1_sspa%3Fkeywords%3Dguitar%26qid%3D1702736649%26sr%3D8-1-spons%26sp_csd%3Dd2lkZ2V0TmFtZT1zcF9hdGY%26psc%3D1\n",
      "https://www.amazon.in/sspa/click?ie=UTF8&spc=MTozMjY0NzEwNDMyMDEyNzE0OjE3MDI3MzY2NDk6c3BfYXRmOjMwMDAxNTUzNzk3OTIzMjo6MDo6&url=%2FKadence-Frontier-Acoustic-Guitar-Strings%2Fdp%2FB078GTJP5Y%2Fref%3Dsr_1_2_sspa%3Fkeywords%3Dguitar%26qid%3D1702736649%26sr%3D8-2-spons%26sp_csd%3Dd2lkZ2V0TmFtZT1zcF9hdGY%26psc%3D1\n",
      "https://www.amazon.in/sspa/click?ie=UTF8&spc=MTozMjY0NzEwNDMyMDEyNzE0OjE3MDI3MzY2NDk6c3BfYXRmOjIwMDg4NDY1ODU5NDA0OjowOjo&url=%2FHenrix-Cutaway-Acoustic-Guitar-Action%2Fdp%2FB097NCQFFM%2Fref%3Dsr_1_3_sspa%3Fkeywords%3Dguitar%26qid%3D1702736649%26sr%3D8-3-spons%26sp_csd%3Dd2lkZ2V0TmFtZT1zcF9hdGY%26psc%3D1\n",
      "https://www.amazon.in/sspa/click?ie=UTF8&spc=MTozMjY0NzEwNDMyMDEyNzE0OjE3MDI3MzY2NDk6c3BfYXRmOjIwMDU3MTkzMDU2MjA0OjowOjo&url=%2FKadence-Slowhand-Premium-Acoustic-Instrument%2Fdp%2FB077SZ667X%2Fref%3Dsr_1_4_sspa%3Fkeywords%3Dguitar%26qid%3D1702736649%26sr%3D8-4-spons%26sp_csd%3Dd2lkZ2V0TmFtZT1zcF9hdGY%26psc%3D1\n",
      "https://www.amazon.in/Juarez-Acoustic-Cutaway-038C-Strings/dp/B017NPCSLI/ref=sr_1_5?keywords=guitar&qid=1702736649&sr=8-5\n",
      "https://www.amazon.in/Yamaha-6-String-Acoustic-Right-Handed-Sunburst/dp/B000WITGQO/ref=sr_1_6?keywords=guitar&qid=1702736649&sr=8-6\n",
      "https://www.amazon.in/Yamaha-Acoustic-Tobacco-Sunburst-Bajaao/dp/B09PBDGD82/ref=sr_1_7?keywords=guitar&qid=1702736649&sr=8-7\n",
      "https://aax-eu.amazon.in/x/c/RHWKG02FG2UvJW1ZHQqvd3EAAAGMcwNbrwMAAAH2AQBvbm9fdHhuX2JpZDIgICBvbm9fdHhuX2ltcDEgICBrnWOQ/https://www.amazon.in/Radhe-Flutes-Natural-Bansuri-Middle/dp/B07T35ZBHB/ref=sxin_15_sbv_search_btf?content-id=amzn1.sym.10447c6b-3f84-4df3-b999-01a8bbbf010e%3Aamzn1.sym.10447c6b-3f84-4df3-b999-01a8bbbf010e&cv_ct_cx=guitar&keywords=guitar&pd_rd_i=B07T35ZBHB&pd_rd_r=339cdacb-38f6-4ac5-8910-81c23a9b9b4c&pd_rd_w=wAgLb&pd_rd_wg=mStry&pf_rd_p=10447c6b-3f84-4df3-b999-01a8bbbf010e&pf_rd_r=SJJ0ARBRW9JJTCM194K7&qid=1702736649&sbo=RZvfv%2F%2FHxDF%2BO5021pAnSA%3D%3D&sr=1-1-b614a050-8d70-4320-9c19-cc457ab2a351\n",
      "https://www.amazon.in/Henrix-Cutaway-Acoustic-Die-cast-Dual-action/dp/B07VHSCGCG/ref=sr_1_8?keywords=guitar&qid=1702736649&sr=8-8\n",
      "https://www.amazon.in/JUAREZ-JRZ38C-Acoustic-Sunburst-Strings/dp/B01FYYTDS6/ref=sr_1_9?keywords=guitar&qid=1702736649&sr=8-9\n",
      "https://www.amazon.in/Juarez-JRZ-ST01-6-String-Electric-Without/dp/B01FYZSOGM/ref=sr_1_10?keywords=guitar&qid=1702736649&sr=8-10\n",
      "https://www.amazon.in/JUAREZ-JRZ38C-Acoustic-Sunburst-Strings/dp/B01FYYTDTU/ref=sr_1_11?keywords=guitar&qid=1702736649&sr=8-11\n",
      "https://www.amazon.in/Juarez-JRZ-ST01-6-String-Electric-Without/dp/B01FYZSOEO/ref=sr_1_12?keywords=guitar&qid=1702736649&sr=8-12\n",
      "https://www.amazon.in/Ultimate-Concert-Cutaway-Acoustic-Bajaao/dp/B08WHWKKV5/ref=sr_1_13?keywords=guitar&qid=1702736649&sr=8-13\n",
      "https://www.amazon.in/Yamaha-F280-Acoustic-Guitar-Natural/dp/B08317Y4VP/ref=sr_1_14?keywords=guitar&qid=1702736649&sr=8-14\n",
      "https://www.amazon.in/Intern-Acoustic-Steel-string-plectrums-INT-38C-WH/dp/B09LR94Z2X/ref=sr_1_15?keywords=guitar&qid=1702736649&sr=8-15\n",
      "https://www.amazon.in/Intern-38-inch-Cutaway-Design-Acoustic/dp/B07X4PN85R/ref=sr_1_16?keywords=guitar&qid=1702736649&sr=8-16\n",
      "https://www.amazon.in/Kadence-Dreadnought-Acoustic-Guitar-learning/dp/B0CH8L5NF3/ref=sr_1_17?keywords=guitar&qid=1702736649&sr=8-17\n",
      "https://www.amazon.in/BLUEBERRY-B-38C-Acoustic-Guitar-Strings/dp/B0CNW1B2CB/ref=sr_1_18?keywords=guitar&qid=1702736649&sr=8-18\n",
      "https://www.amazon.in/Fender-String-Cutaway-Acoustic-Guitar/dp/B07YX5W8MV/ref=sr_1_19?keywords=guitar&qid=1702736649&sr=8-19\n",
      "https://www.amazon.in/JUAREZ-Electric-Guitar-Handed-Sunburst/dp/B0758HTV7R/ref=sr_1_20?keywords=guitar&qid=1702736649&sr=8-20\n",
      "https://www.amazon.in/sspa/click?ie=UTF8&spc=MTozMjY0NzEwNDMyMDEyNzE0OjE3MDI3MzY2NDk6c3BfbXRmOjMwMDA2NjY0MDEyNTgzMjo6MDo6&url=%2FWOODEN-Guitar-Beginner-Adults-Starter%2Fdp%2FB0C816MJ4Y%2Fref%3Dsr_1_21_sspa%3Fkeywords%3Dguitar%26qid%3D1702736649%26sr%3D8-21-spons%26sp_csd%3Dd2lkZ2V0TmFtZT1zcF9tdGY%26psc%3D1%26smid%3DA18L95ZYZC8GH7\n",
      "https://www.amazon.in/sspa/click?ie=UTF8&spc=MTozMjY0NzEwNDMyMDEyNzE0OjE3MDI3MzY2NDk6c3BfbXRmOjMwMDEwNzk0NzYzNzczMjo6MDo6&url=%2FAcoustic-Pick-up-stability-professional-amplificaiton%2Fdp%2FB09YH8YQR1%2Fref%3Dsr_1_22_sspa%3Fkeywords%3Dguitar%26qid%3D1702736649%26sr%3D8-22-spons%26sp_csd%3Dd2lkZ2V0TmFtZT1zcF9tdGY%26psc%3D1\n",
      "https://www.amazon.in/sspa/click?ie=UTF8&spc=MTozMjY0NzEwNDMyMDEyNzE0OjE3MDI3MzY2NDk6c3BfbXRmOjMwMDA4NDM4MDAxMDkzMjo6MDo6&url=%2FDreadnought-Acoustic-Gig-Bag-Strings-Polishing%2Fdp%2FB0BJJRJVHY%2Fref%3Dsr_1_23_sspa%3Fkeywords%3Dguitar%26qid%3D1702736649%26sr%3D8-23-spons%26sp_csd%3Dd2lkZ2V0TmFtZT1zcF9tdGY%26psc%3D1\n",
      "https://www.amazon.in/sspa/click?ie=UTF8&spc=MTozMjY0NzEwNDMyMDEyNzE0OjE3MDI3MzY2NDk6c3BfbXRmOjMwMDA5ODkzODIzODczMjo6MDo6&url=%2FLindenwood-Acoustic-Cutaway-beginers-students%2Fdp%2FB0CNTJ9CFR%2Fref%3Dsr_1_24_sspa%3Fkeywords%3Dguitar%26qid%3D1702736649%26sr%3D8-24-spons%26sp_csd%3Dd2lkZ2V0TmFtZT1zcF9tdGY%26psc%3D1\n",
      "https://www.amazon.in/Intern-INT-38C-Acoustic-Guitar-Sunburst/dp/B073B5MJRM/ref=sr_1_25?keywords=guitar&qid=1702736649&sr=8-25\n",
      "https://www.amazon.in/Kadence-Frontier-Acoustic-Natural-Equalizer/dp/B01I50UJG6/ref=sr_1_26?keywords=guitar&qid=1702736649&sr=8-26\n",
      "https://www.amazon.in/Medellin-Acoustic-Guitar-learning-Strings/dp/B0CCNSN9BV/ref=sr_1_27?keywords=guitar&qid=1702736649&sr=8-27\n",
      "https://www.amazon.in/Kadence-Frontier-Acoustic-Guitar-Strings/dp/B078GTJP5Y/ref=sr_1_28?keywords=guitar&qid=1702736649&sr=8-28\n",
      "https://www.amazon.in/Intern-INT-38C-Acoustic-Guitar-Purple/dp/B073B4CT2F/ref=sr_1_29?keywords=guitar&qid=1702736649&sr=8-29\n",
      "https://www.amazon.in/Kadence-Astro-Electric-Guitar-FRETS/dp/B09YHPH1MZ/ref=sr_1_30?keywords=guitar&qid=1702736649&sr=8-30\n",
      "https://www.amazon.in/Kadence-Frontier-Acoustic-Guitar-Equalizer/dp/B01HRIHJWY/ref=sr_1_31?keywords=guitar&qid=1702736649&sr=8-31\n",
      "https://www.amazon.in/Intern-INT-38C-NT-G-Guitar-Kit-Natural/dp/B07K9MZZH9/ref=sr_1_32?keywords=guitar&qid=1702736649&sr=8-32\n",
      "https://www.amazon.in/Yamaha-F310P-Acoustic-PitchPipe-StringWinder/dp/B00RW17X28/ref=sr_1_33?keywords=guitar&qid=1702736649&sr=8-33\n",
      "https://www.amazon.in/Strings-Straps-String-winder-Polishing/dp/B07RV9FJ2Z/ref=sr_1_34?keywords=guitar&qid=1702736649&sr=8-34\n",
      "https://www.amazon.in/Fender-FA-125CE-Dreadnought-Fingerboard-Natural/dp/B07R16NMKH/ref=sr_1_35?keywords=guitar&qid=1702736649&sr=8-35\n",
      "https://www.amazon.in/Dreadnought-Acoustic-Gig-Bag-Strings-Polishing/dp/B0BJJRJVHY/ref=sr_1_36?keywords=guitar&qid=1702736649&sr=8-36\n",
      "https://www.amazon.in/Blueberry-VIP-380-38Inch-Acoustic-Guitar/dp/B0BVR96DWH/ref=sr_1_37?keywords=guitar&qid=1702736649&sr=8-37\n",
      "https://www.amazon.in/Kadence-A281BK-Professional-Acoustic-Rosewood/dp/B0CD7D6C6R/ref=sr_1_38?keywords=guitar&qid=1702736649&sr=8-38\n",
      "https://www.amazon.in/FS80C-Acoustic-Cutaway-Concert-Plectrums/dp/B08XVV1WH7/ref=sr_1_39?keywords=guitar&qid=1702736649&sr=8-39\n",
      "https://www.amazon.in/Intern-INT-38C-Sunburst-Acoustic-Guitar/dp/B07X1J4D3Z/ref=sr_1_40?keywords=guitar&qid=1702736649&sr=8-40\n",
      "https://www.amazon.in/Yamaha-FSX80C-Acoustic-Cutaway-Natural/dp/B09HL3GFZF/ref=sr_1_41?keywords=guitar&qid=1702736649&sr=8-41\n",
      "https://www.amazon.in/JUAREZ-JRZ38CTR-BK-Acoustic-Guitar/dp/B08FTZK7H8/ref=sr_1_42?keywords=guitar&qid=1702736649&sr=8-42\n",
      "https://www.amazon.in/Armonia-38inch-Acoustic-Strings-Sunburst/dp/B0CJ5MW2YG/ref=sr_1_43?keywords=guitar&qid=1702736649&sr=8-43\n",
      "https://www.amazon.in/Ju%C3%A2rez-JRZ38C-WH-Strings-Acoustic/dp/B072MFK4L6/ref=sr_1_44?keywords=guitar&qid=1702736649&sr=8-44\n",
      "https://www.amazon.in/JUAREZ-JRZ38C-Acoustic-Natural-Strings/dp/B01FYYTDWC/ref=sr_1_45?keywords=guitar&qid=1702736649&sr=8-45\n",
      "https://www.amazon.in/Blueberry-38C-Acoustic-Guitar-Strings/dp/B08KLMV4XX/ref=sr_1_46?keywords=guitar&qid=1702736649&sr=8-46\n",
      "https://www.amazon.in/Yamaha-Classical-Guitar-C40-02/dp/B003UGCUFE/ref=sr_1_47?keywords=guitar&qid=1702736649&sr=8-47\n",
      "https://www.amazon.in/Acoustic-plectrums-stability-age-groups-Sparkling/dp/B09YH8C4D5/ref=sr_1_48?keywords=guitar&qid=1702736649&sr=8-48\n",
      "https://www.amazon.in/Fender-Dread-String-Acoustic-Guitar/dp/B07RL6VG3H/ref=sr_1_49?keywords=guitar&qid=1702736649&sr=8-49\n",
      "https://www.amazon.in/JRZ38C-VTS-Strings-Acoustic-Cutaway/dp/B072MFLQC9/ref=sr_1_50?keywords=guitar&qid=1702736649&sr=8-50\n",
      "https://www.amazon.in/Epiphone-Acoustic-Electric-Guitar-AJ-220SCE-EE2SEBNH3/dp/B004ISLGLC/ref=sr_1_51?keywords=guitar&qid=1702736649&sr=8-51\n",
      "https://www.amazon.in/Tanglewood-Crossroads-TWCR-DCE-Dreadnought/dp/B0746PZSJB/ref=sr_1_52?keywords=guitar&qid=1702736649&sr=8-52\n",
      "https://www.amazon.in/Kadence-Acoustica-Acoustic-Guitar-Spruce/dp/B08L7XW5SR/ref=sr_1_53?keywords=guitar&qid=1702736649&sr=8-53\n",
      "https://www.amazon.in/Intern-INT-38C-BLS-G-Guitar-Kit-Blue/dp/B07K8YXTNW/ref=sr_1_54?keywords=guitar&qid=1702736649&sr=8-54\n",
      "https://www.amazon.in/Fender-FA-235E-Concert-Bodied-Acoustic/dp/B07BCQ7P7Z/ref=sr_1_55?keywords=guitar&qid=1702736649&sr=8-55\n",
      "https://www.amazon.in/Juarez-Acoustic-Guitar-Cutaway-Strings/dp/B076QHZ4HZ/ref=sr_1_56?keywords=guitar&qid=1702736649&sr=8-56\n",
      "https://www.amazon.in/sspa/click?ie=UTF8&spc=MTozMjY0NzEwNDMyMDEyNzE0OjE3MDI3MzY2NDk6c3BfYnRmOjMwMDA3ODQxNjQyNjYzMjo6MDo6&url=%2FDEVICE-URBAN-INFOTECH-Acoustic-Semi-closed%2Fdp%2FB0CDRNCW82%2Fref%3Dsr_1_57_sspa%3Fkeywords%3Dguitar%26qid%3D1702736649%26sr%3D8-57-spons%26sp_csd%3Dd2lkZ2V0TmFtZT1zcF9idGY%26psc%3D1\n",
      "https://www.amazon.in/sspa/click?ie=UTF8&spc=MTozMjY0NzEwNDMyMDEyNzE0OjE3MDI3MzY2NDk6c3BfYnRmOjMwMDA5NDUxMTA0MTkzMjo6MDo6&url=%2FKaspar-Lindenwood-Acoustic-Cutaway-accessories%2Fdp%2FB0CM3WX9TS%2Fref%3Dsr_1_58_sspa%3Fkeywords%3Dguitar%26qid%3D1702736649%26sr%3D8-58-spons%26sp_csd%3Dd2lkZ2V0TmFtZT1zcF9idGY%26psc%3D1\n",
      "https://www.amazon.in/sspa/click?ie=UTF8&spc=MTozMjY0NzEwNDMyMDEyNzE0OjE3MDI3MzY2NDk6c3BfYnRmOjMwMDA5MDEyNDY4NDczMjo6MDo6&url=%2FGuitar-Machine-Acoustic-Electric-Guitars%2Fdp%2FB0C2CKS5L6%2Fref%3Dsr_1_59_sspa%3Fkeywords%3Dguitar%26qid%3D1702736649%26sr%3D8-59-spons%26sp_csd%3Dd2lkZ2V0TmFtZT1zcF9idGY%26psc%3D1\n",
      "https://www.amazon.in/sspa/click?ie=UTF8&spc=MTozMjY0NzEwNDMyMDEyNzE0OjE3MDI3MzY2NDk6c3BfYnRmOjMwMDA5MDEyNDY4NDkzMjo6MDo6&url=%2FAcoustic-Strings-Multicolored-Rotational-Guitars%2Fdp%2FB0C6DYX7YB%2Fref%3Dsr_1_60_sspa%3Fkeywords%3Dguitar%26qid%3D1702736649%26sr%3D8-60-spons%26sp_csd%3Dd2lkZ2V0TmFtZT1zcF9idGY%26psc%3D1\n",
      "https://aax-eu.amazon.in/x/c/RM9Myefi_KngBtiOS8GbWfUAAAGMcwNbvgMAAAH2AQBvbm9fdHhuX2JpZDEgICBvbm9fdHhuX2ltcDEgICDPGiht/https://www.amazon.in/Mackie-Studio-Bundle-Series/dp/B083NGKYJD/ref=sxbs_sbv_search_btf?content-id=amzn1.sym.7d6d801d-0b91-42f0-9ded-a1900c21a285%3Aamzn1.sym.7d6d801d-0b91-42f0-9ded-a1900c21a285&cv_ct_cx=guitar&keywords=guitar&pd_rd_i=B083NGKYJD&pd_rd_r=91d344af-5c2d-4f1f-a2fa-cfbf4743640d&pd_rd_w=Ulmed&pd_rd_wg=7KQCL&pf_rd_p=7d6d801d-0b91-42f0-9ded-a1900c21a285&pf_rd_r=SJJ0ARBRW9JJTCM194K7&qid=1702736649&sbo=RZvfv%2F%2FHxDF%2BO5021pAnSA%3D%3D&sr=1-1-25dedf61-9bde-4412-952b-c956ef4fc546\n"
     ]
    }
   ],
   "source": [
    "for page in range(0,3):\n",
    "    brand_tag=driver.find_elements(By.XPATH,'//h2[@class=\"a-size-mini a-spacing-none a-color-base s-line-clamp-4\"]')\n",
    "    for i in brand_tag:\n",
    "            brand=i.text\n",
    "            Brand_Name.append(brand)\n",
    "            Brand_Name[:50]\n",
    "    product_tag=driver.find_elements(By.XPATH,'//span[@class=\"a-list-item\"]')\n",
    "    for i in product_tag:\n",
    "            product=i.text\n",
    "            Name_of_the_Product.append(product)\n",
    "            Name_of_the_Product[:50]\n",
    "    price_tag=driver.find_elements(By.XPATH,'//span[@class=\"a-price-whole\"]')\n",
    "    for i in price_tag:\n",
    "            prices=i.text\n",
    "            Price.append(prices)\n",
    "            Price[:50]\n",
    "    RE_tag=driver.find_elements(By.XPATH,'//a[@class=\"a-declarative\"]')\n",
    "    for i in RE_tag:\n",
    "            re=i.text\n",
    "            Return_Exchange.append(re)\n",
    "            Return_Exchange[:50]\n",
    "    ED_tag=driver.find_elements(By.XPATH,'//span[@class=\"a-color-base a-text-bold\"]')\n",
    "    for i in ED_tag:\n",
    "            ed=i.text\n",
    "            Expected_Delivery.append(ed)\n",
    "            Expected_Delivery[:50]\n",
    "    avaliability_tag=driver.find_elements(By.XPATH,'//div[@class=\"a-section a-spacing-none a-spacing-top-micro }\"]')\n",
    "    for i in avaliability_tag:\n",
    "            ab=i.text\n",
    "            Availability.append(ab)\n",
    "            Availability[:50]\n",
    "    Product_URL=driver.find_elements(By.XPATH,'//a[@class=\"a-link-normal s-underline-text s-underline-link-text s-link-style a-text-normal\"]')\n",
    "    for i in Product_URL:\n",
    "        print(i.get_attribute('href'))\n",
    "        Product_URL[:50]"
   ]
  },
  {
   "cell_type": "code",
   "execution_count": 29,
   "id": "d6fec966",
   "metadata": {},
   "outputs": [
    {
     "name": "stdout",
     "output_type": "stream",
     "text": [
      "180 213 192 0 180 0 62\n"
     ]
    }
   ],
   "source": [
    "print(len(Brand_Name),len(Name_of_the_Product),len(Price),len(Return_Exchange),len(Expected_Delivery),len(Availability),len(Product_URL))"
   ]
  },
  {
   "cell_type": "code",
   "execution_count": 12,
   "id": "446880be",
   "metadata": {},
   "outputs": [
    {
     "ename": "ValueError",
     "evalue": "All arrays must be of the same length",
     "output_type": "error",
     "traceback": [
      "\u001b[1;31m---------------------------------------------------------------------------\u001b[0m",
      "\u001b[1;31mValueError\u001b[0m                                Traceback (most recent call last)",
      "Cell \u001b[1;32mIn[12], line 2\u001b[0m\n\u001b[0;32m      1\u001b[0m \u001b[38;5;28;01mimport\u001b[39;00m \u001b[38;5;21;01mpandas\u001b[39;00m \u001b[38;5;28;01mas\u001b[39;00m \u001b[38;5;21;01mpd\u001b[39;00m\n\u001b[1;32m----> 2\u001b[0m df\u001b[38;5;241m=\u001b[39m\u001b[43mpd\u001b[49m\u001b[38;5;241;43m.\u001b[39;49m\u001b[43mDataFrame\u001b[49m\u001b[43m(\u001b[49m\u001b[43m{\u001b[49m\u001b[38;5;124;43m'\u001b[39;49m\u001b[38;5;124;43mBrand\u001b[39;49m\u001b[38;5;124;43m'\u001b[39;49m\u001b[43m:\u001b[49m\u001b[43mBrand_Name\u001b[49m\u001b[43m,\u001b[49m\u001b[38;5;124;43m'\u001b[39;49m\u001b[38;5;124;43mNop\u001b[39;49m\u001b[38;5;124;43m'\u001b[39;49m\u001b[43m:\u001b[49m\u001b[43mName_of_the_Product\u001b[49m\u001b[43m,\u001b[49m\u001b[38;5;124;43m'\u001b[39;49m\u001b[38;5;124;43mprice\u001b[39;49m\u001b[38;5;124;43m'\u001b[39;49m\u001b[43m:\u001b[49m\u001b[43mPrice\u001b[49m\u001b[43m,\u001b[49m\u001b[38;5;124;43m'\u001b[39;49m\u001b[38;5;124;43mReturn\u001b[39;49m\u001b[38;5;124;43m'\u001b[39;49m\u001b[43m:\u001b[49m\u001b[43mReturn_Exchange\u001b[49m\u001b[43m,\u001b[49m\u001b[38;5;124;43m'\u001b[39;49m\u001b[38;5;124;43mED\u001b[39;49m\u001b[38;5;124;43m'\u001b[39;49m\u001b[43m:\u001b[49m\u001b[43mExpected_Delivery\u001b[49m\u001b[43m,\u001b[49m\u001b[38;5;124;43m'\u001b[39;49m\u001b[38;5;124;43mAvail\u001b[39;49m\u001b[38;5;124;43m'\u001b[39;49m\u001b[43m:\u001b[49m\u001b[43mAvailability\u001b[49m\u001b[43m,\u001b[49m\u001b[38;5;124;43m'\u001b[39;49m\u001b[38;5;124;43mP_url\u001b[39;49m\u001b[38;5;124;43m'\u001b[39;49m\u001b[43m:\u001b[49m\u001b[43mProduct_URL\u001b[49m\u001b[43m}\u001b[49m\u001b[43m)\u001b[49m\n\u001b[0;32m      4\u001b[0m df\u001b[38;5;241m.\u001b[39mfillna(\u001b[38;5;124m\"\u001b[39m\u001b[38;5;124m-\u001b[39m\u001b[38;5;124m\"\u001b[39m, inplace\u001b[38;5;241m=\u001b[39m\u001b[38;5;28;01mTrue\u001b[39;00m)\n\u001b[0;32m      5\u001b[0m df\n",
      "File \u001b[1;32mC:\\Users\\Public\\python\\lib\\site-packages\\pandas\\core\\frame.py:664\u001b[0m, in \u001b[0;36mDataFrame.__init__\u001b[1;34m(self, data, index, columns, dtype, copy)\u001b[0m\n\u001b[0;32m    658\u001b[0m     mgr \u001b[38;5;241m=\u001b[39m \u001b[38;5;28mself\u001b[39m\u001b[38;5;241m.\u001b[39m_init_mgr(\n\u001b[0;32m    659\u001b[0m         data, axes\u001b[38;5;241m=\u001b[39m{\u001b[38;5;124m\"\u001b[39m\u001b[38;5;124mindex\u001b[39m\u001b[38;5;124m\"\u001b[39m: index, \u001b[38;5;124m\"\u001b[39m\u001b[38;5;124mcolumns\u001b[39m\u001b[38;5;124m\"\u001b[39m: columns}, dtype\u001b[38;5;241m=\u001b[39mdtype, copy\u001b[38;5;241m=\u001b[39mcopy\n\u001b[0;32m    660\u001b[0m     )\n\u001b[0;32m    662\u001b[0m \u001b[38;5;28;01melif\u001b[39;00m \u001b[38;5;28misinstance\u001b[39m(data, \u001b[38;5;28mdict\u001b[39m):\n\u001b[0;32m    663\u001b[0m     \u001b[38;5;66;03m# GH#38939 de facto copy defaults to False only in non-dict cases\u001b[39;00m\n\u001b[1;32m--> 664\u001b[0m     mgr \u001b[38;5;241m=\u001b[39m \u001b[43mdict_to_mgr\u001b[49m\u001b[43m(\u001b[49m\u001b[43mdata\u001b[49m\u001b[43m,\u001b[49m\u001b[43m \u001b[49m\u001b[43mindex\u001b[49m\u001b[43m,\u001b[49m\u001b[43m \u001b[49m\u001b[43mcolumns\u001b[49m\u001b[43m,\u001b[49m\u001b[43m \u001b[49m\u001b[43mdtype\u001b[49m\u001b[38;5;241;43m=\u001b[39;49m\u001b[43mdtype\u001b[49m\u001b[43m,\u001b[49m\u001b[43m \u001b[49m\u001b[43mcopy\u001b[49m\u001b[38;5;241;43m=\u001b[39;49m\u001b[43mcopy\u001b[49m\u001b[43m,\u001b[49m\u001b[43m \u001b[49m\u001b[43mtyp\u001b[49m\u001b[38;5;241;43m=\u001b[39;49m\u001b[43mmanager\u001b[49m\u001b[43m)\u001b[49m\n\u001b[0;32m    665\u001b[0m \u001b[38;5;28;01melif\u001b[39;00m \u001b[38;5;28misinstance\u001b[39m(data, ma\u001b[38;5;241m.\u001b[39mMaskedArray):\n\u001b[0;32m    666\u001b[0m     \u001b[38;5;28;01mimport\u001b[39;00m \u001b[38;5;21;01mnumpy\u001b[39;00m\u001b[38;5;21;01m.\u001b[39;00m\u001b[38;5;21;01mma\u001b[39;00m\u001b[38;5;21;01m.\u001b[39;00m\u001b[38;5;21;01mmrecords\u001b[39;00m \u001b[38;5;28;01mas\u001b[39;00m \u001b[38;5;21;01mmrecords\u001b[39;00m\n",
      "File \u001b[1;32mC:\\Users\\Public\\python\\lib\\site-packages\\pandas\\core\\internals\\construction.py:493\u001b[0m, in \u001b[0;36mdict_to_mgr\u001b[1;34m(data, index, columns, dtype, typ, copy)\u001b[0m\n\u001b[0;32m    489\u001b[0m     \u001b[38;5;28;01melse\u001b[39;00m:\n\u001b[0;32m    490\u001b[0m         \u001b[38;5;66;03m# dtype check to exclude e.g. range objects, scalars\u001b[39;00m\n\u001b[0;32m    491\u001b[0m         arrays \u001b[38;5;241m=\u001b[39m [x\u001b[38;5;241m.\u001b[39mcopy() \u001b[38;5;28;01mif\u001b[39;00m \u001b[38;5;28mhasattr\u001b[39m(x, \u001b[38;5;124m\"\u001b[39m\u001b[38;5;124mdtype\u001b[39m\u001b[38;5;124m\"\u001b[39m) \u001b[38;5;28;01melse\u001b[39;00m x \u001b[38;5;28;01mfor\u001b[39;00m x \u001b[38;5;129;01min\u001b[39;00m arrays]\n\u001b[1;32m--> 493\u001b[0m \u001b[38;5;28;01mreturn\u001b[39;00m \u001b[43marrays_to_mgr\u001b[49m\u001b[43m(\u001b[49m\u001b[43marrays\u001b[49m\u001b[43m,\u001b[49m\u001b[43m \u001b[49m\u001b[43mcolumns\u001b[49m\u001b[43m,\u001b[49m\u001b[43m \u001b[49m\u001b[43mindex\u001b[49m\u001b[43m,\u001b[49m\u001b[43m \u001b[49m\u001b[43mdtype\u001b[49m\u001b[38;5;241;43m=\u001b[39;49m\u001b[43mdtype\u001b[49m\u001b[43m,\u001b[49m\u001b[43m \u001b[49m\u001b[43mtyp\u001b[49m\u001b[38;5;241;43m=\u001b[39;49m\u001b[43mtyp\u001b[49m\u001b[43m,\u001b[49m\u001b[43m \u001b[49m\u001b[43mconsolidate\u001b[49m\u001b[38;5;241;43m=\u001b[39;49m\u001b[43mcopy\u001b[49m\u001b[43m)\u001b[49m\n",
      "File \u001b[1;32mC:\\Users\\Public\\python\\lib\\site-packages\\pandas\\core\\internals\\construction.py:118\u001b[0m, in \u001b[0;36marrays_to_mgr\u001b[1;34m(arrays, columns, index, dtype, verify_integrity, typ, consolidate)\u001b[0m\n\u001b[0;32m    115\u001b[0m \u001b[38;5;28;01mif\u001b[39;00m verify_integrity:\n\u001b[0;32m    116\u001b[0m     \u001b[38;5;66;03m# figure out the index, if necessary\u001b[39;00m\n\u001b[0;32m    117\u001b[0m     \u001b[38;5;28;01mif\u001b[39;00m index \u001b[38;5;129;01mis\u001b[39;00m \u001b[38;5;28;01mNone\u001b[39;00m:\n\u001b[1;32m--> 118\u001b[0m         index \u001b[38;5;241m=\u001b[39m \u001b[43m_extract_index\u001b[49m\u001b[43m(\u001b[49m\u001b[43marrays\u001b[49m\u001b[43m)\u001b[49m\n\u001b[0;32m    119\u001b[0m     \u001b[38;5;28;01melse\u001b[39;00m:\n\u001b[0;32m    120\u001b[0m         index \u001b[38;5;241m=\u001b[39m ensure_index(index)\n",
      "File \u001b[1;32mC:\\Users\\Public\\python\\lib\\site-packages\\pandas\\core\\internals\\construction.py:666\u001b[0m, in \u001b[0;36m_extract_index\u001b[1;34m(data)\u001b[0m\n\u001b[0;32m    664\u001b[0m lengths \u001b[38;5;241m=\u001b[39m \u001b[38;5;28mlist\u001b[39m(\u001b[38;5;28mset\u001b[39m(raw_lengths))\n\u001b[0;32m    665\u001b[0m \u001b[38;5;28;01mif\u001b[39;00m \u001b[38;5;28mlen\u001b[39m(lengths) \u001b[38;5;241m>\u001b[39m \u001b[38;5;241m1\u001b[39m:\n\u001b[1;32m--> 666\u001b[0m     \u001b[38;5;28;01mraise\u001b[39;00m \u001b[38;5;167;01mValueError\u001b[39;00m(\u001b[38;5;124m\"\u001b[39m\u001b[38;5;124mAll arrays must be of the same length\u001b[39m\u001b[38;5;124m\"\u001b[39m)\n\u001b[0;32m    668\u001b[0m \u001b[38;5;28;01mif\u001b[39;00m have_dicts:\n\u001b[0;32m    669\u001b[0m     \u001b[38;5;28;01mraise\u001b[39;00m \u001b[38;5;167;01mValueError\u001b[39;00m(\n\u001b[0;32m    670\u001b[0m         \u001b[38;5;124m\"\u001b[39m\u001b[38;5;124mMixing dicts with non-Series may lead to ambiguous ordering.\u001b[39m\u001b[38;5;124m\"\u001b[39m\n\u001b[0;32m    671\u001b[0m     )\n",
      "\u001b[1;31mValueError\u001b[0m: All arrays must be of the same length"
     ]
    }
   ],
   "source": [
    "import pandas as pd\n",
    "df=pd.DataFrame({'Brand':Brand_Name,'Nop':Name_of_the_Product,'price':Price,'Return':Return_Exchange,'ED':Expected_Delivery,'Avail':Availability,'P_url':Product_URL})\n",
    "\n",
    "df.fillna(\"-\", inplace=True)\n",
    "df"
   ]
  },
  {
   "cell_type": "code",
   "execution_count": 26,
   "id": "2e60d029",
   "metadata": {},
   "outputs": [],
   "source": [
    "driver.get('https://images.google.com/')"
   ]
  },
  {
   "cell_type": "code",
   "execution_count": 8,
   "id": "1fe6c00d",
   "metadata": {},
   "outputs": [],
   "source": [
    "search_bar = driver.find_element(By.NAME, 'q')\n",
    "keywords = ['fruits', 'cars', 'Machine Learning', 'Guitar', 'Cakes']\n"
   ]
  },
  {
   "cell_type": "code",
   "execution_count": 9,
   "id": "b6fdb582",
   "metadata": {},
   "outputs": [
    {
     "ename": "StaleElementReferenceException",
     "evalue": "Message: stale element reference: stale element not found\n  (Session info: chrome=120.0.6099.109); For documentation on this error, please visit: https://www.selenium.dev/documentation/webdriver/troubleshooting/errors#stale-element-reference-exception\nStacktrace:\n\tGetHandleVerifier [0x00007FF643894D02+56194]\n\t(No symbol) [0x00007FF6438004B2]\n\t(No symbol) [0x00007FF6436A76AA]\n\t(No symbol) [0x00007FF6436B79BF]\n\t(No symbol) [0x00007FF6436ADB89]\n\t(No symbol) [0x00007FF6436ABF22]\n\t(No symbol) [0x00007FF6436AF38F]\n\t(No symbol) [0x00007FF6436AF480]\n\t(No symbol) [0x00007FF6436F33D9]\n\t(No symbol) [0x00007FF6436E80DD]\n\t(No symbol) [0x00007FF643715E7A]\n\t(No symbol) [0x00007FF6436E6226]\n\t(No symbol) [0x00007FF643716320]\n\t(No symbol) [0x00007FF643732786]\n\t(No symbol) [0x00007FF643715C23]\n\t(No symbol) [0x00007FF6436E4A45]\n\t(No symbol) [0x00007FF6436E5AD4]\n\tGetHandleVerifier [0x00007FF643C0D5BB+3695675]\n\tGetHandleVerifier [0x00007FF643C66197+4059159]\n\tGetHandleVerifier [0x00007FF643C5DF63+4025827]\n\tGetHandleVerifier [0x00007FF64392F029+687785]\n\t(No symbol) [0x00007FF64380B508]\n\t(No symbol) [0x00007FF643807564]\n\t(No symbol) [0x00007FF6438076E9]\n\t(No symbol) [0x00007FF6437F8094]\n\tBaseThreadInitThunk [0x00007FF864F0257D+29]\n\tRtlUserThreadStart [0x00007FF8662AAA58+40]\n",
     "output_type": "error",
     "traceback": [
      "\u001b[1;31m---------------------------------------------------------------------------\u001b[0m",
      "\u001b[1;31mStaleElementReferenceException\u001b[0m            Traceback (most recent call last)",
      "Cell \u001b[1;32mIn[9], line 2\u001b[0m\n\u001b[0;32m      1\u001b[0m \u001b[38;5;28;01mfor\u001b[39;00m keyword \u001b[38;5;129;01min\u001b[39;00m keywords:\n\u001b[1;32m----> 2\u001b[0m     \u001b[43msearch_bar\u001b[49m\u001b[38;5;241;43m.\u001b[39;49m\u001b[43mclear\u001b[49m\u001b[43m(\u001b[49m\u001b[43m)\u001b[49m\n\u001b[0;32m      3\u001b[0m     search_bar\u001b[38;5;241m.\u001b[39msend_keys(keyword)\n\u001b[0;32m      4\u001b[0m     search_bar\u001b[38;5;241m.\u001b[39msend_keys(Keys\u001b[38;5;241m.\u001b[39mRETURN)\n",
      "File \u001b[1;32mC:\\Users\\Public\\python\\lib\\site-packages\\selenium\\webdriver\\remote\\webelement.py:116\u001b[0m, in \u001b[0;36mWebElement.clear\u001b[1;34m(self)\u001b[0m\n\u001b[0;32m    114\u001b[0m \u001b[38;5;28;01mdef\u001b[39;00m \u001b[38;5;21mclear\u001b[39m(\u001b[38;5;28mself\u001b[39m) \u001b[38;5;241m-\u001b[39m\u001b[38;5;241m>\u001b[39m \u001b[38;5;28;01mNone\u001b[39;00m:\n\u001b[0;32m    115\u001b[0m     \u001b[38;5;124;03m\"\"\"Clears the text if it's a text entry element.\"\"\"\u001b[39;00m\n\u001b[1;32m--> 116\u001b[0m     \u001b[38;5;28;43mself\u001b[39;49m\u001b[38;5;241;43m.\u001b[39;49m\u001b[43m_execute\u001b[49m\u001b[43m(\u001b[49m\u001b[43mCommand\u001b[49m\u001b[38;5;241;43m.\u001b[39;49m\u001b[43mCLEAR_ELEMENT\u001b[49m\u001b[43m)\u001b[49m\n",
      "File \u001b[1;32mC:\\Users\\Public\\python\\lib\\site-packages\\selenium\\webdriver\\remote\\webelement.py:394\u001b[0m, in \u001b[0;36mWebElement._execute\u001b[1;34m(self, command, params)\u001b[0m\n\u001b[0;32m    392\u001b[0m     params \u001b[38;5;241m=\u001b[39m {}\n\u001b[0;32m    393\u001b[0m params[\u001b[38;5;124m\"\u001b[39m\u001b[38;5;124mid\u001b[39m\u001b[38;5;124m\"\u001b[39m] \u001b[38;5;241m=\u001b[39m \u001b[38;5;28mself\u001b[39m\u001b[38;5;241m.\u001b[39m_id\n\u001b[1;32m--> 394\u001b[0m \u001b[38;5;28;01mreturn\u001b[39;00m \u001b[38;5;28;43mself\u001b[39;49m\u001b[38;5;241;43m.\u001b[39;49m\u001b[43m_parent\u001b[49m\u001b[38;5;241;43m.\u001b[39;49m\u001b[43mexecute\u001b[49m\u001b[43m(\u001b[49m\u001b[43mcommand\u001b[49m\u001b[43m,\u001b[49m\u001b[43m \u001b[49m\u001b[43mparams\u001b[49m\u001b[43m)\u001b[49m\n",
      "File \u001b[1;32mC:\\Users\\Public\\python\\lib\\site-packages\\selenium\\webdriver\\remote\\webdriver.py:347\u001b[0m, in \u001b[0;36mWebDriver.execute\u001b[1;34m(self, driver_command, params)\u001b[0m\n\u001b[0;32m    345\u001b[0m response \u001b[38;5;241m=\u001b[39m \u001b[38;5;28mself\u001b[39m\u001b[38;5;241m.\u001b[39mcommand_executor\u001b[38;5;241m.\u001b[39mexecute(driver_command, params)\n\u001b[0;32m    346\u001b[0m \u001b[38;5;28;01mif\u001b[39;00m response:\n\u001b[1;32m--> 347\u001b[0m     \u001b[38;5;28;43mself\u001b[39;49m\u001b[38;5;241;43m.\u001b[39;49m\u001b[43merror_handler\u001b[49m\u001b[38;5;241;43m.\u001b[39;49m\u001b[43mcheck_response\u001b[49m\u001b[43m(\u001b[49m\u001b[43mresponse\u001b[49m\u001b[43m)\u001b[49m\n\u001b[0;32m    348\u001b[0m     response[\u001b[38;5;124m\"\u001b[39m\u001b[38;5;124mvalue\u001b[39m\u001b[38;5;124m\"\u001b[39m] \u001b[38;5;241m=\u001b[39m \u001b[38;5;28mself\u001b[39m\u001b[38;5;241m.\u001b[39m_unwrap_value(response\u001b[38;5;241m.\u001b[39mget(\u001b[38;5;124m\"\u001b[39m\u001b[38;5;124mvalue\u001b[39m\u001b[38;5;124m\"\u001b[39m, \u001b[38;5;28;01mNone\u001b[39;00m))\n\u001b[0;32m    349\u001b[0m     \u001b[38;5;28;01mreturn\u001b[39;00m response\n",
      "File \u001b[1;32mC:\\Users\\Public\\python\\lib\\site-packages\\selenium\\webdriver\\remote\\errorhandler.py:229\u001b[0m, in \u001b[0;36mErrorHandler.check_response\u001b[1;34m(self, response)\u001b[0m\n\u001b[0;32m    227\u001b[0m         alert_text \u001b[38;5;241m=\u001b[39m value[\u001b[38;5;124m\"\u001b[39m\u001b[38;5;124malert\u001b[39m\u001b[38;5;124m\"\u001b[39m]\u001b[38;5;241m.\u001b[39mget(\u001b[38;5;124m\"\u001b[39m\u001b[38;5;124mtext\u001b[39m\u001b[38;5;124m\"\u001b[39m)\n\u001b[0;32m    228\u001b[0m     \u001b[38;5;28;01mraise\u001b[39;00m exception_class(message, screen, stacktrace, alert_text)  \u001b[38;5;66;03m# type: ignore[call-arg]  # mypy is not smart enough here\u001b[39;00m\n\u001b[1;32m--> 229\u001b[0m \u001b[38;5;28;01mraise\u001b[39;00m exception_class(message, screen, stacktrace)\n",
      "\u001b[1;31mStaleElementReferenceException\u001b[0m: Message: stale element reference: stale element not found\n  (Session info: chrome=120.0.6099.109); For documentation on this error, please visit: https://www.selenium.dev/documentation/webdriver/troubleshooting/errors#stale-element-reference-exception\nStacktrace:\n\tGetHandleVerifier [0x00007FF643894D02+56194]\n\t(No symbol) [0x00007FF6438004B2]\n\t(No symbol) [0x00007FF6436A76AA]\n\t(No symbol) [0x00007FF6436B79BF]\n\t(No symbol) [0x00007FF6436ADB89]\n\t(No symbol) [0x00007FF6436ABF22]\n\t(No symbol) [0x00007FF6436AF38F]\n\t(No symbol) [0x00007FF6436AF480]\n\t(No symbol) [0x00007FF6436F33D9]\n\t(No symbol) [0x00007FF6436E80DD]\n\t(No symbol) [0x00007FF643715E7A]\n\t(No symbol) [0x00007FF6436E6226]\n\t(No symbol) [0x00007FF643716320]\n\t(No symbol) [0x00007FF643732786]\n\t(No symbol) [0x00007FF643715C23]\n\t(No symbol) [0x00007FF6436E4A45]\n\t(No symbol) [0x00007FF6436E5AD4]\n\tGetHandleVerifier [0x00007FF643C0D5BB+3695675]\n\tGetHandleVerifier [0x00007FF643C66197+4059159]\n\tGetHandleVerifier [0x00007FF643C5DF63+4025827]\n\tGetHandleVerifier [0x00007FF64392F029+687785]\n\t(No symbol) [0x00007FF64380B508]\n\t(No symbol) [0x00007FF643807564]\n\t(No symbol) [0x00007FF6438076E9]\n\t(No symbol) [0x00007FF6437F8094]\n\tBaseThreadInitThunk [0x00007FF864F0257D+29]\n\tRtlUserThreadStart [0x00007FF8662AAA58+40]\n"
     ]
    }
   ],
   "source": [
    "for keyword in keywords:\n",
    "    search_bar.clear()\n",
    "    search_bar.send_keys(keyword)\n",
    "    search_bar.send_keys(Keys.RETURN)"
   ]
  },
  {
   "cell_type": "code",
   "execution_count": 9,
   "id": "0a9174ff",
   "metadata": {},
   "outputs": [
    {
     "data": {
      "text/plain": [
       "<selenium.webdriver.remote.webelement.WebElement (session=\"c8ebc1140ba14f6eb63566bbf11c7d93\", element=\"0A3BB54B831098E94FAFCB1683CB1323_element_36\")>"
      ]
     },
     "execution_count": 9,
     "metadata": {},
     "output_type": "execute_result"
    }
   ],
   "source": [
    "WebDriverWait(driver, 10).until(EC.presence_of_element_located((By.CLASS_NAME, 'rg_i')))\n"
   ]
  },
  {
   "cell_type": "code",
   "execution_count": 11,
   "id": "9ead8340",
   "metadata": {},
   "outputs": [],
   "source": [
    "image_elements = driver.find_elements(By.CLASS_NAME, 'rg_i')\n",
    "image_urls = [element.get_attribute('src') for element in image_elements]"
   ]
  },
  {
   "cell_type": "code",
   "execution_count": 18,
   "id": "064d3b0e",
   "metadata": {},
   "outputs": [
    {
     "name": "stdout",
     "output_type": "stream",
     "text": [
      "Top 10 images for 'fruits':\n"
     ]
    }
   ],
   "source": [
    "print(f\"Top 10 images for '{keyword}':\")\n"
   ]
  },
  {
   "cell_type": "code",
   "execution_count": 19,
   "id": "5eac5661",
   "metadata": {},
   "outputs": [
    {
     "name": "stdout",
     "output_type": "stream",
     "text": [
      "data:image/jpeg;base64,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\n",
      "data:image/jpeg;base64,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\n",
      "data:image/jpeg;base64,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\n",
      "data:image/jpeg;base64,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\n",
      "data:image/jpeg;base64,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\n",
      "data:image/jpeg;base64,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\n",
      "data:image/png;base64,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\n",
      "data:image/jpeg;base64,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\n",
      "data:image/jpeg;base64,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\n",
      "data:image/jpeg;base64,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\n"
     ]
    }
   ],
   "source": [
    "for url in image_urls[:10]:\n",
    "  print(url)"
   ]
  },
  {
   "cell_type": "code",
   "execution_count": 20,
   "id": "60af24d4",
   "metadata": {},
   "outputs": [],
   "source": [
    "driver.close()"
   ]
  },
  {
   "cell_type": "code",
   "execution_count": 6,
   "id": "36dbb79b",
   "metadata": {},
   "outputs": [],
   "source": [
    "driver.get(\"https://www.flipkart.com/\")"
   ]
  },
  {
   "cell_type": "code",
   "execution_count": 7,
   "id": "2c9aa36b",
   "metadata": {},
   "outputs": [],
   "source": [
    "item=driver.find_element(By.XPATH,\"/html/body/div[1]/div/div[1]/div/div/div/div/div[1]/div/div[1]/div/div[1]/div[1]/header/div[1]/div[2]/form/div/div/input\")\n",
    "item.send_keys('smart phone')"
   ]
  },
  {
   "cell_type": "code",
   "execution_count": 8,
   "id": "d9219cf4",
   "metadata": {},
   "outputs": [],
   "source": [
    "Brand_Name=[]\n",
    "smart_phone_name_colour=[]\n",
    "Storage_RAM_ROM=[]\n",
    "P_F_Camera=[]\n",
    "Display_size_Resolution=[]\n",
    "ProcessorAndCores=[]\n",
    "Battery=[]\n",
    "Price=[]\n",
    "Product_URL=[]"
   ]
  },
  {
   "cell_type": "code",
   "execution_count": 13,
   "id": "ac15b3fb",
   "metadata": {},
   "outputs": [
    {
     "name": "stdout",
     "output_type": "stream",
     "text": [
      "24 ['Nokia C20 Plus Smartphone (Ocean Blue, 32 GB)', 'Nokia C20 Plus Smartphone (Ocean Blue, 32 GB)', 'Nokia C20 Plus Smartphone (Dark Grey, 32 GB)', 'TMB TAJ 4G Smartphone (Trans Blue, 32 GB)', 'APPLE iPhone 14 (Blue, 128 GB)', 'APPLE iPhone 14 (Midnight, 128 GB)', 'SAMSUNG Galaxy F14 5G (OMG Black, 128 GB)', 'MOTOROLA g54 5G (Mint Green, 128 GB)', 'APPLE iPhone 14 (Starlight, 128 GB)', 'SAMSUNG Galaxy F14 5G (GOAT Green, 128 GB)', 'MOTOROLA g54 5G (Midnight Blue, 128 GB)', 'APPLE iPhone 14 (Purple, 128 GB)', 'MOTOROLA Edge 40 Neo (Caneel Bay, 128 GB)', 'MOTOROLA Edge 40 Neo (Caneel Bay, 256 GB)', 'POCO C55 (Cool Blue, 128 GB)', 'POCO C55 (Forest Green, 64 GB)', 'MOTOROLA g54 5G (Pearl Blue, 256 GB)', 'POCO C51 (Royal Blue, 64 GB)', 'APPLE iPhone 14 Plus (Starlight, 128 GB)', 'POCO M6 Pro 5G (Power Black, 128 GB)', 'APPLE iPhone 14 Plus (Purple, 128 GB)', 'OnePlus Nord CE 2 Lite 5G (Blue Tide, 128 GB)', 'POCO M6 Pro 5G (Forest Green, 128 GB)', 'APPLE iPhone 14 Plus (Midnight, 128 GB)']\n"
     ]
    }
   ],
   "source": [
    "BName=driver.find_elements(By.XPATH,\"//div[@class='_4rR01T']\")\n",
    "for i in BName:\n",
    "    if i.text is None :\n",
    "        Brand_Name.append(\"--\") \n",
    "    else:\n",
    "        Brand_Name.append(i.text)\n",
    "print(len(Brand_Name),Brand_Name)"
   ]
  },
  {
   "cell_type": "code",
   "execution_count": 14,
   "id": "1ef8e8b2",
   "metadata": {},
   "outputs": [
    {
     "name": "stdout",
     "output_type": "stream",
     "text": [
      "24 ['2 GB RAM | 32 GB ROM', '3 GB RAM | 32 GB ROM', '2 GB RAM | 32 GB ROM', '3 GB RAM | 32 GB ROM | Expandable Upto 256 GB', '128 GB ROM', '128 GB ROM', '6 GB RAM | 128 GB ROM | Expandable Upto 1 TB', '8 GB RAM | 128 GB ROM | Expandable Upto 1 TB', '128 GB ROM', '6 GB RAM | 128 GB ROM | Expandable Upto 1 TB', '8 GB RAM | 128 GB ROM | Expandable Upto 1 TB', '128 GB ROM', '8 GB RAM | 128 GB ROM', '12 GB RAM | 256 GB ROM', '6 GB RAM | 128 GB ROM | Expandable Upto 1 TB', '4 GB RAM | 64 GB ROM | Expandable Upto 1 TB', '12 GB RAM | 256 GB ROM | Expandable Upto 1 TB', '4 GB RAM | 64 GB ROM | Expandable Upto 1 TB', '128 GB ROM', '6 GB RAM | 128 GB ROM | Expandable Upto 1 TB', '128 GB ROM', '6 GB RAM | 128 GB ROM', '6 GB RAM | 128 GB ROM | Expandable Upto 1 TB', '128 GB ROM']\n"
     ]
    }
   ],
   "source": [
    "ram=driver.find_elements(By.XPATH,\"//ul[@class='_1xgFaf']//li[1]\")\n",
    "for i in ram:\n",
    "    if i.text is None :\n",
    "        Storage_RAM_ROM.append(\"--\") \n",
    "    else:\n",
    "        Storage_RAM_ROM.append(i.text)\n",
    "print(len(Storage_RAM_ROM),Storage_RAM_ROM)"
   ]
  },
  {
   "cell_type": "code",
   "execution_count": 15,
   "id": "77b4a2fc",
   "metadata": {},
   "outputs": [
    {
     "name": "stdout",
     "output_type": "stream",
     "text": [
      "24 ['8MP + 2MP | 5MP Front Camera', '8MP + 2MP | 5MP Front Camera', '8MP + 2MP | 5MP Front Camera', '5MP Rear Camera', '12MP + 12MP | 12MP Front Camera', '12MP + 12MP | 12MP Front Camera', '50MP + 2MP | 13MP Front Camera', '50MP (OIS) + 8MP | 16MP Front Camera', '12MP + 12MP | 12MP Front Camera', '50MP + 2MP | 13MP Front Camera', '50MP (OIS) + 8MP | 16MP Front Camera', '12MP + 12MP | 12MP Front Camera', '50MP + 13MP | 32MP Front Camera', '50MP + 13MP | 32MP Front Camera', '50MP Dual Rear Camera | 5MP Front Camera', '50MP Dual Rear Camera | 5MP Front Camera', '50MP (OIS) + 8MP | 16MP Front Camera', '8MP Dual Rear Camera | 5MP Front Camera', '12MP + 12MP | 12MP Front Camera', '50MP + 2MP | 8MP Front Camera', '12MP + 12MP | 12MP Front Camera', '64MP Rear Camera | 16MP Front Camera', '50MP + 2MP | 8MP Front Camera', '12MP + 12MP | 12MP Front Camera']\n"
     ]
    }
   ],
   "source": [
    "camera=driver.find_elements(By.XPATH,\"//ul[@class='_1xgFaf']//li[3]\")\n",
    "for i in camera:\n",
    "    if i.text is None :\n",
    "        P_F_Camera.append(\"--\") \n",
    "    else:\n",
    "        P_F_Camera.append(i.text)\n",
    "print(len(P_F_Camera),P_F_Camera)"
   ]
  },
  {
   "cell_type": "code",
   "execution_count": 16,
   "id": "38ea5fd7",
   "metadata": {},
   "outputs": [
    {
     "name": "stdout",
     "output_type": "stream",
     "text": [
      "24 ['16.51 cm (6.5 inch) HD+ Display', '16.51 cm (6.5 inch) HD+ Display', '16.51 cm (6.5 inch) HD+ Display', '13.84 cm (5.45 inch) Full HD+ Display', '15.49 cm (6.1 inch) Super Retina XDR Display', '15.49 cm (6.1 inch) Super Retina XDR Display', '16.76 cm (6.6 inch) Full HD+ Display', '16.51 cm (6.5 inch) Full HD+ Display', '15.49 cm (6.1 inch) Super Retina XDR Display', '16.76 cm (6.6 inch) Full HD+ Display', '16.51 cm (6.5 inch) Full HD+ Display', '15.49 cm (6.1 inch) Super Retina XDR Display', '16.64 cm (6.55 inch) Full HD+ Display', '16.64 cm (6.55 inch) Full HD+ Display', '17.04 cm (6.71 inch) HD+ Display', '17.04 cm (6.71 inch) HD+ Display', '16.51 cm (6.5 inch) Full HD+ Display', '16.56 cm (6.52 inch) HD+ Display', '17.02 cm (6.7 inch) Super Retina XDR Display', '17.25 cm (6.79 inch) Full HD+ Display', '17.02 cm (6.7 inch) Super Retina XDR Display', '16.74 cm (6.59 inch) Display', '17.25 cm (6.79 inch) Full HD+ Display', '17.02 cm (6.7 inch) Super Retina XDR Display']\n"
     ]
    }
   ],
   "source": [
    "DSR=driver.find_elements(By.XPATH,\"//ul[@class='_1xgFaf']//li[2]\")\n",
    "for i in DSR:\n",
    "    if i.text is None :\n",
    "        Display_size_Resolution.append(\"--\") \n",
    "    else:\n",
    "        Display_size_Resolution.append(i.text)\n",
    "print(len(Display_size_Resolution),Display_size_Resolution)"
   ]
  },
  {
   "cell_type": "code",
   "execution_count": 17,
   "id": "20311014",
   "metadata": {},
   "outputs": [
    {
     "name": "stdout",
     "output_type": "stream",
     "text": [
      "24 ['Unisoc SC9863A Processor', 'Unisoc SC9863A Processor', 'Unisoc SC9863A Processor', '1.4GHz Quad Core Processor', '1 Year Warranty for Phone and 6 Months Warranty for In-Box Accessories', '1 Year Warranty for Phone and 6 Months Warranty for In-Box Accessories', 'Exynos 1330, Octa Core Processor', 'Dimensity 7020 Processor', '1 Year Warranty for Phone and 6 Months Warranty for In-Box Accessories', 'Exynos 1330, Octa Core Processor', 'Dimensity 7020 Processor', '1 Year Warranty for Phone and 6 Months Warranty for In-Box Accessories', 'Dimensity 7030 Processor', 'Dimensity 7030 Processor', 'Mediatek Helio G85 Processor', 'Mediatek Helio G85 Processor', 'Dimensity 7020 Processor', 'Helio G36 Processor', '1 Year Warranty for Phone and 6 Months Warranty for In-Box Accessories', 'Snapdragon 4 Gen 2 Processor', '1 Year Warranty for Phone and 6 Months Warranty for In-Box Accessories', '12 Months', 'Snapdragon 4 Gen 2 Processor', '1 Year Warranty for Phone and 6 Months Warranty for In-Box Accessories']\n"
     ]
    }
   ],
   "source": [
    "PC=driver.find_elements(By.XPATH,\"//ul[@class='_1xgFaf']//li[5]\")\n",
    "for i in PC:\n",
    "    if i.text is None :\n",
    "        ProcessorAndCores.append(\"--\") \n",
    "    else:\n",
    "        ProcessorAndCores.append(i.text)\n",
    "print(len(ProcessorAndCores),ProcessorAndCores)"
   ]
  },
  {
   "cell_type": "code",
   "execution_count": 18,
   "id": "2e2e3322",
   "metadata": {},
   "outputs": [
    {
     "name": "stdout",
     "output_type": "stream",
     "text": [
      "24 ['5000 mAh Li-ion Battery', '4950 mAh Li-ion Battery', '5000 mAh Li-ion Battery', '3300 mAh Battery', 'A15 Bionic Chip, 6 Core Processor Processor', 'A15 Bionic Chip, 6 Core Processor Processor', '6000 mAh Battery', '6000 mAh Battery', 'A15 Bionic Chip, 6 Core Processor Processor', '6000 mAh Battery', '6000 mAh Battery', 'A15 Bionic Chip, 6 Core Processor Processor', '5000 mAh Battery', '5000 mAh Battery', '5000 mAh Battery', '5000 mAh Battery', '6000 mAh Battery', '5000 mAh Battery', 'A15 Bionic Chip, 6 Core Processor Processor', '5000 mAh Battery', 'A15 Bionic Chip, 6 Core Processor Processor', '5000 mAh Battery', '5000 mAh Battery', 'A15 Bionic Chip, 6 Core Processor Processor']\n"
     ]
    }
   ],
   "source": [
    "B=driver.find_elements(By.XPATH,\"//ul[@class='_1xgFaf']//li[4]\")\n",
    "for i in B:\n",
    "    if i.text is None :\n",
    "        Battery.append(\"--\") \n",
    "    else:\n",
    "        Battery.append(i.text)\n",
    "print(len(Battery),Battery)"
   ]
  },
  {
   "cell_type": "code",
   "execution_count": 19,
   "id": "71745610",
   "metadata": {},
   "outputs": [
    {
     "name": "stdout",
     "output_type": "stream",
     "text": [
      "24 ['₹8,999', '₹8,849', '₹8,999', '₹5,899', '₹60,999', '₹61,999', '₹12,490', '₹13,999', '₹61,999', '₹12,490', '₹13,999', '₹61,999', '₹22,999', '₹24,999', '₹8,499', '₹7,499', '₹15,999', '₹5,999', '₹68,990', '₹11,999', '₹69,990', '₹17,130', '₹11,999', '₹69,990']\n"
     ]
    }
   ],
   "source": [
    "price=driver.find_elements(By.XPATH,\"//div[@class='_30jeq3 _1_WHN1']\")\n",
    "for i in price:\n",
    "    if i.text is None :\n",
    "        Price.append(\"--\") \n",
    "    else:\n",
    "        Price.append(i.text)\n",
    "print(len(Price),Price)"
   ]
  },
  {
   "cell_type": "code",
   "execution_count": 21,
   "id": "6218d03a",
   "metadata": {},
   "outputs": [
    {
     "name": "stdout",
     "output_type": "stream",
     "text": [
      "https://www.flipkart.com/nokia-c20-plus-smartphone-ocean-blue-32-gb/p/itm09502cdcc9c9f?pid=MOBG5ME6ZBKSNUUR&lid=LSTMOBG5ME6ZBKSNUURL2DP7J&marketplace=FLIPKART&q=smart+phone&store=tyy%2F4io&srno=s_1_1&otracker=search&otracker1=search&fm=Search&iid=ebfbcb84-95aa-4c66-9d32-315eaa43827f.MOBG5ME6ZBKSNUUR.SEARCH&ppt=sp&ppn=sp&qH=a94e14abfa87c43a\n",
      "https://www.flipkart.com/nokia-c20-plus-smartphone-ocean-blue-32-gb/p/itm09502cdcc9c9f?pid=MOBG5ME6JBHUA4QH&lid=LSTMOBG5ME6JBHUA4QHGEYWE2&marketplace=FLIPKART&q=smart+phone&store=tyy%2F4io&srno=s_1_2&otracker=search&otracker1=search&fm=Search&iid=ebfbcb84-95aa-4c66-9d32-315eaa43827f.MOBG5ME6JBHUA4QH.SEARCH&ppt=sp&ppn=sp&qH=a94e14abfa87c43a\n",
      "https://www.flipkart.com/nokia-c20-plus-smartphone-dark-grey-32-gb/p/itm09502cdcc9c9f?pid=MOBG5ME6SBZVTAGH&lid=LSTMOBG5ME6SBZVTAGHG4MWUT&marketplace=FLIPKART&q=smart+phone&store=tyy%2F4io&srno=s_1_3&otracker=search&otracker1=search&fm=Search&iid=ebfbcb84-95aa-4c66-9d32-315eaa43827f.MOBG5ME6SBZVTAGH.SEARCH&ppt=sp&ppn=sp&qH=a94e14abfa87c43a\n",
      "https://www.flipkart.com/tmb-taj-4g-smartphone-trans-blue-32-gb/p/itmd584aa24f5ee8?pid=MOBGU6SRRJFRPYUM&lid=LSTMOBGU6SRRJFRPYUMEYRZSA&marketplace=FLIPKART&q=smart+phone&store=tyy%2F4io&srno=s_1_4&otracker=search&otracker1=search&fm=Search&iid=ebfbcb84-95aa-4c66-9d32-315eaa43827f.MOBGU6SRRJFRPYUM.SEARCH&ppt=sp&ppn=sp&qH=a94e14abfa87c43a\n",
      "https://www.flipkart.com/apple-iphone-14-blue-128-gb/p/itmdb77f40da6b6d?pid=MOBGHWFHSV7GUFWA&lid=LSTMOBGHWFHSV7GUFWAC4ZPNA&marketplace=FLIPKART&q=smart+phone&store=tyy%2F4io&srno=s_1_5&otracker=search&otracker1=search&fm=Search&iid=ebfbcb84-95aa-4c66-9d32-315eaa43827f.MOBGHWFHSV7GUFWA.SEARCH&ppt=sp&ppn=sp&qH=a94e14abfa87c43a\n",
      "https://www.flipkart.com/apple-iphone-14-midnight-128-gb/p/itm9e6293c322a84?pid=MOBGHWFHECFVMDCX&lid=LSTMOBGHWFHECFVMDCXXRTRJG&marketplace=FLIPKART&q=smart+phone&store=tyy%2F4io&srno=s_1_6&otracker=search&otracker1=search&fm=Search&iid=ebfbcb84-95aa-4c66-9d32-315eaa43827f.MOBGHWFHECFVMDCX.SEARCH&ppt=sp&ppn=sp&qH=a94e14abfa87c43a\n",
      "https://www.flipkart.com/samsung-galaxy-f14-5g-omg-black-128-gb/p/itmae94033406fb2?pid=MOBGNBFNE6KGXCCR&lid=LSTMOBGNBFNE6KGXCCRXLTXS7&marketplace=FLIPKART&q=smart+phone&store=tyy%2F4io&srno=s_1_7&otracker=search&otracker1=search&fm=Search&iid=ebfbcb84-95aa-4c66-9d32-315eaa43827f.MOBGNBFNE6KGXCCR.SEARCH&ppt=sp&ppn=sp&qH=a94e14abfa87c43a\n",
      "https://www.flipkart.com/motorola-g54-5g-mint-green-128-gb/p/itmfc12683043bbc?pid=MOBGQFX8Z3ZCDZZ7&lid=LSTMOBGQFX8Z3ZCDZZ7IWKPTX&marketplace=FLIPKART&q=smart+phone&store=tyy%2F4io&srno=s_1_8&otracker=search&otracker1=search&fm=Search&iid=ebfbcb84-95aa-4c66-9d32-315eaa43827f.MOBGQFX8Z3ZCDZZ7.SEARCH&ppt=sp&ppn=sp&qH=a94e14abfa87c43a\n",
      "https://www.flipkart.com/apple-iphone-14-starlight-128-gb/p/itm3485a56f6e676?pid=MOBGHWFHABH3G73H&lid=LSTMOBGHWFHABH3G73HCNASCL&marketplace=FLIPKART&q=smart+phone&store=tyy%2F4io&srno=s_1_9&otracker=search&otracker1=search&fm=Search&iid=ebfbcb84-95aa-4c66-9d32-315eaa43827f.MOBGHWFHABH3G73H.SEARCH&ppt=sp&ppn=sp&qH=a94e14abfa87c43a\n",
      "https://www.flipkart.com/samsung-galaxy-f14-5g-goat-green-128-gb/p/itm032d1a69999cc?pid=MOBGNBFNDPGNJ7HY&lid=LSTMOBGNBFNDPGNJ7HYRCCFUH&marketplace=FLIPKART&q=smart+phone&store=tyy%2F4io&srno=s_1_10&otracker=search&otracker1=search&fm=Search&iid=ebfbcb84-95aa-4c66-9d32-315eaa43827f.MOBGNBFNDPGNJ7HY.SEARCH&ppt=sp&ppn=sp&qH=a94e14abfa87c43a\n",
      "https://www.flipkart.com/motorola-g54-5g-midnight-blue-128-gb/p/itm1867d5933e9e8?pid=MOBGQFX8P4HFEUCD&lid=LSTMOBGQFX8P4HFEUCDCDMGCN&marketplace=FLIPKART&q=smart+phone&store=tyy%2F4io&srno=s_1_11&otracker=search&otracker1=search&fm=Search&iid=ebfbcb84-95aa-4c66-9d32-315eaa43827f.MOBGQFX8P4HFEUCD.SEARCH&ppt=sp&ppn=sp&qH=a94e14abfa87c43a\n",
      "https://www.flipkart.com/apple-iphone-14-purple-128-gb/p/itm0b581eba85e08?pid=MOBGHWFHQFSQYBFU&lid=LSTMOBGHWFHQFSQYBFUUF0OWI&marketplace=FLIPKART&q=smart+phone&store=tyy%2F4io&srno=s_1_12&otracker=search&otracker1=search&fm=Search&iid=ebfbcb84-95aa-4c66-9d32-315eaa43827f.MOBGHWFHQFSQYBFU.SEARCH&ppt=sp&ppn=sp&qH=a94e14abfa87c43a\n",
      "https://www.flipkart.com/motorola-edge-40-neo-caneel-bay-128-gb/p/itm122f351a3a2a3?pid=MOBGQFX6K7YQJRSY&lid=LSTMOBGQFX6K7YQJRSY6BK1PK&marketplace=FLIPKART&q=smart+phone&store=tyy%2F4io&srno=s_1_13&otracker=search&otracker1=search&fm=Search&iid=ebfbcb84-95aa-4c66-9d32-315eaa43827f.MOBGQFX6K7YQJRSY.SEARCH&ppt=sp&ppn=sp&qH=a94e14abfa87c43a\n",
      "https://www.flipkart.com/motorola-edge-40-neo-caneel-bay-256-gb/p/itm55813a9671489?pid=MOBGQFX6APUFAPMS&lid=LSTMOBGQFX6APUFAPMSO5N7CJ&marketplace=FLIPKART&q=smart+phone&store=tyy%2F4io&srno=s_1_14&otracker=search&otracker1=search&fm=Search&iid=ebfbcb84-95aa-4c66-9d32-315eaa43827f.MOBGQFX6APUFAPMS.SEARCH&ppt=sp&ppn=sp&qH=a94e14abfa87c43a\n",
      "https://www.flipkart.com/poco-c55-cool-blue-128-gb/p/itm26aca9fd143ba?pid=MOBGMXSWJHRVUWFE&lid=LSTMOBGMXSWJHRVUWFESKZGEW&marketplace=FLIPKART&q=smart+phone&store=tyy%2F4io&srno=s_1_15&otracker=search&otracker1=search&fm=Search&iid=ebfbcb84-95aa-4c66-9d32-315eaa43827f.MOBGMXSWJHRVUWFE.SEARCH&ppt=sp&ppn=sp&qH=a94e14abfa87c43a\n",
      "https://www.flipkart.com/poco-c55-forest-green-64-gb/p/itm8b99ef9bd674c?pid=MOBGMXSWFYZYWKTD&lid=LSTMOBGMXSWFYZYWKTDWKED3U&marketplace=FLIPKART&q=smart+phone&store=tyy%2F4io&srno=s_1_16&otracker=search&otracker1=search&fm=Search&iid=ebfbcb84-95aa-4c66-9d32-315eaa43827f.MOBGMXSWFYZYWKTD.SEARCH&ppt=sp&ppn=sp&qH=a94e14abfa87c43a\n",
      "https://www.flipkart.com/motorola-g54-5g-pearl-blue-256-gb/p/itmb97dc7f2e0a90?pid=MOBGQFX8EGYZCSGY&lid=LSTMOBGQFX8EGYZCSGYIK07IB&marketplace=FLIPKART&q=smart+phone&store=tyy%2F4io&srno=s_1_17&otracker=search&otracker1=search&fm=Search&iid=ebfbcb84-95aa-4c66-9d32-315eaa43827f.MOBGQFX8EGYZCSGY.SEARCH&ppt=sp&ppn=sp&qH=a94e14abfa87c43a\n",
      "https://www.flipkart.com/poco-c51-royal-blue-64-gb/p/itm1e4e8373537a7?pid=MOBGZCQFCWNDK89P&lid=LSTMOBGZCQFCWNDK89POEPN6S&marketplace=FLIPKART&q=smart+phone&store=tyy%2F4io&srno=s_1_18&otracker=search&otracker1=search&fm=Search&iid=ebfbcb84-95aa-4c66-9d32-315eaa43827f.MOBGZCQFCWNDK89P.SEARCH&ppt=sp&ppn=sp&qH=a94e14abfa87c43a\n",
      "https://www.flipkart.com/apple-iphone-14-plus-starlight-128-gb/p/itmc922ddc8af349?pid=MOBGHWFHVCB2YZYR&lid=LSTMOBGHWFHVCB2YZYREG7ZLM&marketplace=FLIPKART&q=smart+phone&store=tyy%2F4io&srno=s_1_19&otracker=search&otracker1=search&fm=Search&iid=ebfbcb84-95aa-4c66-9d32-315eaa43827f.MOBGHWFHVCB2YZYR.SEARCH&ppt=sp&ppn=sp&qH=a94e14abfa87c43a\n",
      "https://www.flipkart.com/poco-m6-pro-5g-power-black-128-gb/p/itmef8fa46f89738?pid=MOBGRNZ3ER4N3K4F&lid=LSTMOBGRNZ3ER4N3K4FIYYGCU&marketplace=FLIPKART&q=smart+phone&store=tyy%2F4io&srno=s_1_20&otracker=search&otracker1=search&fm=Search&iid=ebfbcb84-95aa-4c66-9d32-315eaa43827f.MOBGRNZ3ER4N3K4F.SEARCH&ppt=sp&ppn=sp&qH=a94e14abfa87c43a\n",
      "https://www.flipkart.com/apple-iphone-14-plus-purple-128-gb/p/itm7a759a472d863?pid=MOBGHWFHYFJWRHAG&lid=LSTMOBGHWFHYFJWRHAGIWEYST&marketplace=FLIPKART&q=smart+phone&store=tyy%2F4io&srno=s_1_21&otracker=search&otracker1=search&fm=Search&iid=ebfbcb84-95aa-4c66-9d32-315eaa43827f.MOBGHWFHYFJWRHAG.SEARCH&ppt=sp&ppn=sp&qH=a94e14abfa87c43a\n",
      "https://www.flipkart.com/oneplus-nord-ce-2-lite-5g-blue-tide-128-gb/p/itm7acae55b999e6?pid=MOBGMFREBAHZQGY9&lid=LSTMOBGMFREBAHZQGY9XX78AU&marketplace=FLIPKART&q=smart+phone&store=tyy%2F4io&srno=s_1_22&otracker=search&otracker1=search&fm=Search&iid=ebfbcb84-95aa-4c66-9d32-315eaa43827f.MOBGMFREBAHZQGY9.SEARCH&ppt=sp&ppn=sp&qH=a94e14abfa87c43a\n",
      "https://www.flipkart.com/poco-m6-pro-5g-forest-green-128-gb/p/itm151f47ed48eee?pid=MOBGRNZ3FZBVRYHQ&lid=LSTMOBGRNZ3FZBVRYHQLWWUJH&marketplace=FLIPKART&q=smart+phone&store=tyy%2F4io&srno=s_1_23&otracker=search&otracker1=search&fm=Search&iid=ebfbcb84-95aa-4c66-9d32-315eaa43827f.MOBGRNZ3FZBVRYHQ.SEARCH&ppt=sp&ppn=sp&qH=a94e14abfa87c43a\n",
      "https://www.flipkart.com/apple-iphone-14-plus-midnight-128-gb/p/itm4199ea6bcd38b?pid=MOBGHWFH3JX6NWWY&lid=LSTMOBGHWFH3JX6NWWYRH38NG&marketplace=FLIPKART&q=smart+phone&store=tyy%2F4io&srno=s_1_24&otracker=search&otracker1=search&fm=Search&iid=ebfbcb84-95aa-4c66-9d32-315eaa43827f.MOBGHWFH3JX6NWWY.SEARCH&ppt=sp&ppn=sp&qH=a94e14abfa87c43a\n"
     ]
    }
   ],
   "source": [
    "Product_URL=driver.find_elements(By.XPATH,\"//div[@class='_2kHMtA']//a\")\n",
    "for i in Product_URL:\n",
    "    print(i.get_attribute('href'))"
   ]
  },
  {
   "cell_type": "code",
   "execution_count": 23,
   "id": "892c0576",
   "metadata": {},
   "outputs": [
    {
     "data": {
      "text/html": [
       "<div>\n",
       "<style scoped>\n",
       "    .dataframe tbody tr th:only-of-type {\n",
       "        vertical-align: middle;\n",
       "    }\n",
       "\n",
       "    .dataframe tbody tr th {\n",
       "        vertical-align: top;\n",
       "    }\n",
       "\n",
       "    .dataframe thead th {\n",
       "        text-align: right;\n",
       "    }\n",
       "</style>\n",
       "<table border=\"1\" class=\"dataframe\">\n",
       "  <thead>\n",
       "    <tr style=\"text-align: right;\">\n",
       "      <th></th>\n",
       "      <th>Brand</th>\n",
       "      <th>Storage_RAM_ROM</th>\n",
       "      <th>P_F_Camera</th>\n",
       "      <th>Display_size_Resolution</th>\n",
       "      <th>ProcessorAndCores</th>\n",
       "      <th>Battery</th>\n",
       "      <th>Price</th>\n",
       "      <th>Product_URL</th>\n",
       "    </tr>\n",
       "  </thead>\n",
       "  <tbody>\n",
       "    <tr>\n",
       "      <th>0</th>\n",
       "      <td>Nokia C20 Plus Smartphone (Ocean Blue, 32 GB)</td>\n",
       "      <td>2 GB RAM | 32 GB ROM</td>\n",
       "      <td>8MP + 2MP | 5MP Front Camera</td>\n",
       "      <td>16.51 cm (6.5 inch) HD+ Display</td>\n",
       "      <td>Unisoc SC9863A Processor</td>\n",
       "      <td>5000 mAh Li-ion Battery</td>\n",
       "      <td>₹8,999</td>\n",
       "      <td>&lt;selenium.webdriver.remote.webelement.WebEleme...</td>\n",
       "    </tr>\n",
       "    <tr>\n",
       "      <th>1</th>\n",
       "      <td>Nokia C20 Plus Smartphone (Ocean Blue, 32 GB)</td>\n",
       "      <td>3 GB RAM | 32 GB ROM</td>\n",
       "      <td>8MP + 2MP | 5MP Front Camera</td>\n",
       "      <td>16.51 cm (6.5 inch) HD+ Display</td>\n",
       "      <td>Unisoc SC9863A Processor</td>\n",
       "      <td>4950 mAh Li-ion Battery</td>\n",
       "      <td>₹8,849</td>\n",
       "      <td>&lt;selenium.webdriver.remote.webelement.WebEleme...</td>\n",
       "    </tr>\n",
       "    <tr>\n",
       "      <th>2</th>\n",
       "      <td>Nokia C20 Plus Smartphone (Dark Grey, 32 GB)</td>\n",
       "      <td>2 GB RAM | 32 GB ROM</td>\n",
       "      <td>8MP + 2MP | 5MP Front Camera</td>\n",
       "      <td>16.51 cm (6.5 inch) HD+ Display</td>\n",
       "      <td>Unisoc SC9863A Processor</td>\n",
       "      <td>5000 mAh Li-ion Battery</td>\n",
       "      <td>₹8,999</td>\n",
       "      <td>&lt;selenium.webdriver.remote.webelement.WebEleme...</td>\n",
       "    </tr>\n",
       "    <tr>\n",
       "      <th>3</th>\n",
       "      <td>TMB TAJ 4G Smartphone (Trans Blue, 32 GB)</td>\n",
       "      <td>3 GB RAM | 32 GB ROM | Expandable Upto 256 GB</td>\n",
       "      <td>5MP Rear Camera</td>\n",
       "      <td>13.84 cm (5.45 inch) Full HD+ Display</td>\n",
       "      <td>1.4GHz Quad Core Processor</td>\n",
       "      <td>3300 mAh Battery</td>\n",
       "      <td>₹5,899</td>\n",
       "      <td>&lt;selenium.webdriver.remote.webelement.WebEleme...</td>\n",
       "    </tr>\n",
       "    <tr>\n",
       "      <th>4</th>\n",
       "      <td>APPLE iPhone 14 (Blue, 128 GB)</td>\n",
       "      <td>128 GB ROM</td>\n",
       "      <td>12MP + 12MP | 12MP Front Camera</td>\n",
       "      <td>15.49 cm (6.1 inch) Super Retina XDR Display</td>\n",
       "      <td>1 Year Warranty for Phone and 6 Months Warrant...</td>\n",
       "      <td>A15 Bionic Chip, 6 Core Processor Processor</td>\n",
       "      <td>₹60,999</td>\n",
       "      <td>&lt;selenium.webdriver.remote.webelement.WebEleme...</td>\n",
       "    </tr>\n",
       "    <tr>\n",
       "      <th>5</th>\n",
       "      <td>APPLE iPhone 14 (Midnight, 128 GB)</td>\n",
       "      <td>128 GB ROM</td>\n",
       "      <td>12MP + 12MP | 12MP Front Camera</td>\n",
       "      <td>15.49 cm (6.1 inch) Super Retina XDR Display</td>\n",
       "      <td>1 Year Warranty for Phone and 6 Months Warrant...</td>\n",
       "      <td>A15 Bionic Chip, 6 Core Processor Processor</td>\n",
       "      <td>₹61,999</td>\n",
       "      <td>&lt;selenium.webdriver.remote.webelement.WebEleme...</td>\n",
       "    </tr>\n",
       "    <tr>\n",
       "      <th>6</th>\n",
       "      <td>SAMSUNG Galaxy F14 5G (OMG Black, 128 GB)</td>\n",
       "      <td>6 GB RAM | 128 GB ROM | Expandable Upto 1 TB</td>\n",
       "      <td>50MP + 2MP | 13MP Front Camera</td>\n",
       "      <td>16.76 cm (6.6 inch) Full HD+ Display</td>\n",
       "      <td>Exynos 1330, Octa Core Processor</td>\n",
       "      <td>6000 mAh Battery</td>\n",
       "      <td>₹12,490</td>\n",
       "      <td>&lt;selenium.webdriver.remote.webelement.WebEleme...</td>\n",
       "    </tr>\n",
       "    <tr>\n",
       "      <th>7</th>\n",
       "      <td>MOTOROLA g54 5G (Mint Green, 128 GB)</td>\n",
       "      <td>8 GB RAM | 128 GB ROM | Expandable Upto 1 TB</td>\n",
       "      <td>50MP (OIS) + 8MP | 16MP Front Camera</td>\n",
       "      <td>16.51 cm (6.5 inch) Full HD+ Display</td>\n",
       "      <td>Dimensity 7020 Processor</td>\n",
       "      <td>6000 mAh Battery</td>\n",
       "      <td>₹13,999</td>\n",
       "      <td>&lt;selenium.webdriver.remote.webelement.WebEleme...</td>\n",
       "    </tr>\n",
       "    <tr>\n",
       "      <th>8</th>\n",
       "      <td>APPLE iPhone 14 (Starlight, 128 GB)</td>\n",
       "      <td>128 GB ROM</td>\n",
       "      <td>12MP + 12MP | 12MP Front Camera</td>\n",
       "      <td>15.49 cm (6.1 inch) Super Retina XDR Display</td>\n",
       "      <td>1 Year Warranty for Phone and 6 Months Warrant...</td>\n",
       "      <td>A15 Bionic Chip, 6 Core Processor Processor</td>\n",
       "      <td>₹61,999</td>\n",
       "      <td>&lt;selenium.webdriver.remote.webelement.WebEleme...</td>\n",
       "    </tr>\n",
       "    <tr>\n",
       "      <th>9</th>\n",
       "      <td>SAMSUNG Galaxy F14 5G (GOAT Green, 128 GB)</td>\n",
       "      <td>6 GB RAM | 128 GB ROM | Expandable Upto 1 TB</td>\n",
       "      <td>50MP + 2MP | 13MP Front Camera</td>\n",
       "      <td>16.76 cm (6.6 inch) Full HD+ Display</td>\n",
       "      <td>Exynos 1330, Octa Core Processor</td>\n",
       "      <td>6000 mAh Battery</td>\n",
       "      <td>₹12,490</td>\n",
       "      <td>&lt;selenium.webdriver.remote.webelement.WebEleme...</td>\n",
       "    </tr>\n",
       "    <tr>\n",
       "      <th>10</th>\n",
       "      <td>MOTOROLA g54 5G (Midnight Blue, 128 GB)</td>\n",
       "      <td>8 GB RAM | 128 GB ROM | Expandable Upto 1 TB</td>\n",
       "      <td>50MP (OIS) + 8MP | 16MP Front Camera</td>\n",
       "      <td>16.51 cm (6.5 inch) Full HD+ Display</td>\n",
       "      <td>Dimensity 7020 Processor</td>\n",
       "      <td>6000 mAh Battery</td>\n",
       "      <td>₹13,999</td>\n",
       "      <td>&lt;selenium.webdriver.remote.webelement.WebEleme...</td>\n",
       "    </tr>\n",
       "    <tr>\n",
       "      <th>11</th>\n",
       "      <td>APPLE iPhone 14 (Purple, 128 GB)</td>\n",
       "      <td>128 GB ROM</td>\n",
       "      <td>12MP + 12MP | 12MP Front Camera</td>\n",
       "      <td>15.49 cm (6.1 inch) Super Retina XDR Display</td>\n",
       "      <td>1 Year Warranty for Phone and 6 Months Warrant...</td>\n",
       "      <td>A15 Bionic Chip, 6 Core Processor Processor</td>\n",
       "      <td>₹61,999</td>\n",
       "      <td>&lt;selenium.webdriver.remote.webelement.WebEleme...</td>\n",
       "    </tr>\n",
       "    <tr>\n",
       "      <th>12</th>\n",
       "      <td>MOTOROLA Edge 40 Neo (Caneel Bay, 128 GB)</td>\n",
       "      <td>8 GB RAM | 128 GB ROM</td>\n",
       "      <td>50MP + 13MP | 32MP Front Camera</td>\n",
       "      <td>16.64 cm (6.55 inch) Full HD+ Display</td>\n",
       "      <td>Dimensity 7030 Processor</td>\n",
       "      <td>5000 mAh Battery</td>\n",
       "      <td>₹22,999</td>\n",
       "      <td>&lt;selenium.webdriver.remote.webelement.WebEleme...</td>\n",
       "    </tr>\n",
       "    <tr>\n",
       "      <th>13</th>\n",
       "      <td>MOTOROLA Edge 40 Neo (Caneel Bay, 256 GB)</td>\n",
       "      <td>12 GB RAM | 256 GB ROM</td>\n",
       "      <td>50MP + 13MP | 32MP Front Camera</td>\n",
       "      <td>16.64 cm (6.55 inch) Full HD+ Display</td>\n",
       "      <td>Dimensity 7030 Processor</td>\n",
       "      <td>5000 mAh Battery</td>\n",
       "      <td>₹24,999</td>\n",
       "      <td>&lt;selenium.webdriver.remote.webelement.WebEleme...</td>\n",
       "    </tr>\n",
       "    <tr>\n",
       "      <th>14</th>\n",
       "      <td>POCO C55 (Cool Blue, 128 GB)</td>\n",
       "      <td>6 GB RAM | 128 GB ROM | Expandable Upto 1 TB</td>\n",
       "      <td>50MP Dual Rear Camera | 5MP Front Camera</td>\n",
       "      <td>17.04 cm (6.71 inch) HD+ Display</td>\n",
       "      <td>Mediatek Helio G85 Processor</td>\n",
       "      <td>5000 mAh Battery</td>\n",
       "      <td>₹8,499</td>\n",
       "      <td>&lt;selenium.webdriver.remote.webelement.WebEleme...</td>\n",
       "    </tr>\n",
       "    <tr>\n",
       "      <th>15</th>\n",
       "      <td>POCO C55 (Forest Green, 64 GB)</td>\n",
       "      <td>4 GB RAM | 64 GB ROM | Expandable Upto 1 TB</td>\n",
       "      <td>50MP Dual Rear Camera | 5MP Front Camera</td>\n",
       "      <td>17.04 cm (6.71 inch) HD+ Display</td>\n",
       "      <td>Mediatek Helio G85 Processor</td>\n",
       "      <td>5000 mAh Battery</td>\n",
       "      <td>₹7,499</td>\n",
       "      <td>&lt;selenium.webdriver.remote.webelement.WebEleme...</td>\n",
       "    </tr>\n",
       "    <tr>\n",
       "      <th>16</th>\n",
       "      <td>MOTOROLA g54 5G (Pearl Blue, 256 GB)</td>\n",
       "      <td>12 GB RAM | 256 GB ROM | Expandable Upto 1 TB</td>\n",
       "      <td>50MP (OIS) + 8MP | 16MP Front Camera</td>\n",
       "      <td>16.51 cm (6.5 inch) Full HD+ Display</td>\n",
       "      <td>Dimensity 7020 Processor</td>\n",
       "      <td>6000 mAh Battery</td>\n",
       "      <td>₹15,999</td>\n",
       "      <td>&lt;selenium.webdriver.remote.webelement.WebEleme...</td>\n",
       "    </tr>\n",
       "    <tr>\n",
       "      <th>17</th>\n",
       "      <td>POCO C51 (Royal Blue, 64 GB)</td>\n",
       "      <td>4 GB RAM | 64 GB ROM | Expandable Upto 1 TB</td>\n",
       "      <td>8MP Dual Rear Camera | 5MP Front Camera</td>\n",
       "      <td>16.56 cm (6.52 inch) HD+ Display</td>\n",
       "      <td>Helio G36 Processor</td>\n",
       "      <td>5000 mAh Battery</td>\n",
       "      <td>₹5,999</td>\n",
       "      <td>&lt;selenium.webdriver.remote.webelement.WebEleme...</td>\n",
       "    </tr>\n",
       "    <tr>\n",
       "      <th>18</th>\n",
       "      <td>APPLE iPhone 14 Plus (Starlight, 128 GB)</td>\n",
       "      <td>128 GB ROM</td>\n",
       "      <td>12MP + 12MP | 12MP Front Camera</td>\n",
       "      <td>17.02 cm (6.7 inch) Super Retina XDR Display</td>\n",
       "      <td>1 Year Warranty for Phone and 6 Months Warrant...</td>\n",
       "      <td>A15 Bionic Chip, 6 Core Processor Processor</td>\n",
       "      <td>₹68,990</td>\n",
       "      <td>&lt;selenium.webdriver.remote.webelement.WebEleme...</td>\n",
       "    </tr>\n",
       "    <tr>\n",
       "      <th>19</th>\n",
       "      <td>POCO M6 Pro 5G (Power Black, 128 GB)</td>\n",
       "      <td>6 GB RAM | 128 GB ROM | Expandable Upto 1 TB</td>\n",
       "      <td>50MP + 2MP | 8MP Front Camera</td>\n",
       "      <td>17.25 cm (6.79 inch) Full HD+ Display</td>\n",
       "      <td>Snapdragon 4 Gen 2 Processor</td>\n",
       "      <td>5000 mAh Battery</td>\n",
       "      <td>₹11,999</td>\n",
       "      <td>&lt;selenium.webdriver.remote.webelement.WebEleme...</td>\n",
       "    </tr>\n",
       "    <tr>\n",
       "      <th>20</th>\n",
       "      <td>APPLE iPhone 14 Plus (Purple, 128 GB)</td>\n",
       "      <td>128 GB ROM</td>\n",
       "      <td>12MP + 12MP | 12MP Front Camera</td>\n",
       "      <td>17.02 cm (6.7 inch) Super Retina XDR Display</td>\n",
       "      <td>1 Year Warranty for Phone and 6 Months Warrant...</td>\n",
       "      <td>A15 Bionic Chip, 6 Core Processor Processor</td>\n",
       "      <td>₹69,990</td>\n",
       "      <td>&lt;selenium.webdriver.remote.webelement.WebEleme...</td>\n",
       "    </tr>\n",
       "    <tr>\n",
       "      <th>21</th>\n",
       "      <td>OnePlus Nord CE 2 Lite 5G (Blue Tide, 128 GB)</td>\n",
       "      <td>6 GB RAM | 128 GB ROM</td>\n",
       "      <td>64MP Rear Camera | 16MP Front Camera</td>\n",
       "      <td>16.74 cm (6.59 inch) Display</td>\n",
       "      <td>12 Months</td>\n",
       "      <td>5000 mAh Battery</td>\n",
       "      <td>₹17,130</td>\n",
       "      <td>&lt;selenium.webdriver.remote.webelement.WebEleme...</td>\n",
       "    </tr>\n",
       "    <tr>\n",
       "      <th>22</th>\n",
       "      <td>POCO M6 Pro 5G (Forest Green, 128 GB)</td>\n",
       "      <td>6 GB RAM | 128 GB ROM | Expandable Upto 1 TB</td>\n",
       "      <td>50MP + 2MP | 8MP Front Camera</td>\n",
       "      <td>17.25 cm (6.79 inch) Full HD+ Display</td>\n",
       "      <td>Snapdragon 4 Gen 2 Processor</td>\n",
       "      <td>5000 mAh Battery</td>\n",
       "      <td>₹11,999</td>\n",
       "      <td>&lt;selenium.webdriver.remote.webelement.WebEleme...</td>\n",
       "    </tr>\n",
       "    <tr>\n",
       "      <th>23</th>\n",
       "      <td>APPLE iPhone 14 Plus (Midnight, 128 GB)</td>\n",
       "      <td>128 GB ROM</td>\n",
       "      <td>12MP + 12MP | 12MP Front Camera</td>\n",
       "      <td>17.02 cm (6.7 inch) Super Retina XDR Display</td>\n",
       "      <td>1 Year Warranty for Phone and 6 Months Warrant...</td>\n",
       "      <td>A15 Bionic Chip, 6 Core Processor Processor</td>\n",
       "      <td>₹69,990</td>\n",
       "      <td>&lt;selenium.webdriver.remote.webelement.WebEleme...</td>\n",
       "    </tr>\n",
       "  </tbody>\n",
       "</table>\n",
       "</div>"
      ],
      "text/plain": [
       "                                            Brand  \\\n",
       "0   Nokia C20 Plus Smartphone (Ocean Blue, 32 GB)   \n",
       "1   Nokia C20 Plus Smartphone (Ocean Blue, 32 GB)   \n",
       "2    Nokia C20 Plus Smartphone (Dark Grey, 32 GB)   \n",
       "3       TMB TAJ 4G Smartphone (Trans Blue, 32 GB)   \n",
       "4                  APPLE iPhone 14 (Blue, 128 GB)   \n",
       "5              APPLE iPhone 14 (Midnight, 128 GB)   \n",
       "6       SAMSUNG Galaxy F14 5G (OMG Black, 128 GB)   \n",
       "7            MOTOROLA g54 5G (Mint Green, 128 GB)   \n",
       "8             APPLE iPhone 14 (Starlight, 128 GB)   \n",
       "9      SAMSUNG Galaxy F14 5G (GOAT Green, 128 GB)   \n",
       "10        MOTOROLA g54 5G (Midnight Blue, 128 GB)   \n",
       "11               APPLE iPhone 14 (Purple, 128 GB)   \n",
       "12      MOTOROLA Edge 40 Neo (Caneel Bay, 128 GB)   \n",
       "13      MOTOROLA Edge 40 Neo (Caneel Bay, 256 GB)   \n",
       "14                   POCO C55 (Cool Blue, 128 GB)   \n",
       "15                 POCO C55 (Forest Green, 64 GB)   \n",
       "16           MOTOROLA g54 5G (Pearl Blue, 256 GB)   \n",
       "17                   POCO C51 (Royal Blue, 64 GB)   \n",
       "18       APPLE iPhone 14 Plus (Starlight, 128 GB)   \n",
       "19           POCO M6 Pro 5G (Power Black, 128 GB)   \n",
       "20          APPLE iPhone 14 Plus (Purple, 128 GB)   \n",
       "21  OnePlus Nord CE 2 Lite 5G (Blue Tide, 128 GB)   \n",
       "22          POCO M6 Pro 5G (Forest Green, 128 GB)   \n",
       "23        APPLE iPhone 14 Plus (Midnight, 128 GB)   \n",
       "\n",
       "                                  Storage_RAM_ROM  \\\n",
       "0                            2 GB RAM | 32 GB ROM   \n",
       "1                            3 GB RAM | 32 GB ROM   \n",
       "2                            2 GB RAM | 32 GB ROM   \n",
       "3   3 GB RAM | 32 GB ROM | Expandable Upto 256 GB   \n",
       "4                                      128 GB ROM   \n",
       "5                                      128 GB ROM   \n",
       "6    6 GB RAM | 128 GB ROM | Expandable Upto 1 TB   \n",
       "7    8 GB RAM | 128 GB ROM | Expandable Upto 1 TB   \n",
       "8                                      128 GB ROM   \n",
       "9    6 GB RAM | 128 GB ROM | Expandable Upto 1 TB   \n",
       "10   8 GB RAM | 128 GB ROM | Expandable Upto 1 TB   \n",
       "11                                     128 GB ROM   \n",
       "12                          8 GB RAM | 128 GB ROM   \n",
       "13                         12 GB RAM | 256 GB ROM   \n",
       "14   6 GB RAM | 128 GB ROM | Expandable Upto 1 TB   \n",
       "15    4 GB RAM | 64 GB ROM | Expandable Upto 1 TB   \n",
       "16  12 GB RAM | 256 GB ROM | Expandable Upto 1 TB   \n",
       "17    4 GB RAM | 64 GB ROM | Expandable Upto 1 TB   \n",
       "18                                     128 GB ROM   \n",
       "19   6 GB RAM | 128 GB ROM | Expandable Upto 1 TB   \n",
       "20                                     128 GB ROM   \n",
       "21                          6 GB RAM | 128 GB ROM   \n",
       "22   6 GB RAM | 128 GB ROM | Expandable Upto 1 TB   \n",
       "23                                     128 GB ROM   \n",
       "\n",
       "                                  P_F_Camera  \\\n",
       "0               8MP + 2MP | 5MP Front Camera   \n",
       "1               8MP + 2MP | 5MP Front Camera   \n",
       "2               8MP + 2MP | 5MP Front Camera   \n",
       "3                            5MP Rear Camera   \n",
       "4            12MP + 12MP | 12MP Front Camera   \n",
       "5            12MP + 12MP | 12MP Front Camera   \n",
       "6             50MP + 2MP | 13MP Front Camera   \n",
       "7       50MP (OIS) + 8MP | 16MP Front Camera   \n",
       "8            12MP + 12MP | 12MP Front Camera   \n",
       "9             50MP + 2MP | 13MP Front Camera   \n",
       "10      50MP (OIS) + 8MP | 16MP Front Camera   \n",
       "11           12MP + 12MP | 12MP Front Camera   \n",
       "12           50MP + 13MP | 32MP Front Camera   \n",
       "13           50MP + 13MP | 32MP Front Camera   \n",
       "14  50MP Dual Rear Camera | 5MP Front Camera   \n",
       "15  50MP Dual Rear Camera | 5MP Front Camera   \n",
       "16      50MP (OIS) + 8MP | 16MP Front Camera   \n",
       "17   8MP Dual Rear Camera | 5MP Front Camera   \n",
       "18           12MP + 12MP | 12MP Front Camera   \n",
       "19             50MP + 2MP | 8MP Front Camera   \n",
       "20           12MP + 12MP | 12MP Front Camera   \n",
       "21      64MP Rear Camera | 16MP Front Camera   \n",
       "22             50MP + 2MP | 8MP Front Camera   \n",
       "23           12MP + 12MP | 12MP Front Camera   \n",
       "\n",
       "                         Display_size_Resolution  \\\n",
       "0                16.51 cm (6.5 inch) HD+ Display   \n",
       "1                16.51 cm (6.5 inch) HD+ Display   \n",
       "2                16.51 cm (6.5 inch) HD+ Display   \n",
       "3          13.84 cm (5.45 inch) Full HD+ Display   \n",
       "4   15.49 cm (6.1 inch) Super Retina XDR Display   \n",
       "5   15.49 cm (6.1 inch) Super Retina XDR Display   \n",
       "6           16.76 cm (6.6 inch) Full HD+ Display   \n",
       "7           16.51 cm (6.5 inch) Full HD+ Display   \n",
       "8   15.49 cm (6.1 inch) Super Retina XDR Display   \n",
       "9           16.76 cm (6.6 inch) Full HD+ Display   \n",
       "10          16.51 cm (6.5 inch) Full HD+ Display   \n",
       "11  15.49 cm (6.1 inch) Super Retina XDR Display   \n",
       "12         16.64 cm (6.55 inch) Full HD+ Display   \n",
       "13         16.64 cm (6.55 inch) Full HD+ Display   \n",
       "14              17.04 cm (6.71 inch) HD+ Display   \n",
       "15              17.04 cm (6.71 inch) HD+ Display   \n",
       "16          16.51 cm (6.5 inch) Full HD+ Display   \n",
       "17              16.56 cm (6.52 inch) HD+ Display   \n",
       "18  17.02 cm (6.7 inch) Super Retina XDR Display   \n",
       "19         17.25 cm (6.79 inch) Full HD+ Display   \n",
       "20  17.02 cm (6.7 inch) Super Retina XDR Display   \n",
       "21                  16.74 cm (6.59 inch) Display   \n",
       "22         17.25 cm (6.79 inch) Full HD+ Display   \n",
       "23  17.02 cm (6.7 inch) Super Retina XDR Display   \n",
       "\n",
       "                                    ProcessorAndCores  \\\n",
       "0                            Unisoc SC9863A Processor   \n",
       "1                            Unisoc SC9863A Processor   \n",
       "2                            Unisoc SC9863A Processor   \n",
       "3                          1.4GHz Quad Core Processor   \n",
       "4   1 Year Warranty for Phone and 6 Months Warrant...   \n",
       "5   1 Year Warranty for Phone and 6 Months Warrant...   \n",
       "6                    Exynos 1330, Octa Core Processor   \n",
       "7                            Dimensity 7020 Processor   \n",
       "8   1 Year Warranty for Phone and 6 Months Warrant...   \n",
       "9                    Exynos 1330, Octa Core Processor   \n",
       "10                           Dimensity 7020 Processor   \n",
       "11  1 Year Warranty for Phone and 6 Months Warrant...   \n",
       "12                           Dimensity 7030 Processor   \n",
       "13                           Dimensity 7030 Processor   \n",
       "14                       Mediatek Helio G85 Processor   \n",
       "15                       Mediatek Helio G85 Processor   \n",
       "16                           Dimensity 7020 Processor   \n",
       "17                                Helio G36 Processor   \n",
       "18  1 Year Warranty for Phone and 6 Months Warrant...   \n",
       "19                       Snapdragon 4 Gen 2 Processor   \n",
       "20  1 Year Warranty for Phone and 6 Months Warrant...   \n",
       "21                                          12 Months   \n",
       "22                       Snapdragon 4 Gen 2 Processor   \n",
       "23  1 Year Warranty for Phone and 6 Months Warrant...   \n",
       "\n",
       "                                        Battery    Price  \\\n",
       "0                       5000 mAh Li-ion Battery   ₹8,999   \n",
       "1                       4950 mAh Li-ion Battery   ₹8,849   \n",
       "2                       5000 mAh Li-ion Battery   ₹8,999   \n",
       "3                              3300 mAh Battery   ₹5,899   \n",
       "4   A15 Bionic Chip, 6 Core Processor Processor  ₹60,999   \n",
       "5   A15 Bionic Chip, 6 Core Processor Processor  ₹61,999   \n",
       "6                              6000 mAh Battery  ₹12,490   \n",
       "7                              6000 mAh Battery  ₹13,999   \n",
       "8   A15 Bionic Chip, 6 Core Processor Processor  ₹61,999   \n",
       "9                              6000 mAh Battery  ₹12,490   \n",
       "10                             6000 mAh Battery  ₹13,999   \n",
       "11  A15 Bionic Chip, 6 Core Processor Processor  ₹61,999   \n",
       "12                             5000 mAh Battery  ₹22,999   \n",
       "13                             5000 mAh Battery  ₹24,999   \n",
       "14                             5000 mAh Battery   ₹8,499   \n",
       "15                             5000 mAh Battery   ₹7,499   \n",
       "16                             6000 mAh Battery  ₹15,999   \n",
       "17                             5000 mAh Battery   ₹5,999   \n",
       "18  A15 Bionic Chip, 6 Core Processor Processor  ₹68,990   \n",
       "19                             5000 mAh Battery  ₹11,999   \n",
       "20  A15 Bionic Chip, 6 Core Processor Processor  ₹69,990   \n",
       "21                             5000 mAh Battery  ₹17,130   \n",
       "22                             5000 mAh Battery  ₹11,999   \n",
       "23  A15 Bionic Chip, 6 Core Processor Processor  ₹69,990   \n",
       "\n",
       "                                          Product_URL  \n",
       "0   <selenium.webdriver.remote.webelement.WebEleme...  \n",
       "1   <selenium.webdriver.remote.webelement.WebEleme...  \n",
       "2   <selenium.webdriver.remote.webelement.WebEleme...  \n",
       "3   <selenium.webdriver.remote.webelement.WebEleme...  \n",
       "4   <selenium.webdriver.remote.webelement.WebEleme...  \n",
       "5   <selenium.webdriver.remote.webelement.WebEleme...  \n",
       "6   <selenium.webdriver.remote.webelement.WebEleme...  \n",
       "7   <selenium.webdriver.remote.webelement.WebEleme...  \n",
       "8   <selenium.webdriver.remote.webelement.WebEleme...  \n",
       "9   <selenium.webdriver.remote.webelement.WebEleme...  \n",
       "10  <selenium.webdriver.remote.webelement.WebEleme...  \n",
       "11  <selenium.webdriver.remote.webelement.WebEleme...  \n",
       "12  <selenium.webdriver.remote.webelement.WebEleme...  \n",
       "13  <selenium.webdriver.remote.webelement.WebEleme...  \n",
       "14  <selenium.webdriver.remote.webelement.WebEleme...  \n",
       "15  <selenium.webdriver.remote.webelement.WebEleme...  \n",
       "16  <selenium.webdriver.remote.webelement.WebEleme...  \n",
       "17  <selenium.webdriver.remote.webelement.WebEleme...  \n",
       "18  <selenium.webdriver.remote.webelement.WebEleme...  \n",
       "19  <selenium.webdriver.remote.webelement.WebEleme...  \n",
       "20  <selenium.webdriver.remote.webelement.WebEleme...  \n",
       "21  <selenium.webdriver.remote.webelement.WebEleme...  \n",
       "22  <selenium.webdriver.remote.webelement.WebEleme...  \n",
       "23  <selenium.webdriver.remote.webelement.WebEleme...  "
      ]
     },
     "execution_count": 23,
     "metadata": {},
     "output_type": "execute_result"
    }
   ],
   "source": [
    "import pandas as pd\n",
    "df=pd.DataFrame({'Brand':Brand_Name,'Storage_RAM_ROM':Storage_RAM_ROM,'P_F_Camera':P_F_Camera,'Display_size_Resolution':Display_size_Resolution,'ProcessorAndCores':ProcessorAndCores,'Battery':Battery,'Price':Price,'Product_URL':Product_URL})\n",
    "df\n"
   ]
  },
  {
   "cell_type": "code",
   "execution_count": 5,
   "id": "3b8e85c3",
   "metadata": {},
   "outputs": [],
   "source": [
    "driver.get(\"https://www.google.co.in/maps\")"
   ]
  },
  {
   "cell_type": "code",
   "execution_count": 6,
   "id": "37af89fc",
   "metadata": {},
   "outputs": [
    {
     "name": "stdout",
     "output_type": "stream",
     "text": [
      "Enter City Name : hyderabad\n"
     ]
    },
    {
     "ename": "NoSuchElementException",
     "evalue": "Message: no such element: Unable to locate element: {\"method\":\"css selector\",\"selector\":\".searchboxinput xiQnY\"}\n  (Session info: chrome=120.0.6099.109); For documentation on this error, please visit: https://www.selenium.dev/documentation/webdriver/troubleshooting/errors#no-such-element-exception\nStacktrace:\n\tGetHandleVerifier [0x00007FF6931C4D02+56194]\n\t(No symbol) [0x00007FF6931304B2]\n\t(No symbol) [0x00007FF692FD76AA]\n\t(No symbol) [0x00007FF6930216D0]\n\t(No symbol) [0x00007FF6930217EC]\n\t(No symbol) [0x00007FF693064D77]\n\t(No symbol) [0x00007FF693045EBF]\n\t(No symbol) [0x00007FF693062786]\n\t(No symbol) [0x00007FF693045C23]\n\t(No symbol) [0x00007FF693014A45]\n\t(No symbol) [0x00007FF693015AD4]\n\tGetHandleVerifier [0x00007FF69353D5BB+3695675]\n\tGetHandleVerifier [0x00007FF693596197+4059159]\n\tGetHandleVerifier [0x00007FF69358DF63+4025827]\n\tGetHandleVerifier [0x00007FF69325F029+687785]\n\t(No symbol) [0x00007FF69313B508]\n\t(No symbol) [0x00007FF693137564]\n\t(No symbol) [0x00007FF6931376E9]\n\t(No symbol) [0x00007FF693128094]\n\tBaseThreadInitThunk [0x00007FF864F0257D+29]\n\tRtlUserThreadStart [0x00007FF8662AAA58+40]\n",
     "output_type": "error",
     "traceback": [
      "\u001b[1;31m---------------------------------------------------------------------------\u001b[0m",
      "\u001b[1;31mNoSuchElementException\u001b[0m                    Traceback (most recent call last)",
      "Cell \u001b[1;32mIn[6], line 2\u001b[0m\n\u001b[0;32m      1\u001b[0m city \u001b[38;5;241m=\u001b[39m \u001b[38;5;28minput\u001b[39m(\u001b[38;5;124m'\u001b[39m\u001b[38;5;124mEnter City Name : \u001b[39m\u001b[38;5;124m'\u001b[39m)                         \n\u001b[1;32m----> 2\u001b[0m search \u001b[38;5;241m=\u001b[39m \u001b[43mdriver\u001b[49m\u001b[38;5;241;43m.\u001b[39;49m\u001b[43mfind_element\u001b[49m\u001b[43m(\u001b[49m\u001b[43mBy\u001b[49m\u001b[38;5;241;43m.\u001b[39;49m\u001b[43mCLASS_NAME\u001b[49m\u001b[43m,\u001b[49m\u001b[38;5;124;43m\"\u001b[39;49m\u001b[38;5;124;43msearchboxinput xiQnY\u001b[39;49m\u001b[38;5;124;43m\"\u001b[39;49m\u001b[43m)\u001b[49m                                                                                                                                                     \n\u001b[0;32m      3\u001b[0m search\u001b[38;5;241m.\u001b[39mclear()\n\u001b[0;32m      4\u001b[0m time\u001b[38;5;241m.\u001b[39msleep(\u001b[38;5;241m2\u001b[39m)\n",
      "File \u001b[1;32mC:\\Users\\Public\\python\\lib\\site-packages\\selenium\\webdriver\\remote\\webdriver.py:741\u001b[0m, in \u001b[0;36mWebDriver.find_element\u001b[1;34m(self, by, value)\u001b[0m\n\u001b[0;32m    738\u001b[0m     by \u001b[38;5;241m=\u001b[39m By\u001b[38;5;241m.\u001b[39mCSS_SELECTOR\n\u001b[0;32m    739\u001b[0m     value \u001b[38;5;241m=\u001b[39m \u001b[38;5;124mf\u001b[39m\u001b[38;5;124m'\u001b[39m\u001b[38;5;124m[name=\u001b[39m\u001b[38;5;124m\"\u001b[39m\u001b[38;5;132;01m{\u001b[39;00mvalue\u001b[38;5;132;01m}\u001b[39;00m\u001b[38;5;124m\"\u001b[39m\u001b[38;5;124m]\u001b[39m\u001b[38;5;124m'\u001b[39m\n\u001b[1;32m--> 741\u001b[0m \u001b[38;5;28;01mreturn\u001b[39;00m \u001b[38;5;28;43mself\u001b[39;49m\u001b[38;5;241;43m.\u001b[39;49m\u001b[43mexecute\u001b[49m\u001b[43m(\u001b[49m\u001b[43mCommand\u001b[49m\u001b[38;5;241;43m.\u001b[39;49m\u001b[43mFIND_ELEMENT\u001b[49m\u001b[43m,\u001b[49m\u001b[43m \u001b[49m\u001b[43m{\u001b[49m\u001b[38;5;124;43m\"\u001b[39;49m\u001b[38;5;124;43musing\u001b[39;49m\u001b[38;5;124;43m\"\u001b[39;49m\u001b[43m:\u001b[49m\u001b[43m \u001b[49m\u001b[43mby\u001b[49m\u001b[43m,\u001b[49m\u001b[43m \u001b[49m\u001b[38;5;124;43m\"\u001b[39;49m\u001b[38;5;124;43mvalue\u001b[39;49m\u001b[38;5;124;43m\"\u001b[39;49m\u001b[43m:\u001b[49m\u001b[43m \u001b[49m\u001b[43mvalue\u001b[49m\u001b[43m}\u001b[49m\u001b[43m)\u001b[49m[\u001b[38;5;124m\"\u001b[39m\u001b[38;5;124mvalue\u001b[39m\u001b[38;5;124m\"\u001b[39m]\n",
      "File \u001b[1;32mC:\\Users\\Public\\python\\lib\\site-packages\\selenium\\webdriver\\remote\\webdriver.py:347\u001b[0m, in \u001b[0;36mWebDriver.execute\u001b[1;34m(self, driver_command, params)\u001b[0m\n\u001b[0;32m    345\u001b[0m response \u001b[38;5;241m=\u001b[39m \u001b[38;5;28mself\u001b[39m\u001b[38;5;241m.\u001b[39mcommand_executor\u001b[38;5;241m.\u001b[39mexecute(driver_command, params)\n\u001b[0;32m    346\u001b[0m \u001b[38;5;28;01mif\u001b[39;00m response:\n\u001b[1;32m--> 347\u001b[0m     \u001b[38;5;28;43mself\u001b[39;49m\u001b[38;5;241;43m.\u001b[39;49m\u001b[43merror_handler\u001b[49m\u001b[38;5;241;43m.\u001b[39;49m\u001b[43mcheck_response\u001b[49m\u001b[43m(\u001b[49m\u001b[43mresponse\u001b[49m\u001b[43m)\u001b[49m\n\u001b[0;32m    348\u001b[0m     response[\u001b[38;5;124m\"\u001b[39m\u001b[38;5;124mvalue\u001b[39m\u001b[38;5;124m\"\u001b[39m] \u001b[38;5;241m=\u001b[39m \u001b[38;5;28mself\u001b[39m\u001b[38;5;241m.\u001b[39m_unwrap_value(response\u001b[38;5;241m.\u001b[39mget(\u001b[38;5;124m\"\u001b[39m\u001b[38;5;124mvalue\u001b[39m\u001b[38;5;124m\"\u001b[39m, \u001b[38;5;28;01mNone\u001b[39;00m))\n\u001b[0;32m    349\u001b[0m     \u001b[38;5;28;01mreturn\u001b[39;00m response\n",
      "File \u001b[1;32mC:\\Users\\Public\\python\\lib\\site-packages\\selenium\\webdriver\\remote\\errorhandler.py:229\u001b[0m, in \u001b[0;36mErrorHandler.check_response\u001b[1;34m(self, response)\u001b[0m\n\u001b[0;32m    227\u001b[0m         alert_text \u001b[38;5;241m=\u001b[39m value[\u001b[38;5;124m\"\u001b[39m\u001b[38;5;124malert\u001b[39m\u001b[38;5;124m\"\u001b[39m]\u001b[38;5;241m.\u001b[39mget(\u001b[38;5;124m\"\u001b[39m\u001b[38;5;124mtext\u001b[39m\u001b[38;5;124m\"\u001b[39m)\n\u001b[0;32m    228\u001b[0m     \u001b[38;5;28;01mraise\u001b[39;00m exception_class(message, screen, stacktrace, alert_text)  \u001b[38;5;66;03m# type: ignore[call-arg]  # mypy is not smart enough here\u001b[39;00m\n\u001b[1;32m--> 229\u001b[0m \u001b[38;5;28;01mraise\u001b[39;00m exception_class(message, screen, stacktrace)\n",
      "\u001b[1;31mNoSuchElementException\u001b[0m: Message: no such element: Unable to locate element: {\"method\":\"css selector\",\"selector\":\".searchboxinput xiQnY\"}\n  (Session info: chrome=120.0.6099.109); For documentation on this error, please visit: https://www.selenium.dev/documentation/webdriver/troubleshooting/errors#no-such-element-exception\nStacktrace:\n\tGetHandleVerifier [0x00007FF6931C4D02+56194]\n\t(No symbol) [0x00007FF6931304B2]\n\t(No symbol) [0x00007FF692FD76AA]\n\t(No symbol) [0x00007FF6930216D0]\n\t(No symbol) [0x00007FF6930217EC]\n\t(No symbol) [0x00007FF693064D77]\n\t(No symbol) [0x00007FF693045EBF]\n\t(No symbol) [0x00007FF693062786]\n\t(No symbol) [0x00007FF693045C23]\n\t(No symbol) [0x00007FF693014A45]\n\t(No symbol) [0x00007FF693015AD4]\n\tGetHandleVerifier [0x00007FF69353D5BB+3695675]\n\tGetHandleVerifier [0x00007FF693596197+4059159]\n\tGetHandleVerifier [0x00007FF69358DF63+4025827]\n\tGetHandleVerifier [0x00007FF69325F029+687785]\n\t(No symbol) [0x00007FF69313B508]\n\t(No symbol) [0x00007FF693137564]\n\t(No symbol) [0x00007FF6931376E9]\n\t(No symbol) [0x00007FF693128094]\n\tBaseThreadInitThunk [0x00007FF864F0257D+29]\n\tRtlUserThreadStart [0x00007FF8662AAA58+40]\n"
     ]
    }
   ],
   "source": [
    "city = input('Enter City Name : ')                         \n",
    "search = driver.find_element(By.CLASS_NAME,\"searchboxinput xiQnY\")                                                                                                                                                     \n",
    "search.clear()\n",
    "time.sleep(2)\n",
    "search.send_keys(city)                                            \n",
    "button = driver.find_element(By.CLASS_NAME,\"NhWQq\")          \n",
    "button.click()\n",
    "time.sleep(3)"
   ]
  },
  {
   "cell_type": "code",
   "execution_count": 7,
   "id": "4a36922c",
   "metadata": {},
   "outputs": [],
   "source": [
    "import regex as re"
   ]
  },
  {
   "cell_type": "code",
   "execution_count": 9,
   "id": "ad311d74",
   "metadata": {},
   "outputs": [
    {
     "name": "stdout",
     "output_type": "stream",
     "text": [
      "URL Extracted:  https://www.google.co.in/maps/place/Hyderabad,+Telangana/@17.4120779,78.0783739,10z/data=!3m1!4b1!4m6!3m5!1s0x3bcb99daeaebd2c7:0xae93b78392bafbc2!8m2!3d17.406498!4d78.4772439!16zL20vMDljNnc?entry=ttu\n",
      "Latitude = 17.4120779, Longitude = 78.0783739\n"
     ]
    }
   ],
   "source": [
    "try:\n",
    "    url_string = driver.current_url\n",
    "    print(\"URL Extracted: \", url_string)\n",
    "    lat_lng = re.findall(r'@(.*)data',url_string)\n",
    "    if len(lat_lng):\n",
    "        lat_lng_list = lat_lng[0].split(\",\")\n",
    "        if len(lat_lng_list)>=2:\n",
    "            lat = lat_lng_list[0]\n",
    "            lng = lat_lng_list[1]\n",
    "        print(\"Latitude = {}, Longitude = {}\".format(lat, lng))\n",
    "\n",
    "except Exception as e:\n",
    "        print(\"Error: \", str(e))"
   ]
  },
  {
   "cell_type": "code",
   "execution_count": 5,
   "id": "126e28bd",
   "metadata": {},
   "outputs": [],
   "source": [
    "driver.get(\"https://www.digit.in/top-products/best-gaming-laptops-40.html\")"
   ]
  },
  {
   "cell_type": "code",
   "execution_count": 6,
   "id": "47965e4c",
   "metadata": {},
   "outputs": [],
   "source": [
    "Brands=[]\n",
    "Price=[]"
   ]
  },
  {
   "cell_type": "code",
   "execution_count": 7,
   "id": "a4403542",
   "metadata": {},
   "outputs": [
    {
     "data": {
      "text/plain": [
       "['HP Omen 17-ck2008TX 13th Gen Core i7-13700HX',\n",
       " 'MSI GT77 Titan 12UHS-054IN 12th Gen Core i9-12900HX',\n",
       " 'Lenovo Legion 5i Pro 12th Gen Core i7-12700H (82RF00E1IN)',\n",
       " 'ASUS ROG Strix Scar 18 G834JZ-N5041WS 13th Gen Core i9-13980HX',\n",
       " 'Acer Predator Helios Neo 16 13th Gen Core i7-13700HX (PHN16-71)',\n",
       " 'ASUS ROG Zephyrus G14 Ryzen 9-6900HS (GA402RJZ-L4136WS)',\n",
       " 'MSI Cyborg 15 12th Gen Core i7-12650H (A12VF-205IN)',\n",
       " 'MSI Cyborg 15 12th Gen Core i7-12650H (A12VF-205IN)']"
      ]
     },
     "execution_count": 7,
     "metadata": {},
     "output_type": "execute_result"
    }
   ],
   "source": [
    "brand_tag=driver.find_elements(By.XPATH,'//div[@class=\"rh_gr_top_middle mb10 colored_rate_bar\"]')\n",
    "for i in brand_tag:\n",
    "    brand=i.text\n",
    "    Brands.append(brand)\n",
    "len(Brands)\n",
    "Brands.append(str(i.text).replace(\"\\n\",\"\"))\n",
    "Brands"
   ]
  },
  {
   "cell_type": "code",
   "execution_count": 8,
   "id": "01508d32",
   "metadata": {},
   "outputs": [
    {
     "data": {
      "text/plain": [
       "['Rs. 259,499',\n",
       " 'Rs. 154,990',\n",
       " 'Rs. 139,990',\n",
       " 'Rs. 118,700',\n",
       " 'Rs. 12,999',\n",
       " 'Rs. 14,990',\n",
       " 'Rs. 49,999',\n",
       " 'Rs. 99,900']"
      ]
     },
     "execution_count": 8,
     "metadata": {},
     "output_type": "execute_result"
    }
   ],
   "source": [
    "p=driver.find_elements(By.XPATH,'//div[@class=\"cegg-price cegg-price-color cegg-price-instock\"]')\n",
    "for i in p:\n",
    "    Price.append(str(i.text).replace(\"\\n\",\"\"))\n",
    "Price"
   ]
  },
  {
   "cell_type": "code",
   "execution_count": 5,
   "id": "b3a5c386",
   "metadata": {},
   "outputs": [],
   "source": [
    "driver.get(\"https://www.youtube.com/watch?v=your_video_id\")"
   ]
  },
  {
   "cell_type": "code",
   "execution_count": 6,
   "id": "2484c476",
   "metadata": {},
   "outputs": [],
   "source": [
    "comments=[]\n",
    "upvotes=[]\n",
    " "
   ]
  },
  {
   "cell_type": "code",
   "execution_count": 14,
   "id": "5f4a8e78",
   "metadata": {},
   "outputs": [],
   "source": [
    "for page in range(0,3):\n",
    "    comments_tag=driver.find_elements(By.XPATH,'//yt-formatted-string[@class=\"style-scope ytd-video-renderer\"]')\n",
    "    for i in comments_tag:\n",
    "        comment=i.text\n",
    "        comments.append(comment)\n",
    "        comments[:500]\n",
    "    upvotes_tag=driver.find_elements(By.XPATH,'//div[@class=\"style-scope ytd-channel-name\"]')\n",
    "    for i in upvotes_tag:\n",
    "        upvote=i.text\n",
    "        upvotes.append(upvote)\n",
    "        upvotes[:500]\n",
    "    "
   ]
  },
  {
   "cell_type": "code",
   "execution_count": 15,
   "id": "756dbb7b",
   "metadata": {},
   "outputs": [
    {
     "data": {
      "text/plain": [
       "276"
      ]
     },
     "execution_count": 15,
     "metadata": {},
     "output_type": "execute_result"
    }
   ],
   "source": [
    "len(comments)"
   ]
  },
  {
   "cell_type": "code",
   "execution_count": 16,
   "id": "60ecb6bb",
   "metadata": {},
   "outputs": [
    {
     "data": {
      "text/plain": [
       "564"
      ]
     },
     "execution_count": 16,
     "metadata": {},
     "output_type": "execute_result"
    }
   ],
   "source": [
    "len(upvotes)"
   ]
  },
  {
   "cell_type": "code",
   "execution_count": 5,
   "id": "154b4a23",
   "metadata": {},
   "outputs": [],
   "source": [
    "driver.get('https://www.youtube.com/watch?v=your_video_id')\n",
    "scroll_pause_time = 2 \n",
    "scrolls = 10 \n",
    "\n",
    "for _ in range(scrolls):\n",
    "  driver.execute_script(\"window.scrollTo(0, document.documentElement.scrollHeight);\")\n",
    "  time.sleep(scroll_pause_time)\n",
    "comments = driver.find_elements(By.XPATH,'//yt-formatted-string[@id=\"content-text\"]')\n",
    "upvotes = driver.find_elements(By.XPATH,'//span[@id=\"vote-count-middle\"]')\n",
    "times = driver.find_elements(By.XPATH,'//a[@class=\"yt-simple-endpoint style-scope yt-formatted-string\"]')\n",
    "extracted_data = []\n",
    "for comment, upvote, time in zip(comments, upvotes, times):\n",
    "  extracted_data.append({\n",
    "  'comment': comment.text,\n",
    "  'upvote': upvote.text,\n",
    "  'time': time.text\n",
    "driver.quit()\n",
    "for data in extracted_data:\n",
    "    print(data)"
   ]
  },
  {
   "cell_type": "code",
   "execution_count": 11,
   "id": "156ba7f4",
   "metadata": {},
   "outputs": [],
   "source": [
    "driver.get(\"https://www.hostelworld.com/ in\")"
   ]
  },
  {
   "cell_type": "code",
   "execution_count": 12,
   "id": "1668043d",
   "metadata": {},
   "outputs": [],
   "source": [
    "search=driver.find_element(By.XPATH,\"/html/body/div[3]/div/div/div[3]/div/main/div/div[2]/button\")\n",
    "search.click()"
   ]
  },
  {
   "cell_type": "code",
   "execution_count": 13,
   "id": "351e6660",
   "metadata": {},
   "outputs": [],
   "source": [
    "Brand_Name=[]\n",
    "d_t=[]\n",
    "r_score=[]\n",
    "prices=[]\n",
    "review=[]\n",
    "description=[]\n",
    "facilities=[]"
   ]
  },
  {
   "cell_type": "code",
   "execution_count": 17,
   "id": "1e859dc9",
   "metadata": {},
   "outputs": [
    {
     "ename": "SyntaxError",
     "evalue": "unterminated string literal (detected at line 25) (1699924919.py, line 25)",
     "output_type": "error",
     "traceback": [
      "\u001b[1;36m  Cell \u001b[1;32mIn[17], line 25\u001b[1;36m\u001b[0m\n\u001b[1;33m    ds_tag=driver.find_elements(By.XPATH,'//div[@class=\"description-container\"])\u001b[0m\n\u001b[1;37m                                         ^\u001b[0m\n\u001b[1;31mSyntaxError\u001b[0m\u001b[1;31m:\u001b[0m unterminated string literal (detected at line 25)\n"
     ]
    }
   ],
   "source": [
    "\n",
    "    brand_tag=driver.find_elements(By.XPATH,'//div[@class=\"property-name\"]')\n",
    "    for i in brand_tag:\n",
    "            brand=i.text\n",
    "            Brand_Name.append(brand)\n",
    "            Brand_Name[:30]\n",
    "    d_tag=driver.find_elements(By.XPATH,'//div[@class=\"property-distance\"]')\n",
    "    for i in d_tag:\n",
    "            d=i.text\n",
    "            d_t.append(d)\n",
    "            d_t[:30]\n",
    "    r_tag=driver.find_elements(By.XPATH,'//div[@class=\"rating-score\"]')\n",
    "    for i in r_tag:\n",
    "            rating=i.text\n",
    "            r_score.append(rating)\n",
    "            r_score[:30]\n",
    "    p_tag=driver.find_elements(By.XPATH,'//div[@class=\"accommodation-price\"]')\n",
    "    for i in p_tag:\n",
    "            price=i.text\n",
    "            prices.append(price)\n",
    "            prices[:30]\n",
    "    re_tag=driver.find_elements(By.XPATH,'//div[@class=\"review\"]')\n",
    "    for i in re_tag:\n",
    "            ree=i.text\n",
    "            review.append(ree)\n",
    "    ds_tag=driver.find_elements(By.XPATH,'//div[@class=\"description-container\"])\n",
    "    for i in ds_tag:\n",
    "            des=i.text\n",
    "            description.append(des)\n",
    "            description[:30]\n",
    "    f=driver.find_elements(By.XPATH,'//div[@class=\"facilities-container\"]')\n",
    "    for i in f:\n",
    "           fa=i.text\n",
    "            facilities.append(fa)\n",
    "            facilities[:30]        \n",
    "            \n",
    "    "
   ]
  },
  {
   "cell_type": "code",
   "execution_count": null,
   "id": "bb0f38db",
   "metadata": {},
   "outputs": [],
   "source": [
    " ds_tag=driver.find_elements(By.XPATH,'//div[@class=\"description-container\"])\n",
    "    for i in ds_tag:\n",
    "            des=i.text\n",
    "            description.append(des)\n",
    "            description[:30]\n",
    "    f=driver.find_elements(By.XPATH,'//div[@class=\"facilities-container\"]')\n",
    "    for i in f:\n",
    "           fa=i.text\n",
    "            facilities.append(fa)\n",
    "            facilities[:30]"
   ]
  }
 ],
 "metadata": {
  "kernelspec": {
   "display_name": "Python 3 (ipykernel)",
   "language": "python",
   "name": "python3"
  },
  "language_info": {
   "codemirror_mode": {
    "name": "ipython",
    "version": 3
   },
   "file_extension": ".py",
   "mimetype": "text/x-python",
   "name": "python",
   "nbconvert_exporter": "python",
   "pygments_lexer": "ipython3",
   "version": "3.10.9"
  }
 },
 "nbformat": 4,
 "nbformat_minor": 5
}
